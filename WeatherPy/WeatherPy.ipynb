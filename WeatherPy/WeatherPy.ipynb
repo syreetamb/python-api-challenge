{
 "cells": [
  {
   "cell_type": "markdown",
   "metadata": {},
   "source": [
    "# WeatherPy\n",
    "----\n",
    "\n",
    "#### Note\n",
    "* Instructions have been included for each segment. You do not have to follow them exactly, but they are included to help you think through the steps."
   ]
  },
  {
   "cell_type": "code",
   "execution_count": 1,
   "metadata": {
    "scrolled": true
   },
   "outputs": [],
   "source": [
    "# Dependencies and Setup\n",
    "import matplotlib.pyplot as plt\n",
    "import pandas as pd\n",
    "import numpy as np\n",
    "import requests\n",
    "import time\n",
    "from scipy.stats import linregress\n",
    "from pprint import pprint\n",
    "\n",
    "\n",
    "# Import API key\n",
    "from api_keys import weather_api_key\n",
    "\n",
    "# Incorporated citipy to determine city based on latitude and longitude\n",
    "from citipy import citipy\n",
    "\n",
    "# Output File (CSV)\n",
    "output_data_file = \"output_data/cities.csv\"\n",
    "\n",
    "url = \"http://api.openweathermap.org/data/2.5/weather?\"\n",
    "\n",
    "\n",
    "\n",
    "# Range of latitudes and longitudes\n",
    "lat_range = (-90, 90)\n",
    "lng_range = (-180, 180)"
   ]
  },
  {
   "cell_type": "markdown",
   "metadata": {},
   "source": [
    "## Generate Cities List"
   ]
  },
  {
   "cell_type": "code",
   "execution_count": 2,
   "metadata": {},
   "outputs": [
    {
     "data": {
      "text/plain": [
       "596"
      ]
     },
     "execution_count": 2,
     "metadata": {},
     "output_type": "execute_result"
    }
   ],
   "source": [
    "# List for holding lat_lngs and cities\n",
    "lat_lngs = []\n",
    "cities = []\n",
    "\n",
    "# Create a set of random lat and lng combinations\n",
    "lats = np.random.uniform(lat_range[0], lat_range[1], size=1500)\n",
    "lngs = np.random.uniform(lng_range[0], lng_range[1], size=1500)\n",
    "lat_lngs = zip(lats, lngs)\n",
    "\n",
    "# Identify nearest city for each lat, lng combination\n",
    "for lat_lng in lat_lngs:\n",
    "    city = citipy.nearest_city(lat_lng[0], lat_lng[1]).city_name\n",
    "    \n",
    "    # If the city is unique, then add it to a our cities list\n",
    "    if city not in cities:\n",
    "        cities.append(city)\n",
    "\n",
    "# Print the city count to confirm sufficient count\n",
    "len(cities)"
   ]
  },
  {
   "cell_type": "markdown",
   "metadata": {},
   "source": [
    "### Perform API Calls\n",
    "* Perform a weather check on each city using a series of successive API calls.\n",
    "* Include a print log of each city as it'sbeing processed (with the city number and city name).\n"
   ]
  },
  {
   "cell_type": "code",
   "execution_count": 3,
   "metadata": {},
   "outputs": [],
   "source": [
    "cityname=[]\n",
    "lat=[]\n",
    "lng=[]\n",
    "max_temp=[]\n",
    "humidity=[]\n",
    "cloudiness=[]\n",
    "wind_speed=[]\n",
    "country=[]\n",
    "date=[]"
   ]
  },
  {
   "cell_type": "code",
   "execution_count": 4,
   "metadata": {},
   "outputs": [
    {
     "name": "stdout",
     "output_type": "stream",
     "text": [
      "Processing Record 0 of Set 1 | amderma\n",
      "City not found...Skipping...\n",
      "Processing Record 1 of Set 1 | port hardy\n",
      "Processing Record 2 of Set 1 | port augusta\n",
      "Processing Record 3 of Set 1 | burica\n",
      "City not found...Skipping...\n",
      "Processing Record 4 of Set 1 | labutta\n",
      "City not found...Skipping...\n",
      "Processing Record 5 of Set 1 | hermanus\n",
      "Processing Record 6 of Set 1 | male\n",
      "Processing Record 7 of Set 1 | registro\n",
      "Processing Record 8 of Set 1 | nikolskoye\n",
      "Processing Record 9 of Set 1 | qaanaaq\n",
      "Processing Record 10 of Set 1 | kavaratti\n",
      "Processing Record 11 of Set 1 | belushya guba\n",
      "City not found...Skipping...\n",
      "Processing Record 12 of Set 1 | busselton\n",
      "Processing Record 13 of Set 1 | rikitea\n",
      "Processing Record 14 of Set 1 | bambous virieux\n",
      "Processing Record 15 of Set 1 | margate\n",
      "Processing Record 16 of Set 1 | ushuaia\n",
      "Processing Record 17 of Set 1 | beringovskiy\n",
      "Processing Record 18 of Set 1 | nome\n",
      "Processing Record 19 of Set 1 | barentsburg\n",
      "City not found...Skipping...\n",
      "Processing Record 20 of Set 1 | barrow\n",
      "Processing Record 21 of Set 1 | sandwick\n",
      "Processing Record 22 of Set 1 | troitskoye\n",
      "Processing Record 23 of Set 1 | cape town\n",
      "Processing Record 24 of Set 1 | hobart\n",
      "Processing Record 25 of Set 1 | chuy\n",
      "Processing Record 26 of Set 1 | butaritari\n",
      "Processing Record 27 of Set 1 | mataura\n",
      "Processing Record 28 of Set 1 | taolanaro\n",
      "City not found...Skipping...\n",
      "Processing Record 29 of Set 1 | saldanha\n",
      "Processing Record 30 of Set 1 | guane\n",
      "Processing Record 31 of Set 1 | meyungs\n",
      "City not found...Skipping...\n",
      "Processing Record 32 of Set 1 | leningradskiy\n",
      "Processing Record 33 of Set 1 | usinsk\n",
      "Processing Record 34 of Set 1 | belchatow\n",
      "Processing Record 35 of Set 1 | flinders\n",
      "Processing Record 36 of Set 1 | goderich\n",
      "Processing Record 37 of Set 1 | sorong\n",
      "Processing Record 38 of Set 1 | grand gaube\n",
      "Processing Record 39 of Set 1 | mahebourg\n",
      "Processing Record 40 of Set 1 | puerto ayora\n",
      "Processing Record 41 of Set 1 | ketchikan\n",
      "Processing Record 42 of Set 1 | port elizabeth\n",
      "Processing Record 43 of Set 1 | jiayuguan\n",
      "Processing Record 44 of Set 1 | albany\n",
      "Processing Record 45 of Set 1 | provideniya\n",
      "Processing Record 46 of Set 1 | bluff\n",
      "Processing Record 47 of Set 1 | east london\n",
      "Processing Record 48 of Set 1 | port alfred\n",
      "Processing Record 49 of Set 1 | bonthe\n",
      "Processing Record 1 of Set 2 | khorixas\n",
      "Processing Record 2 of Set 2 | vaitupu\n",
      "City not found...Skipping...\n",
      "Processing Record 3 of Set 2 | new norfolk\n",
      "Processing Record 4 of Set 2 | vila\n",
      "Processing Record 5 of Set 2 | semnan\n",
      "Processing Record 6 of Set 2 | dikson\n",
      "Processing Record 7 of Set 2 | bilma\n",
      "Processing Record 8 of Set 2 | vaini\n",
      "Processing Record 9 of Set 2 | tabas\n",
      "Processing Record 10 of Set 2 | qiongshan\n",
      "Processing Record 11 of Set 2 | saint-philippe\n",
      "Processing Record 12 of Set 2 | ayorou\n",
      "Processing Record 13 of Set 2 | we\n",
      "City not found...Skipping...\n",
      "Processing Record 14 of Set 2 | mar del plata\n",
      "Processing Record 15 of Set 2 | atuona\n",
      "Processing Record 16 of Set 2 | punta arenas\n",
      "Processing Record 17 of Set 2 | guaraniacu\n",
      "Processing Record 18 of Set 2 | coatlinchan\n",
      "City not found...Skipping...\n",
      "Processing Record 19 of Set 2 | vardo\n",
      "Processing Record 20 of Set 2 | karaul\n",
      "City not found...Skipping...\n",
      "Processing Record 21 of Set 2 | mys shmidta\n",
      "City not found...Skipping...\n",
      "Processing Record 22 of Set 2 | avarua\n",
      "Processing Record 23 of Set 2 | suzu\n",
      "City not found...Skipping...\n",
      "Processing Record 24 of Set 2 | rawson\n",
      "Processing Record 25 of Set 2 | husavik\n",
      "Processing Record 26 of Set 2 | yellowknife\n",
      "Processing Record 27 of Set 2 | dunedin\n",
      "Processing Record 28 of Set 2 | tabiauea\n",
      "City not found...Skipping...\n",
      "Processing Record 29 of Set 2 | karonga\n",
      "Processing Record 30 of Set 2 | carutapera\n",
      "Processing Record 31 of Set 2 | iralaya\n",
      "Processing Record 32 of Set 2 | atar\n",
      "Processing Record 33 of Set 2 | turukhansk\n",
      "Processing Record 34 of Set 2 | airai\n",
      "Processing Record 35 of Set 2 | uusikaupunki\n",
      "Processing Record 36 of Set 2 | pangody\n",
      "Processing Record 37 of Set 2 | hualmay\n",
      "Processing Record 38 of Set 2 | la cruz\n",
      "Processing Record 39 of Set 2 | ixtapa\n",
      "Processing Record 40 of Set 2 | kodiak\n",
      "Processing Record 41 of Set 2 | paris\n",
      "Processing Record 42 of Set 2 | salmon arm\n",
      "Processing Record 43 of Set 2 | sitka\n",
      "Processing Record 44 of Set 2 | hunza\n",
      "City not found...Skipping...\n",
      "Processing Record 45 of Set 2 | grindavik\n",
      "Processing Record 46 of Set 2 | canaveral\n",
      "Processing Record 47 of Set 2 | avera\n",
      "Processing Record 48 of Set 2 | hilo\n",
      "Processing Record 49 of Set 2 | saurimo\n",
      "Processing Record 50 of Set 2 | longyearbyen\n",
      "Processing Record 1 of Set 3 | nioro\n",
      "Processing Record 2 of Set 3 | reitz\n",
      "Processing Record 3 of Set 3 | ribeira grande\n",
      "Processing Record 4 of Set 3 | slave lake\n",
      "Processing Record 5 of Set 3 | saint george\n",
      "Processing Record 6 of Set 3 | hambantota\n",
      "Processing Record 7 of Set 3 | karratha\n",
      "Processing Record 8 of Set 3 | miguel calmon\n",
      "Processing Record 9 of Set 3 | bredasdorp\n",
      "Processing Record 10 of Set 3 | ust-maya\n",
      "Processing Record 11 of Set 3 | jamestown\n",
      "Processing Record 12 of Set 3 | arman\n",
      "Processing Record 13 of Set 3 | sorland\n",
      "Processing Record 14 of Set 3 | tuktoyaktuk\n",
      "Processing Record 15 of Set 3 | samusu\n",
      "City not found...Skipping...\n",
      "Processing Record 16 of Set 3 | ulladulla\n",
      "Processing Record 17 of Set 3 | kieta\n",
      "Processing Record 18 of Set 3 | chadan\n",
      "Processing Record 19 of Set 3 | chokurdakh\n",
      "Processing Record 20 of Set 3 | dudinka\n",
      "Processing Record 21 of Set 3 | illoqqortoormiut\n",
      "City not found...Skipping...\n",
      "Processing Record 22 of Set 3 | tilichiki\n",
      "Processing Record 23 of Set 3 | ahipara\n",
      "Processing Record 24 of Set 3 | chagda\n",
      "City not found...Skipping...\n",
      "Processing Record 25 of Set 3 | asau\n",
      "Processing Record 26 of Set 3 | te anau\n",
      "Processing Record 27 of Set 3 | banda aceh\n",
      "Processing Record 28 of Set 3 | tupiza\n",
      "Processing Record 29 of Set 3 | romans-sur-isere\n",
      "Processing Record 30 of Set 3 | arraial do cabo\n",
      "Processing Record 31 of Set 3 | tabou\n",
      "Processing Record 32 of Set 3 | jaru\n",
      "Processing Record 33 of Set 3 | poros\n",
      "Processing Record 34 of Set 3 | namibe\n",
      "Processing Record 35 of Set 3 | aykhal\n",
      "Processing Record 36 of Set 3 | lorengau\n",
      "Processing Record 37 of Set 3 | hasaki\n",
      "Processing Record 38 of Set 3 | hithadhoo\n",
      "Processing Record 39 of Set 3 | moose factory\n",
      "Processing Record 40 of Set 3 | yengema\n",
      "Processing Record 41 of Set 3 | saskylakh\n",
      "Processing Record 42 of Set 3 | geraldton\n",
      "Processing Record 43 of Set 3 | torbay\n",
      "Processing Record 44 of Set 3 | cidreira\n",
      "Processing Record 45 of Set 3 | satitoa\n",
      "City not found...Skipping...\n",
      "Processing Record 46 of Set 3 | garowe\n",
      "Processing Record 47 of Set 3 | khatanga\n",
      "Processing Record 48 of Set 3 | tiksi\n",
      "Processing Record 49 of Set 3 | attawapiskat\n",
      "City not found...Skipping...\n",
      "Processing Record 50 of Set 3 | portland\n",
      "Processing Record 1 of Set 4 | georgetown\n",
      "Processing Record 2 of Set 4 | wajid\n",
      "Processing Record 3 of Set 4 | grand river south east\n",
      "City not found...Skipping...\n",
      "Processing Record 4 of Set 4 | urumqi\n",
      "Processing Record 5 of Set 4 | nemuro\n",
      "Processing Record 6 of Set 4 | makakilo city\n",
      "Processing Record 7 of Set 4 | san patricio\n",
      "Processing Record 8 of Set 4 | takaka\n",
      "Processing Record 9 of Set 4 | kaitangata\n",
      "Processing Record 10 of Set 4 | inverell\n",
      "Processing Record 11 of Set 4 | yinchuan\n",
      "Processing Record 12 of Set 4 | lucatan\n",
      "City not found...Skipping...\n",
      "Processing Record 13 of Set 4 | luderitz\n",
      "Processing Record 14 of Set 4 | lasa\n",
      "Processing Record 15 of Set 4 | andevoranto\n",
      "City not found...Skipping...\n",
      "Processing Record 16 of Set 4 | bethel\n",
      "Processing Record 17 of Set 4 | mehamn\n",
      "Processing Record 18 of Set 4 | kapaa\n",
      "Processing Record 19 of Set 4 | pathein\n",
      "Processing Record 20 of Set 4 | faanui\n",
      "Processing Record 21 of Set 4 | celestun\n",
      "Processing Record 22 of Set 4 | mendahara\n",
      "City not found...Skipping...\n",
      "Processing Record 23 of Set 4 | bognor regis\n",
      "Processing Record 24 of Set 4 | pisco\n",
      "Processing Record 25 of Set 4 | mecca\n",
      "Processing Record 26 of Set 4 | praia da vitoria\n",
      "Processing Record 27 of Set 4 | anadyr\n",
      "Processing Record 28 of Set 4 | bathsheba\n",
      "Processing Record 29 of Set 4 | chumphon\n",
      "Processing Record 30 of Set 4 | lavrentiya\n",
      "Processing Record 31 of Set 4 | bo rai\n",
      "Processing Record 32 of Set 4 | norman wells\n",
      "Processing Record 33 of Set 4 | san cristobal\n",
      "Processing Record 34 of Set 4 | roseburg\n"
     ]
    },
    {
     "name": "stdout",
     "output_type": "stream",
     "text": [
      "Processing Record 35 of Set 4 | tiznit\n",
      "Processing Record 36 of Set 4 | meulaboh\n",
      "Processing Record 37 of Set 4 | carnarvon\n",
      "Processing Record 38 of Set 4 | srednekolymsk\n",
      "Processing Record 39 of Set 4 | lagoa\n",
      "Processing Record 40 of Set 4 | kavieng\n",
      "Processing Record 41 of Set 4 | huilong\n",
      "Processing Record 42 of Set 4 | maykain\n",
      "City not found...Skipping...\n",
      "Processing Record 43 of Set 4 | mountain home\n",
      "Processing Record 44 of Set 4 | gazanjyk\n",
      "Processing Record 45 of Set 4 | lisakovsk\n",
      "Processing Record 46 of Set 4 | viru\n",
      "Processing Record 47 of Set 4 | isangel\n",
      "Processing Record 48 of Set 4 | mount isa\n",
      "Processing Record 49 of Set 4 | banjar\n",
      "Processing Record 50 of Set 4 | upernavik\n",
      "Processing Record 1 of Set 5 | pingliang\n",
      "Processing Record 2 of Set 5 | lukow\n",
      "Processing Record 3 of Set 5 | olafsvik\n",
      "Processing Record 4 of Set 5 | licheng\n",
      "Processing Record 5 of Set 5 | commerce\n",
      "Processing Record 6 of Set 5 | salalah\n",
      "Processing Record 7 of Set 5 | fernley\n",
      "Processing Record 8 of Set 5 | cabangahan\n",
      "Processing Record 9 of Set 5 | lulea\n",
      "Processing Record 10 of Set 5 | yulara\n",
      "Processing Record 11 of Set 5 | pithora\n",
      "Processing Record 12 of Set 5 | waipawa\n",
      "Processing Record 13 of Set 5 | krasnoselkup\n",
      "Processing Record 14 of Set 5 | sicuani\n",
      "Processing Record 15 of Set 5 | hay river\n",
      "Processing Record 16 of Set 5 | gloucester\n",
      "Processing Record 17 of Set 5 | jackson\n",
      "Processing Record 18 of Set 5 | halifax\n",
      "Processing Record 19 of Set 5 | pevek\n",
      "Processing Record 20 of Set 5 | cherskiy\n",
      "Processing Record 21 of Set 5 | sept-iles\n",
      "Processing Record 22 of Set 5 | kiruna\n",
      "Processing Record 23 of Set 5 | thompson\n",
      "Processing Record 24 of Set 5 | sambava\n",
      "Processing Record 25 of Set 5 | muli\n",
      "Processing Record 26 of Set 5 | chifeng\n",
      "Processing Record 27 of Set 5 | vao\n",
      "Processing Record 28 of Set 5 | kamaishi\n",
      "Processing Record 29 of Set 5 | vila velha\n",
      "Processing Record 30 of Set 5 | curup\n",
      "Processing Record 31 of Set 5 | sentyabrskiy\n",
      "City not found...Skipping...\n",
      "Processing Record 32 of Set 5 | launceston\n",
      "Processing Record 33 of Set 5 | kimbe\n",
      "Processing Record 34 of Set 5 | tasiilaq\n",
      "Processing Record 35 of Set 5 | san vicente\n",
      "Processing Record 36 of Set 5 | cockburn town\n",
      "Processing Record 37 of Set 5 | puerto leguizamo\n",
      "Processing Record 38 of Set 5 | lebu\n",
      "Processing Record 39 of Set 5 | fairbanks\n",
      "Processing Record 40 of Set 5 | bonnyville\n",
      "Processing Record 41 of Set 5 | linxia\n",
      "Processing Record 42 of Set 5 | aksu\n",
      "Processing Record 43 of Set 5 | rocha\n",
      "Processing Record 44 of Set 5 | fonte boa\n",
      "Processing Record 45 of Set 5 | clearwater\n",
      "Processing Record 46 of Set 5 | muros\n",
      "Processing Record 47 of Set 5 | bontang\n",
      "Processing Record 48 of Set 5 | berberati\n",
      "Processing Record 49 of Set 5 | longview\n",
      "Processing Record 50 of Set 5 | walvis bay\n",
      "Processing Record 1 of Set 6 | castro\n",
      "Processing Record 2 of Set 6 | taoudenni\n",
      "Processing Record 3 of Set 6 | nizhnyaya tavda\n",
      "Processing Record 4 of Set 6 | fort morgan\n",
      "Processing Record 5 of Set 6 | chokwe\n",
      "Processing Record 6 of Set 6 | kruisfontein\n",
      "Processing Record 7 of Set 6 | cayenne\n",
      "Processing Record 8 of Set 6 | sinegorye\n",
      "Processing Record 9 of Set 6 | katsuura\n",
      "Processing Record 10 of Set 6 | shellbrook\n",
      "Processing Record 11 of Set 6 | ozernovskiy\n",
      "Processing Record 12 of Set 6 | san carlos de bariloche\n",
      "Processing Record 13 of Set 6 | guerrero negro\n",
      "Processing Record 14 of Set 6 | kirakira\n",
      "Processing Record 15 of Set 6 | nichinan\n",
      "Processing Record 16 of Set 6 | san jose de sisa\n",
      "Processing Record 17 of Set 6 | nhulunbuy\n",
      "Processing Record 18 of Set 6 | boden\n",
      "Processing Record 19 of Set 6 | kropotkin\n",
      "Processing Record 20 of Set 6 | ambon\n",
      "Processing Record 21 of Set 6 | brockville\n",
      "Processing Record 22 of Set 6 | beyneu\n",
      "Processing Record 23 of Set 6 | narsaq\n",
      "Processing Record 24 of Set 6 | pringsewu\n",
      "Processing Record 25 of Set 6 | ponta do sol\n",
      "Processing Record 26 of Set 6 | pangnirtung\n",
      "Processing Record 27 of Set 6 | iqaluit\n",
      "Processing Record 28 of Set 6 | skovorodino\n",
      "Processing Record 29 of Set 6 | kazalinsk\n",
      "City not found...Skipping...\n",
      "Processing Record 30 of Set 6 | bucerias\n",
      "Processing Record 31 of Set 6 | rock sound\n",
      "Processing Record 32 of Set 6 | codrington\n",
      "Processing Record 33 of Set 6 | komsomolskiy\n",
      "Processing Record 34 of Set 6 | ust-nera\n",
      "Processing Record 35 of Set 6 | ankara\n",
      "Processing Record 36 of Set 6 | parabel\n",
      "Processing Record 37 of Set 6 | san quintin\n",
      "Processing Record 38 of Set 6 | kidal\n",
      "Processing Record 39 of Set 6 | dalaba\n",
      "Processing Record 40 of Set 6 | shimoda\n",
      "Processing Record 41 of Set 6 | port hedland\n",
      "Processing Record 42 of Set 6 | alofi\n",
      "Processing Record 43 of Set 6 | severo-kurilsk\n",
      "Processing Record 44 of Set 6 | yar-sale\n",
      "Processing Record 45 of Set 6 | manacor\n",
      "Processing Record 46 of Set 6 | chavakkad\n",
      "Processing Record 47 of Set 6 | gazojak\n",
      "Processing Record 48 of Set 6 | nevelsk\n",
      "Processing Record 49 of Set 6 | odweyne\n",
      "Processing Record 50 of Set 6 | dombarovskiy\n",
      "Processing Record 1 of Set 7 | toktogul\n",
      "Processing Record 2 of Set 7 | lipin bor\n",
      "Processing Record 3 of Set 7 | constantine\n",
      "Processing Record 4 of Set 7 | beni mazar\n",
      "Processing Record 5 of Set 7 | port lincoln\n",
      "Processing Record 6 of Set 7 | pitsunda\n",
      "Processing Record 7 of Set 7 | jumla\n",
      "Processing Record 8 of Set 7 | hereford\n",
      "Processing Record 9 of Set 7 | nam phong\n",
      "Processing Record 10 of Set 7 | saint-augustin\n",
      "Processing Record 11 of Set 7 | half moon bay\n",
      "Processing Record 12 of Set 7 | dicabisagan\n",
      "Processing Record 13 of Set 7 | tungor\n",
      "Processing Record 14 of Set 7 | palabuhanratu\n",
      "City not found...Skipping...\n",
      "Processing Record 15 of Set 7 | hanna\n",
      "Processing Record 16 of Set 7 | mata\n",
      "Processing Record 17 of Set 7 | pedasi\n",
      "Processing Record 18 of Set 7 | alta floresta\n",
      "Processing Record 19 of Set 7 | bosobolo\n",
      "Processing Record 20 of Set 7 | basco\n",
      "Processing Record 21 of Set 7 | ampanihy\n",
      "Processing Record 22 of Set 7 | cheuskiny\n",
      "City not found...Skipping...\n",
      "Processing Record 23 of Set 7 | touros\n",
      "Processing Record 24 of Set 7 | tsihombe\n",
      "City not found...Skipping...\n",
      "Processing Record 25 of Set 7 | sundumbili\n",
      "Processing Record 26 of Set 7 | moree\n",
      "Processing Record 27 of Set 7 | vostok\n",
      "Processing Record 28 of Set 7 | grand baie\n",
      "Processing Record 29 of Set 7 | clyde river\n",
      "Processing Record 30 of Set 7 | vestmannaeyjar\n",
      "Processing Record 31 of Set 7 | tyazhinskiy\n",
      "Processing Record 32 of Set 7 | ossora\n",
      "Processing Record 33 of Set 7 | novikovo\n",
      "Processing Record 34 of Set 7 | turayf\n",
      "Processing Record 35 of Set 7 | san jeronimo\n",
      "Processing Record 36 of Set 7 | sabang\n",
      "Processing Record 37 of Set 7 | nanortalik\n",
      "Processing Record 38 of Set 7 | langub\n",
      "Processing Record 39 of Set 7 | chapais\n",
      "Processing Record 40 of Set 7 | aksarka\n",
      "Processing Record 41 of Set 7 | bijapur\n",
      "Processing Record 42 of Set 7 | alice springs\n",
      "Processing Record 43 of Set 7 | esperance\n",
      "Processing Record 44 of Set 7 | honningsvag\n",
      "Processing Record 45 of Set 7 | havre-saint-pierre\n",
      "Processing Record 46 of Set 7 | januaria\n",
      "Processing Record 47 of Set 7 | lolua\n",
      "City not found...Skipping...\n",
      "Processing Record 48 of Set 7 | ilulissat\n",
      "Processing Record 49 of Set 7 | candawaga\n",
      "City not found...Skipping...\n",
      "Processing Record 50 of Set 7 | kutoarjo\n",
      "Processing Record 1 of Set 8 | xichang\n",
      "Processing Record 2 of Set 8 | vanimo\n",
      "Processing Record 3 of Set 8 | zyryanka\n",
      "Processing Record 4 of Set 8 | karaton\n",
      "Processing Record 5 of Set 8 | mareeba\n",
      "Processing Record 6 of Set 8 | victoria\n",
      "Processing Record 7 of Set 8 | abu zabad\n",
      "Processing Record 8 of Set 8 | marcona\n",
      "City not found...Skipping...\n",
      "Processing Record 9 of Set 8 | ruatoria\n",
      "City not found...Skipping...\n",
      "Processing Record 10 of Set 8 | sao filipe\n",
      "Processing Record 11 of Set 8 | tamandare\n",
      "Processing Record 12 of Set 8 | letlhakane\n",
      "Processing Record 13 of Set 8 | jiancheng\n",
      "Processing Record 14 of Set 8 | qaqortoq\n",
      "Processing Record 15 of Set 8 | parras\n",
      "City not found...Skipping...\n",
      "Processing Record 16 of Set 8 | fortuna\n",
      "Processing Record 17 of Set 8 | nizhneyansk\n",
      "City not found...Skipping...\n",
      "Processing Record 18 of Set 8 | tuggurt\n",
      "City not found...Skipping...\n",
      "Processing Record 19 of Set 8 | cabo san lucas\n",
      "Processing Record 20 of Set 8 | fairmont\n",
      "Processing Record 21 of Set 8 | kurchum\n",
      "Processing Record 22 of Set 8 | saryg-sep\n",
      "Processing Record 23 of Set 8 | tautira\n",
      "Processing Record 24 of Set 8 | sao joao da barra\n"
     ]
    },
    {
     "name": "stdout",
     "output_type": "stream",
     "text": [
      "Processing Record 25 of Set 8 | liepaja\n",
      "Processing Record 26 of Set 8 | monte carmelo\n",
      "Processing Record 27 of Set 8 | rawannawi\n",
      "City not found...Skipping...\n",
      "Processing Record 28 of Set 8 | bengkulu\n",
      "Processing Record 29 of Set 8 | veraval\n",
      "Processing Record 30 of Set 8 | tura\n",
      "Processing Record 31 of Set 8 | prince george\n",
      "Processing Record 32 of Set 8 | buariki\n",
      "City not found...Skipping...\n",
      "Processing Record 33 of Set 8 | oneida\n",
      "Processing Record 34 of Set 8 | talnakh\n",
      "Processing Record 35 of Set 8 | kahului\n",
      "Processing Record 36 of Set 8 | baena\n",
      "Processing Record 37 of Set 8 | sitrah\n",
      "Processing Record 38 of Set 8 | goalpara\n",
      "Processing Record 39 of Set 8 | xai-xai\n",
      "Processing Record 40 of Set 8 | kaman\n",
      "Processing Record 41 of Set 8 | erhlin\n",
      "City not found...Skipping...\n",
      "Processing Record 42 of Set 8 | hobyo\n",
      "Processing Record 43 of Set 8 | rio gallegos\n",
      "Processing Record 44 of Set 8 | tuatapere\n",
      "Processing Record 45 of Set 8 | bilibino\n",
      "Processing Record 46 of Set 8 | haifa\n",
      "Processing Record 47 of Set 8 | oxford\n",
      "Processing Record 48 of Set 8 | discovery bay\n",
      "Processing Record 49 of Set 8 | winsford\n",
      "Processing Record 50 of Set 8 | uvalde\n",
      "Processing Record 1 of Set 9 | belyy yar\n",
      "Processing Record 2 of Set 9 | hami\n",
      "Processing Record 3 of Set 9 | shakawe\n",
      "Processing Record 4 of Set 9 | gwadar\n",
      "Processing Record 5 of Set 9 | tanout\n",
      "Processing Record 6 of Set 9 | tsumeb\n",
      "Processing Record 7 of Set 9 | dawei\n",
      "Processing Record 8 of Set 9 | arlit\n",
      "Processing Record 9 of Set 9 | gizo\n",
      "Processing Record 10 of Set 9 | mwinilunga\n",
      "Processing Record 11 of Set 9 | fort nelson\n",
      "Processing Record 12 of Set 9 | gasa\n",
      "Processing Record 13 of Set 9 | gagarin\n",
      "Processing Record 14 of Set 9 | svetlogorsk\n",
      "Processing Record 15 of Set 9 | kattivakkam\n",
      "Processing Record 16 of Set 9 | belaya gora\n",
      "Processing Record 17 of Set 9 | remiremont\n",
      "Processing Record 18 of Set 9 | colwyn bay\n",
      "Processing Record 19 of Set 9 | helong\n",
      "Processing Record 20 of Set 9 | progreso\n",
      "Processing Record 21 of Set 9 | dronten\n",
      "Processing Record 22 of Set 9 | igarka\n",
      "Processing Record 23 of Set 9 | amazar\n",
      "Processing Record 24 of Set 9 | tevaitoa\n",
      "Processing Record 25 of Set 9 | salme\n",
      "Processing Record 26 of Set 9 | suraabad\n",
      "Processing Record 27 of Set 9 | camacha\n",
      "Processing Record 28 of Set 9 | beruwala\n",
      "Processing Record 29 of Set 9 | ekhabi\n",
      "Processing Record 30 of Set 9 | puerto escondido\n",
      "Processing Record 31 of Set 9 | daru\n",
      "Processing Record 32 of Set 9 | songea\n",
      "Processing Record 33 of Set 9 | diffa\n",
      "Processing Record 34 of Set 9 | mount gambier\n",
      "Processing Record 35 of Set 9 | laguna\n",
      "Processing Record 36 of Set 9 | hays\n",
      "Processing Record 37 of Set 9 | nouadhibou\n",
      "Processing Record 38 of Set 9 | opuwo\n",
      "Processing Record 39 of Set 9 | aklavik\n",
      "Processing Record 40 of Set 9 | port moresby\n",
      "Processing Record 41 of Set 9 | jacareacanga\n",
      "Processing Record 42 of Set 9 | moyale\n",
      "Processing Record 43 of Set 9 | bardiyah\n",
      "Processing Record 44 of Set 9 | akim swedru\n",
      "Processing Record 45 of Set 9 | kurumkan\n",
      "Processing Record 46 of Set 9 | santa cruz\n",
      "Processing Record 47 of Set 9 | cairns\n",
      "Processing Record 48 of Set 9 | port blair\n",
      "Processing Record 49 of Set 9 | manta\n",
      "Processing Record 50 of Set 9 | hirata\n",
      "Processing Record 1 of Set 10 | morristown\n",
      "Processing Record 2 of Set 10 | kraslava\n",
      "Processing Record 3 of Set 10 | marica\n",
      "Processing Record 4 of Set 10 | esso\n",
      "Processing Record 5 of Set 10 | richards bay\n",
      "Processing Record 6 of Set 10 | high level\n",
      "Processing Record 7 of Set 10 | ostrovnoy\n",
      "Processing Record 8 of Set 10 | arkhipo-osipovka\n",
      "Processing Record 9 of Set 10 | telma\n",
      "Processing Record 10 of Set 10 | louis trichardt\n",
      "Processing Record 11 of Set 10 | baruun-urt\n",
      "Processing Record 12 of Set 10 | evensk\n",
      "Processing Record 13 of Set 10 | nam tha\n",
      "City not found...Skipping...\n",
      "Processing Record 14 of Set 10 | hurghada\n",
      "Processing Record 15 of Set 10 | solsvik\n",
      "City not found...Skipping...\n",
      "Processing Record 16 of Set 10 | aflu\n",
      "City not found...Skipping...\n",
      "Processing Record 17 of Set 10 | port macquarie\n",
      "Processing Record 18 of Set 10 | barinas\n",
      "Processing Record 19 of Set 10 | taburi\n",
      "City not found...Skipping...\n",
      "Processing Record 20 of Set 10 | puerto ayacucho\n",
      "Processing Record 21 of Set 10 | luganville\n",
      "Processing Record 22 of Set 10 | matameye\n",
      "City not found...Skipping...\n",
      "Processing Record 23 of Set 10 | baghdad\n",
      "Processing Record 24 of Set 10 | barra patuca\n",
      "Processing Record 25 of Set 10 | maniitsoq\n",
      "Processing Record 26 of Set 10 | sakakah\n",
      "Processing Record 27 of Set 10 | piacabucu\n",
      "Processing Record 28 of Set 10 | rosarito\n",
      "Processing Record 29 of Set 10 | henties bay\n",
      "Processing Record 30 of Set 10 | poum\n",
      "Processing Record 31 of Set 10 | dajal\n",
      "Processing Record 32 of Set 10 | tomatlan\n",
      "Processing Record 33 of Set 10 | takayama\n",
      "Processing Record 34 of Set 10 | sekoma\n",
      "Processing Record 35 of Set 10 | trairi\n",
      "Processing Record 36 of Set 10 | choix\n",
      "Processing Record 37 of Set 10 | coquimbo\n",
      "Processing Record 38 of Set 10 | chernyshevskiy\n",
      "Processing Record 39 of Set 10 | mocambique\n",
      "City not found...Skipping...\n",
      "Processing Record 40 of Set 10 | devli\n",
      "Processing Record 41 of Set 10 | wahran\n",
      "City not found...Skipping...\n",
      "Processing Record 42 of Set 10 | shache\n",
      "Processing Record 43 of Set 10 | malakal\n",
      "Processing Record 44 of Set 10 | jalu\n",
      "Processing Record 45 of Set 10 | umzimvubu\n",
      "City not found...Skipping...\n",
      "Processing Record 46 of Set 10 | lokosovo\n",
      "Processing Record 47 of Set 10 | meadow lake\n",
      "Processing Record 48 of Set 10 | tumannyy\n",
      "City not found...Skipping...\n",
      "Processing Record 49 of Set 10 | denpasar\n",
      "Processing Record 50 of Set 10 | novomykolayivka\n",
      "Processing Record 1 of Set 11 | babai\n",
      "Processing Record 2 of Set 11 | atyrau\n",
      "Processing Record 3 of Set 11 | rajaldesar\n",
      "Processing Record 4 of Set 11 | san andres\n",
      "Processing Record 5 of Set 11 | shingu\n",
      "Processing Record 6 of Set 11 | mabaruma\n",
      "Processing Record 7 of Set 11 | poli\n",
      "Processing Record 8 of Set 11 | reconquista\n",
      "Processing Record 9 of Set 11 | ocampo\n",
      "Processing Record 10 of Set 11 | saleaula\n",
      "City not found...Skipping...\n",
      "Processing Record 11 of Set 11 | virginia beach\n",
      "Processing Record 12 of Set 11 | umm kaddadah\n",
      "Processing Record 13 of Set 11 | gurupa\n",
      "Processing Record 14 of Set 11 | nisia floresta\n",
      "Processing Record 15 of Set 11 | sioux lookout\n",
      "Processing Record 16 of Set 11 | nalvo\n",
      "Processing Record 17 of Set 11 | chimbote\n",
      "Processing Record 18 of Set 11 | skanderborg\n",
      "Processing Record 19 of Set 11 | mogadouro\n",
      "Processing Record 20 of Set 11 | emerald\n",
      "Processing Record 21 of Set 11 | conceicao do araguaia\n",
      "Processing Record 22 of Set 11 | vagur\n",
      "Processing Record 23 of Set 11 | cap-aux-meules\n",
      "Processing Record 24 of Set 11 | bandarbeyla\n",
      "Processing Record 25 of Set 11 | sorgun\n",
      "Processing Record 26 of Set 11 | constitucion\n",
      "Processing Record 27 of Set 11 | acarau\n",
      "Processing Record 28 of Set 11 | carballo\n",
      "Processing Record 29 of Set 11 | taikang\n",
      "Processing Record 30 of Set 11 | siyabuswa\n",
      "Processing Record 31 of Set 11 | huoqiu\n",
      "Processing Record 32 of Set 11 | ponta delgada\n",
      "Processing Record 33 of Set 11 | kutum\n",
      "Processing Record 34 of Set 11 | ondorhaan\n",
      "City not found...Skipping...\n",
      "Processing Record 35 of Set 11 | hamilton\n",
      "Processing Record 36 of Set 11 | kharan\n",
      "Processing Record 37 of Set 11 | inhambane\n",
      "Processing Record 38 of Set 11 | ouallam\n",
      "Processing Record 39 of Set 11 | aljezur\n",
      "Processing Record 40 of Set 11 | lepe\n",
      "Processing Record 41 of Set 11 | broome\n",
      "Processing Record 42 of Set 11 | kabare\n",
      "Processing Record 43 of Set 11 | inta\n",
      "Processing Record 44 of Set 11 | gigmoto\n",
      "Processing Record 45 of Set 11 | caravelas\n",
      "Processing Record 46 of Set 11 | myskhako\n",
      "Processing Record 47 of Set 11 | asosa\n",
      "Processing Record 48 of Set 11 | kalmunai\n",
      "Processing Record 49 of Set 11 | conde\n",
      "Processing Record 50 of Set 11 | barahona\n",
      "Processing Record 1 of Set 12 | tarudant\n",
      "City not found...Skipping...\n",
      "Processing Record 2 of Set 12 | coihaique\n",
      "Processing Record 3 of Set 12 | yingcheng\n",
      "Processing Record 4 of Set 12 | aninoasa\n",
      "Processing Record 5 of Set 12 | maridi\n",
      "Processing Record 6 of Set 12 | kawalu\n",
      "Processing Record 7 of Set 12 | haines junction\n",
      "Processing Record 8 of Set 12 | langham\n",
      "Processing Record 9 of Set 12 | parbatipur\n",
      "Processing Record 10 of Set 12 | vila franca do campo\n",
      "Processing Record 11 of Set 12 | pechenga\n"
     ]
    },
    {
     "name": "stdout",
     "output_type": "stream",
     "text": [
      "Processing Record 12 of Set 12 | warqla\n",
      "City not found...Skipping...\n",
      "Processing Record 13 of Set 12 | wattegama\n",
      "Processing Record 14 of Set 12 | plettenberg bay\n",
      "Processing Record 15 of Set 12 | vizimyary\n",
      "City not found...Skipping...\n",
      "Processing Record 16 of Set 12 | brownsville\n",
      "Processing Record 17 of Set 12 | sun city west\n",
      "Processing Record 18 of Set 12 | lukavica\n",
      "Processing Record 19 of Set 12 | sur\n",
      "Processing Record 20 of Set 12 | cap malheureux\n",
      "Processing Record 21 of Set 12 | ancud\n",
      "Processing Record 22 of Set 12 | wairoa\n",
      "Processing Record 23 of Set 12 | padang\n",
      "Processing Record 24 of Set 12 | sucua\n",
      "Processing Record 25 of Set 12 | mozarlandia\n",
      "Processing Record 26 of Set 12 | correntina\n",
      "Processing Record 27 of Set 12 | oshkosh\n",
      "Processing Record 28 of Set 12 | biak\n",
      "Processing Record 29 of Set 12 | lompoc\n",
      "Processing Record 30 of Set 12 | coahuayana\n",
      "Processing Record 31 of Set 12 | tingrela\n",
      "City not found...Skipping...\n",
      "Processing Record 32 of Set 12 | tual\n",
      "Processing Record 33 of Set 12 | grushevskaya\n",
      "Processing Record 34 of Set 12 | binzhou\n",
      "Processing Record 35 of Set 12 | elbeuf\n",
      "Processing Record 36 of Set 12 | zhigansk\n",
      "Processing Record 37 of Set 12 | marsa matruh\n",
      "Processing Record 38 of Set 12 | dubna\n",
      "Processing Record 39 of Set 12 | broken hill\n",
      "Processing Record 40 of Set 12 | toliary\n",
      "City not found...Skipping...\n",
      "Processing Record 41 of Set 12 | nguiu\n",
      "City not found...Skipping...\n",
      "Processing Record 42 of Set 12 | ust-kuyga\n",
      "Processing Record 43 of Set 12 | winneba\n",
      "Processing Record 44 of Set 12 | ngukurr\n",
      "City not found...Skipping...\n",
      "Processing Record 45 of Set 12 | matara\n",
      "Processing Record 46 of Set 12 | rosetta\n"
     ]
    }
   ],
   "source": [
    "units = \"imperial\"\n",
    "set_count = 1\n",
    "record_count = 0\n",
    "for i, city in enumerate(cities):\n",
    "    if i % 50 == 0 and i >= 50:\n",
    "        set_count = set_count +1\n",
    "        record_count = 1\n",
    "    print(f\"Processing Record {record_count} of Set {set_count} | {city}\")\n",
    "    record_count = record_count +1\n",
    "    query_url = f\"{url}appid={weather_api_key}&units{units}&q={city}\"\n",
    "    post_response = requests.get(query_url).json()         \n",
    "    \n",
    "    try:\n",
    "        cityname.append(post_response['name'])\n",
    "        lat.append(post_response['coord']['lat'])\n",
    "        lng.append(post_response['coord']['lon'])\n",
    "        max_temp.append(post_response['main']['temp_max'])\n",
    "        humidity.append(post_response['main']['humidity'])\n",
    "        cloudiness.append(post_response['clouds']['all'])\n",
    "        wind_speed.append(post_response['wind']['speed'])\n",
    "        country.append(post_response['sys']['country'])\n",
    "        date.append(time.ctime(post_response['dt']))\n",
    "    except KeyError:\n",
    "        print(\"City not found...Skipping...\")\n",
    "    "
   ]
  },
  {
   "cell_type": "markdown",
   "metadata": {},
   "source": [
    "### Convert Raw Data to DataFrame\n",
    "* Export the city data into a .csv.\n",
    "* Display the DataFrame"
   ]
  },
  {
   "cell_type": "code",
   "execution_count": 5,
   "metadata": {},
   "outputs": [
    {
     "data": {
      "text/html": [
       "<div>\n",
       "<style scoped>\n",
       "    .dataframe tbody tr th:only-of-type {\n",
       "        vertical-align: middle;\n",
       "    }\n",
       "\n",
       "    .dataframe tbody tr th {\n",
       "        vertical-align: top;\n",
       "    }\n",
       "\n",
       "    .dataframe thead th {\n",
       "        text-align: right;\n",
       "    }\n",
       "</style>\n",
       "<table border=\"1\" class=\"dataframe\">\n",
       "  <thead>\n",
       "    <tr style=\"text-align: right;\">\n",
       "      <th></th>\n",
       "      <th>City</th>\n",
       "      <th>Lat</th>\n",
       "      <th>Lng</th>\n",
       "      <th>Max Temp</th>\n",
       "      <th>Humidity</th>\n",
       "      <th>Cloudiness</th>\n",
       "      <th>Wind Speed</th>\n",
       "      <th>Country</th>\n",
       "      <th>Date</th>\n",
       "    </tr>\n",
       "  </thead>\n",
       "  <tbody>\n",
       "    <tr>\n",
       "      <th>0</th>\n",
       "      <td>Port Hardy</td>\n",
       "      <td>50.6996</td>\n",
       "      <td>-127.4199</td>\n",
       "      <td>285.15</td>\n",
       "      <td>71</td>\n",
       "      <td>40</td>\n",
       "      <td>3.60</td>\n",
       "      <td>CA</td>\n",
       "      <td>Tue May  4 14:38:47 2021</td>\n",
       "    </tr>\n",
       "    <tr>\n",
       "      <th>1</th>\n",
       "      <td>Port Augusta</td>\n",
       "      <td>-32.5000</td>\n",
       "      <td>137.7667</td>\n",
       "      <td>285.15</td>\n",
       "      <td>66</td>\n",
       "      <td>3</td>\n",
       "      <td>5.14</td>\n",
       "      <td>AU</td>\n",
       "      <td>Tue May  4 14:38:48 2021</td>\n",
       "    </tr>\n",
       "    <tr>\n",
       "      <th>2</th>\n",
       "      <td>Hermanus</td>\n",
       "      <td>-34.4187</td>\n",
       "      <td>19.2345</td>\n",
       "      <td>292.04</td>\n",
       "      <td>82</td>\n",
       "      <td>18</td>\n",
       "      <td>1.79</td>\n",
       "      <td>ZA</td>\n",
       "      <td>Tue May  4 14:38:48 2021</td>\n",
       "    </tr>\n",
       "    <tr>\n",
       "      <th>3</th>\n",
       "      <td>Malé</td>\n",
       "      <td>4.1748</td>\n",
       "      <td>73.5089</td>\n",
       "      <td>302.15</td>\n",
       "      <td>84</td>\n",
       "      <td>75</td>\n",
       "      <td>1.03</td>\n",
       "      <td>MV</td>\n",
       "      <td>Tue May  4 14:38:49 2021</td>\n",
       "    </tr>\n",
       "    <tr>\n",
       "      <th>4</th>\n",
       "      <td>Registro</td>\n",
       "      <td>-24.4875</td>\n",
       "      <td>-47.8436</td>\n",
       "      <td>301.63</td>\n",
       "      <td>52</td>\n",
       "      <td>8</td>\n",
       "      <td>0.93</td>\n",
       "      <td>BR</td>\n",
       "      <td>Tue May  4 14:38:49 2021</td>\n",
       "    </tr>\n",
       "  </tbody>\n",
       "</table>\n",
       "</div>"
      ],
      "text/plain": [
       "           City      Lat       Lng  Max Temp  Humidity  Cloudiness  \\\n",
       "0    Port Hardy  50.6996 -127.4199    285.15        71          40   \n",
       "1  Port Augusta -32.5000  137.7667    285.15        66           3   \n",
       "2      Hermanus -34.4187   19.2345    292.04        82          18   \n",
       "3          Malé   4.1748   73.5089    302.15        84          75   \n",
       "4      Registro -24.4875  -47.8436    301.63        52           8   \n",
       "\n",
       "   Wind Speed Country                      Date  \n",
       "0        3.60      CA  Tue May  4 14:38:47 2021  \n",
       "1        5.14      AU  Tue May  4 14:38:48 2021  \n",
       "2        1.79      ZA  Tue May  4 14:38:48 2021  \n",
       "3        1.03      MV  Tue May  4 14:38:49 2021  \n",
       "4        0.93      BR  Tue May  4 14:38:49 2021  "
      ]
     },
     "execution_count": 5,
     "metadata": {},
     "output_type": "execute_result"
    }
   ],
   "source": [
    "weather_dt ={\"City\":cityname,\"Lat\":lat,\"Lng\":lng,\"Max Temp\":max_temp,\"Humidity\":humidity,\"Cloudiness\":cloudiness,\n",
    "             \"Wind Speed\":wind_speed,\"Country\":country,\"Date\":date}\n",
    "weather_df =pd.DataFrame(weather_dt)\n",
    "weather_df.to_csv('output_data/cities.csv')\n",
    "weather_df.head()"
   ]
  },
  {
   "cell_type": "code",
   "execution_count": 6,
   "metadata": {},
   "outputs": [
    {
     "data": {
      "text/html": [
       "<div>\n",
       "<style scoped>\n",
       "    .dataframe tbody tr th:only-of-type {\n",
       "        vertical-align: middle;\n",
       "    }\n",
       "\n",
       "    .dataframe tbody tr th {\n",
       "        vertical-align: top;\n",
       "    }\n",
       "\n",
       "    .dataframe thead th {\n",
       "        text-align: right;\n",
       "    }\n",
       "</style>\n",
       "<table border=\"1\" class=\"dataframe\">\n",
       "  <thead>\n",
       "    <tr style=\"text-align: right;\">\n",
       "      <th></th>\n",
       "      <th>Lat</th>\n",
       "      <th>Lng</th>\n",
       "      <th>Max Temp</th>\n",
       "      <th>Humidity</th>\n",
       "      <th>Cloudiness</th>\n",
       "      <th>Wind Speed</th>\n",
       "    </tr>\n",
       "  </thead>\n",
       "  <tbody>\n",
       "    <tr>\n",
       "      <th>count</th>\n",
       "      <td>538.000000</td>\n",
       "      <td>538.000000</td>\n",
       "      <td>538.000000</td>\n",
       "      <td>538.000000</td>\n",
       "      <td>538.000000</td>\n",
       "      <td>538.000000</td>\n",
       "    </tr>\n",
       "    <tr>\n",
       "      <th>mean</th>\n",
       "      <td>20.397903</td>\n",
       "      <td>20.598786</td>\n",
       "      <td>290.205967</td>\n",
       "      <td>67.373606</td>\n",
       "      <td>50.020446</td>\n",
       "      <td>3.401543</td>\n",
       "    </tr>\n",
       "    <tr>\n",
       "      <th>std</th>\n",
       "      <td>33.404410</td>\n",
       "      <td>91.414043</td>\n",
       "      <td>11.064495</td>\n",
       "      <td>23.407328</td>\n",
       "      <td>40.376320</td>\n",
       "      <td>2.319767</td>\n",
       "    </tr>\n",
       "    <tr>\n",
       "      <th>min</th>\n",
       "      <td>-54.800000</td>\n",
       "      <td>-175.200000</td>\n",
       "      <td>260.980000</td>\n",
       "      <td>2.000000</td>\n",
       "      <td>0.000000</td>\n",
       "      <td>0.050000</td>\n",
       "    </tr>\n",
       "    <tr>\n",
       "      <th>25%</th>\n",
       "      <td>-8.168250</td>\n",
       "      <td>-59.616675</td>\n",
       "      <td>282.150000</td>\n",
       "      <td>53.000000</td>\n",
       "      <td>6.000000</td>\n",
       "      <td>1.692500</td>\n",
       "    </tr>\n",
       "    <tr>\n",
       "      <th>50%</th>\n",
       "      <td>25.320700</td>\n",
       "      <td>26.185200</td>\n",
       "      <td>291.210000</td>\n",
       "      <td>72.000000</td>\n",
       "      <td>40.000000</td>\n",
       "      <td>2.950000</td>\n",
       "    </tr>\n",
       "    <tr>\n",
       "      <th>75%</th>\n",
       "      <td>48.433525</td>\n",
       "      <td>98.699975</td>\n",
       "      <td>299.187500</td>\n",
       "      <td>87.000000</td>\n",
       "      <td>92.750000</td>\n",
       "      <td>4.630000</td>\n",
       "    </tr>\n",
       "    <tr>\n",
       "      <th>max</th>\n",
       "      <td>78.218600</td>\n",
       "      <td>179.316700</td>\n",
       "      <td>312.040000</td>\n",
       "      <td>100.000000</td>\n",
       "      <td>100.000000</td>\n",
       "      <td>14.920000</td>\n",
       "    </tr>\n",
       "  </tbody>\n",
       "</table>\n",
       "</div>"
      ],
      "text/plain": [
       "              Lat         Lng    Max Temp    Humidity  Cloudiness  Wind Speed\n",
       "count  538.000000  538.000000  538.000000  538.000000  538.000000  538.000000\n",
       "mean    20.397903   20.598786  290.205967   67.373606   50.020446    3.401543\n",
       "std     33.404410   91.414043   11.064495   23.407328   40.376320    2.319767\n",
       "min    -54.800000 -175.200000  260.980000    2.000000    0.000000    0.050000\n",
       "25%     -8.168250  -59.616675  282.150000   53.000000    6.000000    1.692500\n",
       "50%     25.320700   26.185200  291.210000   72.000000   40.000000    2.950000\n",
       "75%     48.433525   98.699975  299.187500   87.000000   92.750000    4.630000\n",
       "max     78.218600  179.316700  312.040000  100.000000  100.000000   14.920000"
      ]
     },
     "execution_count": 6,
     "metadata": {},
     "output_type": "execute_result"
    }
   ],
   "source": [
    "weather_df.describe()"
   ]
  },
  {
   "cell_type": "markdown",
   "metadata": {},
   "source": [
    "## Inspect the data and remove the cities where the humidity > 100%.\n",
    "----\n",
    "Skip this step if there are no cities that have humidity > 100%. "
   ]
  },
  {
   "cell_type": "code",
   "execution_count": 7,
   "metadata": {},
   "outputs": [],
   "source": [
    "#  Get the indices of cities that have humidity over 100%."
   ]
  },
  {
   "cell_type": "code",
   "execution_count": 8,
   "metadata": {},
   "outputs": [],
   "source": [
    "# Make a new DataFrame equal to the city data to drop all humidity outliers by index.\n",
    "# Passing \"inplace=False\" will make a copy of the city_data DataFrame, which we call \"clean_city_data\"."
   ]
  },
  {
   "cell_type": "markdown",
   "metadata": {},
   "source": [
    "## Plotting the Data\n",
    "* Use proper labeling of the plots using plot titles (including date of analysis) and axes labels.\n",
    "* Save the plotted figures as .pngs."
   ]
  },
  {
   "cell_type": "markdown",
   "metadata": {},
   "source": [
    "## Latitude vs. Temperature Plot"
   ]
  },
  {
   "cell_type": "code",
   "execution_count": 9,
   "metadata": {},
   "outputs": [
    {
     "data": {
      "image/png": "[encoded data removed]",
      "text/plain": [
       "<Figure size 432x288 with 1 Axes>"
      ]
     },
     "metadata": {
      "needs_background": "light"
     },
     "output_type": "display_data"
    }
   ],
   "source": [
    "plt.scatter(weather_df[\"Lat\"], weather_df[\"Max Temp\"], marker=\"o\")\n",
    "\n",
    "plt.title(\"Max Temperature vs City Latitude\")\n",
    "plt.ylabel(\"Temperature (F)\")\n",
    "plt.xlabel(\"Latitude\")\n",
    "plt.grid(True)\n",
    "\n",
    "plt.savefig(\"output_data/MaxTemperaturevsCityLatitude.png\")\n",
    "\n",
    "plt.show()"
   ]
  },
  {
   "cell_type": "markdown",
   "metadata": {},
   "source": [
    "The above graph is showing the cities maxium temperature in relation to the cities latitude."
   ]
  },
  {
   "cell_type": "markdown",
   "metadata": {},
   "source": [
    "## Latitude vs. Humidity Plot"
   ]
  },
  {
   "cell_type": "code",
   "execution_count": 10,
   "metadata": {},
   "outputs": [
    {
     "data": {
      "image/png": "[encoded data removed]",
      "text/plain": [
       "<Figure size 432x288 with 1 Axes>"
      ]
     },
     "metadata": {
      "needs_background": "light"
     },
     "output_type": "display_data"
    }
   ],
   "source": [
    "plt.scatter(weather_df[\"Lat\"], weather_df[\"Humidity\"], marker=\"o\")\n",
    "\n",
    "plt.title(\"Humidity vs City Latitude\")\n",
    "plt.ylabel(\"Humidity (%)\")\n",
    "plt.xlabel(\"Latitude\")\n",
    "plt.grid(True)\n",
    "\n",
    "plt.savefig(\"output_data/HumidityvsCityLatitude.png\")\n",
    "\n",
    "plt.show()"
   ]
  },
  {
   "cell_type": "markdown",
   "metadata": {},
   "source": [
    "The above graph is showing the cities humidity in relation to the cities latitude."
   ]
  },
  {
   "cell_type": "markdown",
   "metadata": {},
   "source": [
    "## Latitude vs. Cloudiness Plot"
   ]
  },
  {
   "cell_type": "code",
   "execution_count": 11,
   "metadata": {},
   "outputs": [
    {
     "data": {
      "image/png": "[encoded data removed]",
      "text/plain": [
       "<Figure size 432x288 with 1 Axes>"
      ]
     },
     "metadata": {
      "needs_background": "light"
     },
     "output_type": "display_data"
    }
   ],
   "source": [
    "plt.scatter(weather_df[\"Lat\"], weather_df[\"Cloudiness\"], marker=\"o\")\n",
    "\n",
    "plt.title(\"Cloudiness vs City Latitude\")\n",
    "plt.ylabel(\"Cloudiness (%)\")\n",
    "plt.xlabel(\"Latitude\")\n",
    "plt.grid(True)\n",
    "\n",
    "plt.savefig(\"output_data/CloudinessvsCityLatitude.png\")\n",
    "\n",
    "plt.show()"
   ]
  },
  {
   "cell_type": "markdown",
   "metadata": {},
   "source": [
    "The above graph is showing the cities cloudiness in relation to the cities latitude."
   ]
  },
  {
   "cell_type": "markdown",
   "metadata": {},
   "source": [
    "## Latitude vs. Wind Speed Plot"
   ]
  },
  {
   "cell_type": "code",
   "execution_count": 12,
   "metadata": {},
   "outputs": [
    {
     "data": {
      "image/png": "[encoded data removed]",
      "text/plain": [
       "<Figure size 432x288 with 1 Axes>"
      ]
     },
     "metadata": {
      "needs_background": "light"
     },
     "output_type": "display_data"
    }
   ],
   "source": [
    "plt.scatter(weather_df[\"Lat\"], weather_df[\"Wind Speed\"], marker=\"o\")\n",
    "\n",
    "plt.title(\"Wind Speed vs City Latitude\")\n",
    "plt.ylabel(\"Wind Speed (mph)\")\n",
    "plt.xlabel(\"Latitude\")\n",
    "plt.grid(True)\n",
    "\n",
    "plt.savefig(\"output_data/WindSpeedvsCityLatitude.png\")\n",
    "\n",
    "plt.show()"
   ]
  },
  {
   "cell_type": "markdown",
   "metadata": {},
   "source": [
    "The above graph is showing the cities wind speed in relation to the cities latitude."
   ]
  },
  {
   "cell_type": "markdown",
   "metadata": {},
   "source": [
    "## Linear Regression"
   ]
  },
  {
   "cell_type": "code",
   "execution_count": 13,
   "metadata": {},
   "outputs": [],
   "source": [
    "north_weather =weather_df.loc[weather_df[\"Lat\"] >= 0]\n",
    "\n",
    "south_weather =weather_df.loc[weather_df[\"Lat\"] < 0]"
   ]
  },
  {
   "cell_type": "markdown",
   "metadata": {},
   "source": [
    "####  Northern Hemisphere - Max Temp vs. Latitude Linear Regression"
   ]
  },
  {
   "cell_type": "code",
   "execution_count": 14,
   "metadata": {},
   "outputs": [
    {
     "data": {
      "text/plain": [
       "'y = -0.54x +309.76'"
      ]
     },
     "execution_count": 14,
     "metadata": {},
     "output_type": "execute_result"
    }
   ],
   "source": [
    "(slope, intercept, rvalue, pvalue, stderr) = linregress(north_weather[\"Lat\"], north_weather[\"Max Temp\"])\n",
    "\n",
    "regress_values = north_weather[\"Lat\"] * slope + intercept\n",
    "line_eq = \"y = \" + str(round(slope,2)) + \"x +\" + str(round(intercept,2))\n",
    "\n",
    "line_eq"
   ]
  },
  {
   "cell_type": "code",
   "execution_count": 15,
   "metadata": {},
   "outputs": [
    {
     "name": "stdout",
     "output_type": "stream",
     "text": [
      "The r-value is: 0.7724252972910807\n"
     ]
    },
    {
     "data": {
      "image/png": "[encoded data removed]",
      "text/plain": [
       "<Figure size 432x288 with 1 Axes>"
      ]
     },
     "metadata": {
      "needs_background": "light"
     },
     "output_type": "display_data"
    }
   ],
   "source": [
    "plt.scatter(north_weather[\"Lat\"],north_weather[\"Max Temp\"])\n",
    "plt.plot(north_weather[\"Lat\"],regress_values,\"r-\")\n",
    "\n",
    "plt.xlabel('Latitude')\n",
    "plt.ylabel('Temperature (F)')\n",
    "plt.annotate(line_eq, (5,5), fontsize=15,color=\"red\")\n",
    "\n",
    "print(f\"The r-value is: {rvalue**2}\")\n",
    "\n",
    "plt.savefig(\"output_data/NMaxTempvsLatitude.png\")\n",
    "\n",
    "plt.show()"
   ]
  },
  {
   "cell_type": "markdown",
   "metadata": {},
   "source": [
    "####  Southern Hemisphere - Max Temp vs. Latitude Linear Regression"
   ]
  },
  {
   "cell_type": "code",
   "execution_count": 16,
   "metadata": {},
   "outputs": [
    {
     "data": {
      "text/plain": [
       "'y = 0.4x +302.22'"
      ]
     },
     "execution_count": 16,
     "metadata": {},
     "output_type": "execute_result"
    }
   ],
   "source": [
    "(slope, intercept, rvalue, pvalue, stderr) = linregress(south_weather[\"Lat\"], south_weather[\"Max Temp\"])\n",
    "\n",
    "regress_values = south_weather[\"Lat\"] * slope + intercept\n",
    "line_eq = \"y = \" + str(round(slope,2)) + \"x +\" + str(round(intercept,2))\n",
    "\n",
    "line_eq"
   ]
  },
  {
   "cell_type": "code",
   "execution_count": 17,
   "metadata": {},
   "outputs": [
    {
     "name": "stdout",
     "output_type": "stream",
     "text": [
      "The r-value is: 0.5910961901364139\n"
     ]
    },
    {
     "data": {
      "image/png": "[encoded data removed]",
      "text/plain": [
       "<Figure size 432x288 with 1 Axes>"
      ]
     },
     "metadata": {
      "needs_background": "light"
     },
     "output_type": "display_data"
    }
   ],
   "source": [
    "plt.scatter(south_weather[\"Lat\"],south_weather[\"Max Temp\"])\n",
    "plt.plot(south_weather[\"Lat\"],regress_values,\"r-\")\n",
    "\n",
    "plt.xlabel('Latitude')\n",
    "plt.ylabel('Temperature (F)')\n",
    "plt.annotate(line_eq, (5,5), fontsize=15,color=\"red\")\n",
    "\n",
    "print(f\"The r-value is: {rvalue**2}\")\n",
    "\n",
    "plt.savefig(\"output_data/SMaxTempvsLatitude.png\")\n",
    "\n",
    "plt.show()"
   ]
  },
  {
   "cell_type": "markdown",
   "metadata": {},
   "source": [
    "####  Northern Hemisphere - Humidity (%) vs. Latitude Linear Regression"
   ]
  },
  {
   "cell_type": "code",
   "execution_count": 18,
   "metadata": {},
   "outputs": [
    {
     "data": {
      "text/plain": [
       "'y = 0.18x +57.27'"
      ]
     },
     "execution_count": 18,
     "metadata": {},
     "output_type": "execute_result"
    }
   ],
   "source": [
    "(slope, intercept, rvalue, pvalue, stderr) = linregress(north_weather[\"Lat\"], north_weather[\"Humidity\"])\n",
    "\n",
    "regress_values = north_weather[\"Lat\"] * slope + intercept\n",
    "line_eq = \"y = \" + str(round(slope,2)) + \"x +\" + str(round(intercept,2))\n",
    "\n",
    "line_eq"
   ]
  },
  {
   "cell_type": "code",
   "execution_count": 19,
   "metadata": {},
   "outputs": [
    {
     "name": "stdout",
     "output_type": "stream",
     "text": [
      "The r-value is: 0.02157224332941396\n"
     ]
    },
    {
     "data": {
      "image/png": "[encoded data removed]",
      "text/plain": [
       "<Figure size 432x288 with 1 Axes>"
      ]
     },
     "metadata": {
      "needs_background": "light"
     },
     "output_type": "display_data"
    }
   ],
   "source": [
    "plt.scatter(north_weather[\"Lat\"],north_weather[\"Humidity\"])\n",
    "plt.plot(north_weather[\"Lat\"],regress_values,\"r-\")\n",
    "\n",
    "plt.xlabel('Latitude')\n",
    "plt.ylabel('Humidity (%)')\n",
    "plt.annotate(line_eq, (5,5), fontsize=15,color=\"red\")\n",
    "\n",
    "print(f\"The r-value is: {rvalue**2}\")\n",
    "\n",
    "plt.savefig(\"output_data/NHumidityvsLatitude.png\")\n",
    "\n",
    "plt.show()"
   ]
  },
  {
   "cell_type": "markdown",
   "metadata": {},
   "source": [
    "####  Southern Hemisphere - Humidity (%) vs. Latitude Linear Regression"
   ]
  },
  {
   "cell_type": "code",
   "execution_count": 20,
   "metadata": {},
   "outputs": [
    {
     "data": {
      "text/plain": [
       "'y = 0.07x +75.36'"
      ]
     },
     "execution_count": 20,
     "metadata": {},
     "output_type": "execute_result"
    }
   ],
   "source": [
    "(slope, intercept, rvalue, pvalue, stderr) = linregress(south_weather[\"Lat\"], south_weather[\"Humidity\"])\n",
    "\n",
    "regress_values = south_weather[\"Lat\"] * slope + intercept\n",
    "line_eq = \"y = \" + str(round(slope,2)) + \"x +\" + str(round(intercept,2))\n",
    "\n",
    "line_eq"
   ]
  },
  {
   "cell_type": "code",
   "execution_count": 21,
   "metadata": {},
   "outputs": [
    {
     "name": "stdout",
     "output_type": "stream",
     "text": [
      "The r-value is: 0.0027730885794397565\n"
     ]
    },
    {
     "data": {
      "image/png": "[encoded data removed]",
      "text/plain": [
       "<Figure size 432x288 with 1 Axes>"
      ]
     },
     "metadata": {
      "needs_background": "light"
     },
     "output_type": "display_data"
    }
   ],
   "source": [
    "plt.scatter(south_weather[\"Lat\"],south_weather[\"Humidity\"])\n",
    "plt.plot(south_weather[\"Lat\"],regress_values,\"r-\")\n",
    "\n",
    "plt.xlabel('Latitude')\n",
    "plt.ylabel('Humidity (%)')\n",
    "plt.annotate(line_eq, (5,5), fontsize=15,color=\"red\")\n",
    "\n",
    "print(f\"The r-value is: {rvalue**2}\")\n",
    "\n",
    "plt.savefig(\"output_data/SHumidityvsLatitude.png\")\n",
    "\n",
    "plt.show()"
   ]
  },
  {
   "cell_type": "markdown",
   "metadata": {},
   "source": [
    "####  Northern Hemisphere - Cloudiness (%) vs. Latitude Linear Regression"
   ]
  },
  {
   "cell_type": "code",
   "execution_count": 22,
   "metadata": {},
   "outputs": [
    {
     "data": {
      "text/plain": [
       "'y = 0.22x +44.86'"
      ]
     },
     "execution_count": 22,
     "metadata": {},
     "output_type": "execute_result"
    }
   ],
   "source": [
    "(slope, intercept, rvalue, pvalue, stderr) = linregress(north_weather[\"Lat\"], north_weather[\"Cloudiness\"])\n",
    "\n",
    "regress_values = north_weather[\"Lat\"] * slope + intercept\n",
    "line_eq = \"y = \" + str(round(slope,2)) + \"x +\" + str(round(intercept,2))\n",
    "\n",
    "line_eq"
   ]
  },
  {
   "cell_type": "code",
   "execution_count": 23,
   "metadata": {},
   "outputs": [
    {
     "name": "stdout",
     "output_type": "stream",
     "text": [
      "The r-value is: 0.011033244205802852\n"
     ]
    },
    {
     "data": {
      "image/png": "[encoded data removed]",
      "text/plain": [
       "<Figure size 432x288 with 1 Axes>"
      ]
     },
     "metadata": {
      "needs_background": "light"
     },
     "output_type": "display_data"
    }
   ],
   "source": [
    "plt.scatter(north_weather[\"Lat\"],north_weather[\"Cloudiness\"])\n",
    "plt.plot(north_weather[\"Lat\"],regress_values,\"r-\")\n",
    "\n",
    "plt.xlabel('Latitude')\n",
    "plt.ylabel('Cloudiness (%)')\n",
    "plt.annotate(line_eq, (5,5), fontsize=15,color=\"red\")\n",
    "\n",
    "print(f\"The r-value is: {rvalue**2}\")\n",
    "\n",
    "plt.savefig(\"output_data/NCloudinessvsLatitude.png\")\n",
    "\n",
    "plt.show()"
   ]
  },
  {
   "cell_type": "markdown",
   "metadata": {},
   "source": [
    "####  Southern Hemisphere - Cloudiness (%) vs. Latitude Linear Regression"
   ]
  },
  {
   "cell_type": "code",
   "execution_count": 24,
   "metadata": {},
   "outputs": [
    {
     "data": {
      "text/plain": [
       "'y = 0.43x +51.66'"
      ]
     },
     "execution_count": 24,
     "metadata": {},
     "output_type": "execute_result"
    }
   ],
   "source": [
    "(slope, intercept, rvalue, pvalue, stderr) = linregress(south_weather[\"Lat\"], south_weather[\"Cloudiness\"])\n",
    "\n",
    "regress_values = south_weather[\"Lat\"] * slope + intercept\n",
    "line_eq = \"y = \" + str(round(slope,2)) + \"x +\" + str(round(intercept,2))\n",
    "\n",
    "line_eq"
   ]
  },
  {
   "cell_type": "code",
   "execution_count": 25,
   "metadata": {},
   "outputs": [
    {
     "name": "stdout",
     "output_type": "stream",
     "text": [
      "The r-value is: 0.02354106442902918\n"
     ]
    },
    {
     "data": {
      "image/png": "[encoded data removed]",
      "text/plain": [
       "<Figure size 432x288 with 1 Axes>"
      ]
     },
     "metadata": {
      "needs_background": "light"
     },
     "output_type": "display_data"
    }
   ],
   "source": [
    "plt.scatter(south_weather[\"Lat\"],south_weather[\"Cloudiness\"])\n",
    "plt.plot(south_weather[\"Lat\"],regress_values,\"r-\")\n",
    "\n",
    "plt.xlabel('Latitude')\n",
    "plt.ylabel('Cloudiness (%)')\n",
    "plt.annotate(line_eq, (5,5), fontsize=15,color=\"red\")\n",
    "\n",
    "print(f\"The r-value is: {rvalue**2}\")\n",
    "\n",
    "plt.savefig(\"output_data/SCloudinessvsLatitude.png\")\n",
    "\n",
    "plt.show()"
   ]
  },
  {
   "cell_type": "markdown",
   "metadata": {},
   "source": [
    "####  Northern Hemisphere - Wind Speed (mph) vs. Latitude Linear Regression"
   ]
  },
  {
   "cell_type": "code",
   "execution_count": 26,
   "metadata": {},
   "outputs": [
    {
     "data": {
      "text/plain": [
       "'y = 0.0x +3.35'"
      ]
     },
     "execution_count": 26,
     "metadata": {},
     "output_type": "execute_result"
    }
   ],
   "source": [
    "(slope, intercept, rvalue, pvalue, stderr) = linregress(north_weather[\"Lat\"], north_weather[\"Wind Speed\"])\n",
    "\n",
    "regress_values = north_weather[\"Lat\"] * slope + intercept\n",
    "line_eq = \"y = \" + str(round(slope,2)) + \"x +\" + str(round(intercept,2))\n",
    "\n",
    "line_eq"
   ]
  },
  {
   "cell_type": "code",
   "execution_count": 27,
   "metadata": {},
   "outputs": [
    {
     "name": "stdout",
     "output_type": "stream",
     "text": [
      "The r-value is: 0.001274071583443702\n"
     ]
    },
    {
     "data": {
      "image/png": "[encoded data removed]",
      "text/plain": [
       "<Figure size 432x288 with 1 Axes>"
      ]
     },
     "metadata": {
      "needs_background": "light"
     },
     "output_type": "display_data"
    }
   ],
   "source": [
    "plt.scatter(north_weather[\"Lat\"],north_weather[\"Wind Speed\"])\n",
    "plt.plot(north_weather[\"Lat\"],regress_values,\"r-\")\n",
    "\n",
    "plt.xlabel('Latitude')\n",
    "plt.ylabel('Wind Speed (mph)')\n",
    "plt.annotate(line_eq, (5,5), fontsize=15,color=\"red\")\n",
    "\n",
    "print(f\"The r-value is: {rvalue**2}\")\n",
    "\n",
    "plt.savefig(\"output_data/NWindSpeedvsLatitude.png\")\n",
    "\n",
    "plt.show()"
   ]
  },
  {
   "cell_type": "markdown",
   "metadata": {},
   "source": [
    "####  Southern Hemisphere - Wind Speed (mph) vs. Latitude Linear Regression"
   ]
  },
  {
   "cell_type": "code",
   "execution_count": 28,
   "metadata": {},
   "outputs": [
    {
     "data": {
      "text/plain": [
       "'y = -0.04x +2.3'"
      ]
     },
     "execution_count": 28,
     "metadata": {},
     "output_type": "execute_result"
    }
   ],
   "source": [
    "(slope, intercept, rvalue, pvalue, stderr) = linregress(south_weather[\"Lat\"], south_weather[\"Wind Speed\"])\n",
    "\n",
    "regress_values = south_weather[\"Lat\"] * slope + intercept\n",
    "line_eq = \"y = \" + str(round(slope,2)) + \"x +\" + str(round(intercept,2))\n",
    "\n",
    "line_eq"
   ]
  },
  {
   "cell_type": "code",
   "execution_count": 29,
   "metadata": {},
   "outputs": [
    {
     "name": "stdout",
     "output_type": "stream",
     "text": [
      "The r-value is: 0.0524011268611873\n"
     ]
    },
    {
     "data": {
      "image/png": "[encoded data removed]",
      "text/plain": [
       "<Figure size 432x288 with 1 Axes>"
      ]
     },
     "metadata": {
      "needs_background": "light"
     },
     "output_type": "display_data"
    }
   ],
   "source": [
    "plt.scatter(south_weather[\"Lat\"],south_weather[\"Wind Speed\"])\n",
    "plt.plot(south_weather[\"Lat\"],regress_values,\"r-\")\n",
    "\n",
    "plt.xlabel('Latitude')\n",
    "plt.ylabel('Wind Speed (mph)')\n",
    "plt.annotate(line_eq, (5,5), fontsize=15,color=\"red\")\n",
    "\n",
    "print(f\"The r-value is: {rvalue**2}\")\n",
    "\n",
    "plt.savefig(\"output_data/SWindSpeedvsLatitude.png\")\n",
    "\n",
    "plt.show()"
   ]
  },
  {
   "cell_type": "code",
   "execution_count": null,
   "metadata": {},
   "outputs": [],
   "source": []
  }
 ],
 "metadata": {
  "anaconda-cloud": {},
  "kernel_info": {
   "name": "python3"
  },
  "kernelspec": {
   "display_name": "PythonData",
   "language": "python",
   "name": "pythondata"
  },
  "language_info": {
   "codemirror_mode": {
    "name": "ipython",
    "version": 3
   },
   "file_extension": ".py",
   "mimetype": "text/x-python",
   "name": "python",
   "nbconvert_exporter": "python",
   "pygments_lexer": "ipython3",
   "version": "3.8.5"
  },
  "latex_envs": {
   "LaTeX_envs_menu_present": true,
   "autoclose": false,
   "autocomplete": true,
   "bibliofile": "biblio.bib",
   "cite_by": "apalike",
   "current_citInitial": 1,
   "eqLabelWithNumbers": true,
   "eqNumInitial": 1,
   "hotkeys": {
    "equation": "Ctrl-E",
    "itemize": "Ctrl-I"
   },
   "labels_anchors": false,
   "latex_user_defs": false,
   "report_style_numbering": false,
   "user_envs_cfg": false
  },
  "nteract": {
   "version": "0.12.3"
  }
 },
 "nbformat": 4,
 "nbformat_minor": 2
}
