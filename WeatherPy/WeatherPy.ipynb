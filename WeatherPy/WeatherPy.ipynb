{
 "cells": [
  {
   "cell_type": "markdown",
   "metadata": {},
   "source": [
    "# WeatherPy\n",
    "----\n",
    "\n",
    "#### Note\n",
    "* Instructions have been included for each segment. You do not have to follow them exactly, but they are included to help you think through the steps."
   ]
  },
  {
   "cell_type": "code",
   "execution_count": 20,
   "metadata": {
    "scrolled": true
   },
   "outputs": [],
   "source": [
    "# Dependencies and Setup\n",
    "import matplotlib.pyplot as plt\n",
    "import pandas as pd\n",
    "import numpy as np\n",
    "import requests\n",
    "import time\n",
    "from scipy.stats import linregress\n",
    "from pprint import pprint\n",
    "\n",
    "\n",
    "# Import API key\n",
    "from api_keys import weather_api_key\n",
    "\n",
    "# Incorporated citipy to determine city based on latitude and longitude\n",
    "from citipy import citipy\n",
    "\n",
    "# Output File (CSV)\n",
    "output_data_file = \"output_data/cities.csv\"\n",
    "\n",
    "url = \"http://api.openweathermap.org/data/2.5/weather?\"\n",
    "\n",
    "\n",
    "\n",
    "# Range of latitudes and longitudes\n",
    "lat_range = (-90, 90)\n",
    "lng_range = (-180, 180)"
   ]
  },
  {
   "cell_type": "markdown",
   "metadata": {},
   "source": [
    "## Generate Cities List"
   ]
  },
  {
   "cell_type": "code",
   "execution_count": 21,
   "metadata": {},
   "outputs": [
    {
     "data": {
      "text/plain": [
       "637"
      ]
     },
     "execution_count": 21,
     "metadata": {},
     "output_type": "execute_result"
    }
   ],
   "source": [
    "# List for holding lat_lngs and cities\n",
    "lat_lngs = []\n",
    "cities = []\n",
    "\n",
    "# Create a set of random lat and lng combinations\n",
    "lats = np.random.uniform(lat_range[0], lat_range[1], size=1500)\n",
    "lngs = np.random.uniform(lng_range[0], lng_range[1], size=1500)\n",
    "lat_lngs = zip(lats, lngs)\n",
    "\n",
    "# Identify nearest city for each lat, lng combination\n",
    "for lat_lng in lat_lngs:\n",
    "    city = citipy.nearest_city(lat_lng[0], lat_lng[1]).city_name\n",
    "    \n",
    "    # If the city is unique, then add it to a our cities list\n",
    "    if city not in cities:\n",
    "        cities.append(city)\n",
    "\n",
    "# Print the city count to confirm sufficient count\n",
    "len(cities)"
   ]
  },
  {
   "cell_type": "markdown",
   "metadata": {},
   "source": [
    "### Perform API Calls\n",
    "* Perform a weather check on each city using a series of successive API calls.\n",
    "* Include a print log of each city as it'sbeing processed (with the city number and city name).\n"
   ]
  },
  {
   "cell_type": "code",
   "execution_count": 3,
   "metadata": {},
   "outputs": [],
   "source": [
    "cityname=[]\n",
    "lat=[]\n",
    "lng=[]\n",
    "max_temp=[]\n",
    "humidity=[]\n",
    "cloudiness=[]\n",
    "wind_speed=[]\n",
    "country=[]\n",
    "date=[]"
   ]
  },
  {
   "cell_type": "code",
   "execution_count": 4,
   "metadata": {},
   "outputs": [
    {
     "name": "stdout",
     "output_type": "stream",
     "text": [
      "Processing Record 0 of Set 1 | fortuna\n",
      "Processing Record 1 of Set 1 | waddan\n",
      "Processing Record 2 of Set 1 | jamestown\n",
      "Processing Record 3 of Set 1 | atuona\n",
      "Processing Record 4 of Set 1 | punta arenas\n",
      "Processing Record 5 of Set 1 | mukhen\n",
      "Processing Record 6 of Set 1 | taolanaro\n",
      "City not found...Skipping...\n",
      "Processing Record 7 of Set 1 | castro\n",
      "Processing Record 8 of Set 1 | bolungarvik\n",
      "City not found...Skipping...\n",
      "Processing Record 9 of Set 1 | sattahip\n",
      "Processing Record 10 of Set 1 | hilo\n",
      "Processing Record 11 of Set 1 | zavodouspenskoye\n",
      "Processing Record 12 of Set 1 | savalou\n",
      "Processing Record 13 of Set 1 | bosaso\n",
      "Processing Record 14 of Set 1 | dali\n",
      "Processing Record 15 of Set 1 | yellowknife\n",
      "Processing Record 16 of Set 1 | burhanpur\n",
      "Processing Record 17 of Set 1 | hobart\n",
      "Processing Record 18 of Set 1 | geraldton\n",
      "Processing Record 19 of Set 1 | sal rei\n",
      "Processing Record 20 of Set 1 | kapaa\n",
      "Processing Record 21 of Set 1 | rio grande\n",
      "Processing Record 22 of Set 1 | nizhneyansk\n",
      "City not found...Skipping...\n",
      "Processing Record 23 of Set 1 | ballina\n",
      "Processing Record 24 of Set 1 | mataura\n",
      "Processing Record 25 of Set 1 | richards bay\n",
      "Processing Record 26 of Set 1 | ushuaia\n",
      "Processing Record 27 of Set 1 | victoria\n",
      "Processing Record 28 of Set 1 | poum\n",
      "Processing Record 29 of Set 1 | butaritari\n",
      "Processing Record 30 of Set 1 | cherskiy\n",
      "Processing Record 31 of Set 1 | nueva guinea\n",
      "Processing Record 32 of Set 1 | stromness\n",
      "Processing Record 33 of Set 1 | nelson bay\n",
      "Processing Record 34 of Set 1 | westport\n",
      "Processing Record 35 of Set 1 | saint george\n",
      "Processing Record 36 of Set 1 | kulhudhuffushi\n",
      "Processing Record 37 of Set 1 | axim\n",
      "Processing Record 38 of Set 1 | caravelas\n",
      "Processing Record 39 of Set 1 | new norfolk\n",
      "Processing Record 40 of Set 1 | vaini\n",
      "Processing Record 41 of Set 1 | longlac\n",
      "City not found...Skipping...\n",
      "Processing Record 42 of Set 1 | ajdabiya\n",
      "Processing Record 43 of Set 1 | tasiilaq\n",
      "Processing Record 44 of Set 1 | barentsburg\n",
      "City not found...Skipping...\n",
      "Processing Record 45 of Set 1 | umzimvubu\n",
      "City not found...Skipping...\n",
      "Processing Record 46 of Set 1 | ribeira grande\n",
      "Processing Record 47 of Set 1 | busselton\n",
      "Processing Record 48 of Set 1 | tatawin\n",
      "Processing Record 49 of Set 1 | sungaipenuh\n",
      "Processing Record 1 of Set 2 | abha\n",
      "Processing Record 2 of Set 2 | riyadh\n",
      "Processing Record 3 of Set 2 | falealupo\n",
      "City not found...Skipping...\n",
      "Processing Record 4 of Set 2 | rungata\n",
      "City not found...Skipping...\n",
      "Processing Record 5 of Set 2 | bambous virieux\n",
      "Processing Record 6 of Set 2 | tuatapere\n",
      "Processing Record 7 of Set 2 | obihiro\n",
      "Processing Record 8 of Set 2 | brae\n",
      "Processing Record 9 of Set 2 | nalut\n",
      "Processing Record 10 of Set 2 | rikitea\n",
      "Processing Record 11 of Set 2 | palabuhanratu\n",
      "City not found...Skipping...\n",
      "Processing Record 12 of Set 2 | alihe\n",
      "Processing Record 13 of Set 2 | los llanos de aridane\n",
      "Processing Record 14 of Set 2 | swan hill\n",
      "Processing Record 15 of Set 2 | bluff\n",
      "Processing Record 16 of Set 2 | lebu\n",
      "Processing Record 17 of Set 2 | spring valley\n",
      "Processing Record 18 of Set 2 | merauke\n",
      "Processing Record 19 of Set 2 | kashi\n",
      "Processing Record 20 of Set 2 | severo-kurilsk\n",
      "Processing Record 21 of Set 2 | shache\n",
      "Processing Record 22 of Set 2 | belushya guba\n",
      "City not found...Skipping...\n",
      "Processing Record 23 of Set 2 | namibe\n",
      "Processing Record 24 of Set 2 | elk river\n",
      "Processing Record 25 of Set 2 | puerto ayora\n",
      "Processing Record 26 of Set 2 | mangrol\n",
      "Processing Record 27 of Set 2 | esperance\n",
      "Processing Record 28 of Set 2 | chokurdakh\n",
      "Processing Record 29 of Set 2 | kargil\n",
      "Processing Record 30 of Set 2 | xapuri\n",
      "Processing Record 31 of Set 2 | berlevag\n",
      "Processing Record 32 of Set 2 | bengkulu\n",
      "Processing Record 33 of Set 2 | khatanga\n",
      "Processing Record 34 of Set 2 | qaqortoq\n",
      "Processing Record 35 of Set 2 | cidreira\n",
      "Processing Record 36 of Set 2 | shimoda\n",
      "Processing Record 37 of Set 2 | young\n",
      "Processing Record 38 of Set 2 | buala\n",
      "Processing Record 39 of Set 2 | pevek\n",
      "Processing Record 40 of Set 2 | la rioja\n",
      "Processing Record 41 of Set 2 | katsuura\n",
      "Processing Record 42 of Set 2 | talnakh\n",
      "Processing Record 43 of Set 2 | bethel\n",
      "Processing Record 44 of Set 2 | severo-yeniseyskiy\n",
      "Processing Record 45 of Set 2 | qaanaaq\n",
      "Processing Record 46 of Set 2 | provideniya\n",
      "Processing Record 47 of Set 2 | seabra\n",
      "Processing Record 48 of Set 2 | saint-philippe\n",
      "Processing Record 49 of Set 2 | muscat\n",
      "Processing Record 50 of Set 2 | iqaluit\n",
      "Processing Record 1 of Set 3 | itarema\n",
      "Processing Record 2 of Set 3 | taunggyi\n",
      "Processing Record 3 of Set 3 | port hueneme\n",
      "Processing Record 4 of Set 3 | chuy\n",
      "Processing Record 5 of Set 3 | ust-kamchatsk\n",
      "City not found...Skipping...\n",
      "Processing Record 6 of Set 3 | elmira\n",
      "Processing Record 7 of Set 3 | mount gambier\n",
      "Processing Record 8 of Set 3 | faya\n",
      "Processing Record 9 of Set 3 | banmo\n",
      "City not found...Skipping...\n",
      "Processing Record 10 of Set 3 | beringovskiy\n",
      "Processing Record 11 of Set 3 | ontario\n",
      "Processing Record 12 of Set 3 | khrebtovaya\n",
      "Processing Record 13 of Set 3 | havre de grace\n",
      "Processing Record 14 of Set 3 | talaya\n",
      "Processing Record 15 of Set 3 | barranca\n",
      "Processing Record 16 of Set 3 | arraial do cabo\n",
      "Processing Record 17 of Set 3 | east london\n",
      "Processing Record 18 of Set 3 | thompson\n",
      "Processing Record 19 of Set 3 | luba\n",
      "Processing Record 20 of Set 3 | gandajika\n",
      "Processing Record 21 of Set 3 | hermanus\n",
      "Processing Record 22 of Set 3 | hasaki\n",
      "Processing Record 23 of Set 3 | bredasdorp\n",
      "Processing Record 24 of Set 3 | chulucanas\n",
      "Processing Record 25 of Set 3 | kindu\n",
      "Processing Record 26 of Set 3 | port alfred\n",
      "Processing Record 27 of Set 3 | lagoa\n",
      "Processing Record 28 of Set 3 | nikolskoye\n",
      "Processing Record 29 of Set 3 | jalu\n",
      "Processing Record 30 of Set 3 | karkaralinsk\n",
      "City not found...Skipping...\n",
      "Processing Record 31 of Set 3 | mindyak\n",
      "Processing Record 32 of Set 3 | copala\n",
      "Processing Record 33 of Set 3 | bayir\n",
      "Processing Record 34 of Set 3 | san quintin\n",
      "Processing Record 35 of Set 3 | albany\n",
      "Processing Record 36 of Set 3 | grand gaube\n",
      "Processing Record 37 of Set 3 | fort nelson\n",
      "Processing Record 38 of Set 3 | dikson\n",
      "Processing Record 39 of Set 3 | mahebourg\n",
      "Processing Record 40 of Set 3 | mys shmidta\n",
      "City not found...Skipping...\n",
      "Processing Record 41 of Set 3 | lorengau\n",
      "Processing Record 42 of Set 3 | saldanha\n",
      "Processing Record 43 of Set 3 | vaitape\n",
      "Processing Record 44 of Set 3 | rocha\n",
      "Processing Record 45 of Set 3 | oron\n",
      "Processing Record 46 of Set 3 | tsihombe\n",
      "City not found...Skipping...\n",
      "Processing Record 47 of Set 3 | kodiak\n",
      "Processing Record 48 of Set 3 | seoul\n",
      "Processing Record 49 of Set 3 | linhares\n",
      "Processing Record 50 of Set 3 | hihifo\n",
      "City not found...Skipping...\n",
      "Processing Record 1 of Set 4 | marsh harbour\n",
      "Processing Record 2 of Set 4 | tiksi\n",
      "Processing Record 3 of Set 4 | tutoia\n",
      "Processing Record 4 of Set 4 | avarua\n",
      "Processing Record 5 of Set 4 | ayagoz\n",
      "Processing Record 6 of Set 4 | tambo grande\n",
      "Processing Record 7 of Set 4 | lakes entrance\n",
      "Processing Record 8 of Set 4 | phak hai\n",
      "Processing Record 9 of Set 4 | iwaki\n",
      "Processing Record 10 of Set 4 | dinar\n",
      "Processing Record 11 of Set 4 | vaitupu\n",
      "City not found...Skipping...\n",
      "Processing Record 12 of Set 4 | malatya\n",
      "Processing Record 13 of Set 4 | port elizabeth\n",
      "Processing Record 14 of Set 4 | toliary\n",
      "City not found...Skipping...\n",
      "Processing Record 15 of Set 4 | camaguey\n",
      "Processing Record 16 of Set 4 | zhanaozen\n",
      "Processing Record 17 of Set 4 | pangnirtung\n",
      "Processing Record 18 of Set 4 | sao filipe\n",
      "Processing Record 19 of Set 4 | marcona\n",
      "City not found...Skipping...\n",
      "Processing Record 20 of Set 4 | mynay\n",
      "Processing Record 21 of Set 4 | arzgir\n",
      "Processing Record 22 of Set 4 | sukumo\n",
      "Processing Record 23 of Set 4 | ornskoldsvik\n",
      "Processing Record 24 of Set 4 | padang\n",
      "Processing Record 25 of Set 4 | nanortalik\n",
      "Processing Record 26 of Set 4 | codrington\n",
      "Processing Record 27 of Set 4 | taltal\n",
      "Processing Record 28 of Set 4 | high level\n",
      "Processing Record 29 of Set 4 | biryusinsk\n",
      "Processing Record 30 of Set 4 | jatai\n",
      "Processing Record 31 of Set 4 | samusu\n",
      "City not found...Skipping...\n",
      "Processing Record 32 of Set 4 | sinnamary\n",
      "Processing Record 33 of Set 4 | pisco\n",
      "Processing Record 34 of Set 4 | carbonia\n",
      "Processing Record 35 of Set 4 | karaul\n",
      "City not found...Skipping...\n",
      "Processing Record 36 of Set 4 | narang\n"
     ]
    },
    {
     "name": "stdout",
     "output_type": "stream",
     "text": [
      "Processing Record 37 of Set 4 | mar del plata\n",
      "Processing Record 38 of Set 4 | cape town\n",
      "Processing Record 39 of Set 4 | amderma\n",
      "City not found...Skipping...\n",
      "Processing Record 40 of Set 4 | kavaratti\n",
      "Processing Record 41 of Set 4 | ciudad bolivar\n",
      "Processing Record 42 of Set 4 | namatanai\n",
      "Processing Record 43 of Set 4 | mikhaylovskoye\n",
      "Processing Record 44 of Set 4 | charters towers\n",
      "Processing Record 45 of Set 4 | honghu\n",
      "Processing Record 46 of Set 4 | inta\n",
      "Processing Record 47 of Set 4 | uhlove\n",
      "Processing Record 48 of Set 4 | mattru\n",
      "Processing Record 49 of Set 4 | schio\n",
      "Processing Record 50 of Set 4 | ayolas\n",
      "Processing Record 1 of Set 5 | clyde river\n",
      "Processing Record 2 of Set 5 | yabassi\n",
      "Processing Record 3 of Set 5 | gaspe\n",
      "Processing Record 4 of Set 5 | cabedelo\n",
      "Processing Record 5 of Set 5 | nabire\n",
      "Processing Record 6 of Set 5 | hithadhoo\n",
      "Processing Record 7 of Set 5 | mao\n",
      "Processing Record 8 of Set 5 | bac lieu\n",
      "Processing Record 9 of Set 5 | rajapur\n",
      "Processing Record 10 of Set 5 | cabo san lucas\n",
      "Processing Record 11 of Set 5 | oktyabrskiy\n",
      "Processing Record 12 of Set 5 | torbay\n",
      "Processing Record 13 of Set 5 | ambulu\n",
      "Processing Record 14 of Set 5 | biak\n",
      "Processing Record 15 of Set 5 | mahibadhoo\n",
      "Processing Record 16 of Set 5 | hsintien\n",
      "City not found...Skipping...\n",
      "Processing Record 17 of Set 5 | attawapiskat\n",
      "City not found...Skipping...\n",
      "Processing Record 18 of Set 5 | tuktoyaktuk\n",
      "Processing Record 19 of Set 5 | severobaykalsk\n",
      "Processing Record 20 of Set 5 | sturgeon bay\n",
      "Processing Record 21 of Set 5 | oskemen\n",
      "Processing Record 22 of Set 5 | sint-gillis-waas\n",
      "Processing Record 23 of Set 5 | kawalu\n",
      "Processing Record 24 of Set 5 | najran\n",
      "Processing Record 25 of Set 5 | inhambane\n",
      "Processing Record 26 of Set 5 | makakilo city\n",
      "Processing Record 27 of Set 5 | utiroa\n",
      "City not found...Skipping...\n",
      "Processing Record 28 of Set 5 | elko\n",
      "Processing Record 29 of Set 5 | salalah\n",
      "Processing Record 30 of Set 5 | kilindoni\n",
      "Processing Record 31 of Set 5 | kieta\n",
      "Processing Record 32 of Set 5 | bama\n",
      "Processing Record 33 of Set 5 | naze\n",
      "Processing Record 34 of Set 5 | manaure\n",
      "Processing Record 35 of Set 5 | tougan\n",
      "Processing Record 36 of Set 5 | joensuu\n",
      "Processing Record 37 of Set 5 | louisbourg\n",
      "City not found...Skipping...\n",
      "Processing Record 38 of Set 5 | vila velha\n",
      "Processing Record 39 of Set 5 | touros\n",
      "Processing Record 40 of Set 5 | shelburne\n",
      "Processing Record 41 of Set 5 | epe\n",
      "Processing Record 42 of Set 5 | meadville\n",
      "Processing Record 43 of Set 5 | paamiut\n",
      "Processing Record 44 of Set 5 | grand river south east\n",
      "City not found...Skipping...\n",
      "Processing Record 45 of Set 5 | baruun-urt\n",
      "Processing Record 46 of Set 5 | barrow\n",
      "Processing Record 47 of Set 5 | port-gentil\n",
      "Processing Record 48 of Set 5 | carora\n",
      "Processing Record 49 of Set 5 | merida\n",
      "Processing Record 50 of Set 5 | burnie\n",
      "Processing Record 1 of Set 6 | saint-francois\n",
      "Processing Record 2 of Set 6 | ponta do sol\n",
      "Processing Record 3 of Set 6 | pedra\n",
      "Processing Record 4 of Set 6 | samarai\n",
      "Processing Record 5 of Set 6 | telsiai\n",
      "Processing Record 6 of Set 6 | vila franca do campo\n",
      "Processing Record 7 of Set 6 | illoqqortoormiut\n",
      "City not found...Skipping...\n",
      "Processing Record 8 of Set 6 | chinhoyi\n",
      "Processing Record 9 of Set 6 | lingao\n",
      "Processing Record 10 of Set 6 | saint-denis\n",
      "Processing Record 11 of Set 6 | pierre\n",
      "Processing Record 12 of Set 6 | romanovo\n",
      "Processing Record 13 of Set 6 | harper\n",
      "Processing Record 14 of Set 6 | blagoyevo\n",
      "Processing Record 15 of Set 6 | dawlatabad\n",
      "Processing Record 16 of Set 6 | airai\n",
      "Processing Record 17 of Set 6 | la ronge\n",
      "Processing Record 18 of Set 6 | matara\n",
      "Processing Record 19 of Set 6 | mount isa\n",
      "Processing Record 20 of Set 6 | tamandare\n",
      "Processing Record 21 of Set 6 | semporna\n",
      "Processing Record 22 of Set 6 | faanui\n",
      "Processing Record 23 of Set 6 | ancud\n",
      "Processing Record 24 of Set 6 | sentyabrskiy\n",
      "City not found...Skipping...\n",
      "Processing Record 25 of Set 6 | udachnyy\n",
      "Processing Record 26 of Set 6 | broome\n",
      "Processing Record 27 of Set 6 | kosa\n",
      "Processing Record 28 of Set 6 | fairbanks\n",
      "Processing Record 29 of Set 6 | upernavik\n",
      "Processing Record 30 of Set 6 | imbituba\n",
      "Processing Record 31 of Set 6 | yichun\n",
      "Processing Record 32 of Set 6 | abaza\n",
      "Processing Record 33 of Set 6 | lebowakgomo\n",
      "Processing Record 34 of Set 6 | auki\n",
      "Processing Record 35 of Set 6 | arlit\n",
      "Processing Record 36 of Set 6 | palauig\n",
      "Processing Record 37 of Set 6 | grindavik\n",
      "Processing Record 38 of Set 6 | tarboro\n",
      "Processing Record 39 of Set 6 | tapes\n",
      "Processing Record 40 of Set 6 | chicama\n",
      "Processing Record 41 of Set 6 | nioro\n",
      "Processing Record 42 of Set 6 | kuusamo\n",
      "Processing Record 43 of Set 6 | saskylakh\n",
      "Processing Record 44 of Set 6 | tabiauea\n",
      "City not found...Skipping...\n",
      "Processing Record 45 of Set 6 | ito\n",
      "Processing Record 46 of Set 6 | kattivakkam\n",
      "Processing Record 47 of Set 6 | chaozhou\n",
      "Processing Record 48 of Set 6 | mackay\n",
      "Processing Record 49 of Set 6 | bagasara\n",
      "City not found...Skipping...\n",
      "Processing Record 50 of Set 6 | obo\n",
      "Processing Record 1 of Set 7 | severnyy\n",
      "Processing Record 2 of Set 7 | morehead\n",
      "Processing Record 3 of Set 7 | hambantota\n",
      "Processing Record 4 of Set 7 | kavieng\n",
      "Processing Record 5 of Set 7 | liepaja\n",
      "Processing Record 6 of Set 7 | jumla\n",
      "Processing Record 7 of Set 7 | ugoofaaru\n",
      "Processing Record 8 of Set 7 | carutapera\n",
      "Processing Record 9 of Set 7 | sitges\n",
      "Processing Record 10 of Set 7 | carballo\n",
      "Processing Record 11 of Set 7 | kijang\n",
      "Processing Record 12 of Set 7 | odessa\n",
      "Processing Record 13 of Set 7 | vereeniging\n",
      "Processing Record 14 of Set 7 | luderitz\n",
      "Processing Record 15 of Set 7 | praia\n",
      "Processing Record 16 of Set 7 | dongsheng\n",
      "Processing Record 17 of Set 7 | trofors\n",
      "Processing Record 18 of Set 7 | kahului\n",
      "Processing Record 19 of Set 7 | linxia\n",
      "Processing Record 20 of Set 7 | castel san pietro terme\n",
      "Processing Record 21 of Set 7 | yarada\n",
      "Processing Record 22 of Set 7 | san\n",
      "Processing Record 23 of Set 7 | erdenet\n",
      "Processing Record 24 of Set 7 | georgetown\n",
      "Processing Record 25 of Set 7 | srednekolymsk\n",
      "Processing Record 26 of Set 7 | tierralta\n",
      "Processing Record 27 of Set 7 | thinadhoo\n",
      "Processing Record 28 of Set 7 | sisimiut\n",
      "Processing Record 29 of Set 7 | novobessergenevka\n",
      "Processing Record 30 of Set 7 | constitucion\n",
      "Processing Record 31 of Set 7 | acapulco\n",
      "Processing Record 32 of Set 7 | porto walter\n",
      "Processing Record 33 of Set 7 | hongan\n",
      "City not found...Skipping...\n",
      "Processing Record 34 of Set 7 | itupiranga\n",
      "Processing Record 35 of Set 7 | petropavlovsk-kamchatskiy\n",
      "Processing Record 36 of Set 7 | itupeva\n",
      "Processing Record 37 of Set 7 | kupang\n",
      "Processing Record 38 of Set 7 | galiwinku\n",
      "City not found...Skipping...\n",
      "Processing Record 39 of Set 7 | canico\n",
      "Processing Record 40 of Set 7 | ahipara\n",
      "Processing Record 41 of Set 7 | carnarvon\n",
      "Processing Record 42 of Set 7 | terme\n",
      "Processing Record 43 of Set 7 | malakal\n",
      "Processing Record 44 of Set 7 | camopi\n",
      "Processing Record 45 of Set 7 | san lawrenz\n",
      "Processing Record 46 of Set 7 | suda\n",
      "Processing Record 47 of Set 7 | sur\n",
      "Processing Record 48 of Set 7 | bud\n",
      "Processing Record 49 of Set 7 | erenhot\n",
      "Processing Record 50 of Set 7 | dossor\n",
      "Processing Record 1 of Set 8 | jiroft\n",
      "City not found...Skipping...\n",
      "Processing Record 2 of Set 8 | crestview\n",
      "Processing Record 3 of Set 8 | rio gallegos\n",
      "Processing Record 4 of Set 8 | noumea\n",
      "Processing Record 5 of Set 8 | marawi\n",
      "Processing Record 6 of Set 8 | nuuk\n",
      "Processing Record 7 of Set 8 | panguma\n",
      "Processing Record 8 of Set 8 | quatre cocos\n",
      "Processing Record 9 of Set 8 | sungairaya\n",
      "Processing Record 10 of Set 8 | nagato\n",
      "Processing Record 11 of Set 8 | tigil\n",
      "Processing Record 12 of Set 8 | chivilcoy\n",
      "Processing Record 13 of Set 8 | pochutla\n",
      "Processing Record 14 of Set 8 | chapais\n",
      "Processing Record 15 of Set 8 | nguiu\n",
      "City not found...Skipping...\n",
      "Processing Record 16 of Set 8 | aberdeen\n",
      "Processing Record 17 of Set 8 | khandyga\n",
      "Processing Record 18 of Set 8 | zyryanka\n",
      "Processing Record 19 of Set 8 | lodeynoye pole\n",
      "Processing Record 20 of Set 8 | grand forks\n",
      "Processing Record 21 of Set 8 | san patricio\n",
      "Processing Record 22 of Set 8 | ola\n",
      "Processing Record 23 of Set 8 | kaitangata\n",
      "Processing Record 24 of Set 8 | palu\n",
      "Processing Record 25 of Set 8 | sedan\n",
      "Processing Record 26 of Set 8 | barawe\n",
      "City not found...Skipping...\n",
      "Processing Record 27 of Set 8 | viedma\n"
     ]
    },
    {
     "name": "stdout",
     "output_type": "stream",
     "text": [
      "Processing Record 28 of Set 8 | sorland\n",
      "Processing Record 29 of Set 8 | labuhan\n",
      "Processing Record 30 of Set 8 | sharlyk\n",
      "Processing Record 31 of Set 8 | nome\n",
      "Processing Record 32 of Set 8 | malindi\n",
      "Processing Record 33 of Set 8 | mehran\n",
      "Processing Record 34 of Set 8 | kununurra\n",
      "Processing Record 35 of Set 8 | santa catarina de tepehuanes\n",
      "Processing Record 36 of Set 8 | lavrentiya\n",
      "Processing Record 37 of Set 8 | kushiro\n",
      "Processing Record 38 of Set 8 | vardo\n",
      "Processing Record 39 of Set 8 | kroya\n",
      "Processing Record 40 of Set 8 | halalo\n",
      "City not found...Skipping...\n",
      "Processing Record 41 of Set 8 | antsohihy\n",
      "Processing Record 42 of Set 8 | jabiru\n",
      "City not found...Skipping...\n",
      "Processing Record 43 of Set 8 | road town\n",
      "Processing Record 44 of Set 8 | balimo\n",
      "City not found...Skipping...\n",
      "Processing Record 45 of Set 8 | norman wells\n",
      "Processing Record 46 of Set 8 | qasigiannguit\n",
      "Processing Record 47 of Set 8 | takoradi\n",
      "Processing Record 48 of Set 8 | cockburn town\n",
      "Processing Record 49 of Set 8 | leningradskiy\n",
      "Processing Record 50 of Set 8 | saint-georges\n",
      "Processing Record 1 of Set 9 | anshun\n",
      "Processing Record 2 of Set 9 | montepuez\n",
      "Processing Record 3 of Set 9 | langenburg\n",
      "Processing Record 4 of Set 9 | grand centre\n",
      "City not found...Skipping...\n",
      "Processing Record 5 of Set 9 | hamilton\n",
      "Processing Record 6 of Set 9 | lichinga\n",
      "Processing Record 7 of Set 9 | onda\n",
      "Processing Record 8 of Set 9 | laguna\n",
      "Processing Record 9 of Set 9 | galveston\n",
      "Processing Record 10 of Set 9 | batagay-alyta\n",
      "Processing Record 11 of Set 9 | mullaitivu\n",
      "City not found...Skipping...\n",
      "Processing Record 12 of Set 9 | noshiro\n",
      "Processing Record 13 of Set 9 | burica\n",
      "City not found...Skipping...\n",
      "Processing Record 14 of Set 9 | isangel\n",
      "Processing Record 15 of Set 9 | edd\n",
      "Processing Record 16 of Set 9 | el paso\n",
      "Processing Record 17 of Set 9 | ternate\n",
      "Processing Record 18 of Set 9 | khao wong\n",
      "Processing Record 19 of Set 9 | svecha\n",
      "Processing Record 20 of Set 9 | leiyang\n",
      "Processing Record 21 of Set 9 | cumpas\n",
      "Processing Record 22 of Set 9 | cayenne\n",
      "Processing Record 23 of Set 9 | dudinka\n",
      "Processing Record 24 of Set 9 | shetpe\n",
      "Processing Record 25 of Set 9 | batemans bay\n",
      "Processing Record 26 of Set 9 | gamba\n",
      "Processing Record 27 of Set 9 | san lorenzo\n",
      "Processing Record 28 of Set 9 | mackenzie\n",
      "Processing Record 29 of Set 9 | buin\n",
      "Processing Record 30 of Set 9 | san cristobal\n",
      "Processing Record 31 of Set 9 | price\n",
      "Processing Record 32 of Set 9 | saint-pierre\n",
      "Processing Record 33 of Set 9 | khlong luang\n",
      "Processing Record 34 of Set 9 | los palacios\n",
      "Processing Record 35 of Set 9 | puerto colombia\n",
      "Processing Record 36 of Set 9 | pokaran\n",
      "Processing Record 37 of Set 9 | makinsk\n",
      "Processing Record 38 of Set 9 | jagodina\n",
      "Processing Record 39 of Set 9 | sitka\n",
      "Processing Record 40 of Set 9 | souillac\n",
      "Processing Record 41 of Set 9 | charlestown\n",
      "Processing Record 42 of Set 9 | trebinje\n",
      "Processing Record 43 of Set 9 | belaya gora\n",
      "Processing Record 44 of Set 9 | ozernovskiy\n",
      "Processing Record 45 of Set 9 | anori\n",
      "Processing Record 46 of Set 9 | port hedland\n",
      "Processing Record 47 of Set 9 | olafsvik\n",
      "Processing Record 48 of Set 9 | ngukurr\n",
      "City not found...Skipping...\n",
      "Processing Record 49 of Set 9 | kaeo\n",
      "Processing Record 50 of Set 9 | zamora\n",
      "Processing Record 1 of Set 10 | kushima\n",
      "Processing Record 2 of Set 10 | rimini\n",
      "Processing Record 3 of Set 10 | banda aceh\n",
      "Processing Record 4 of Set 10 | dayong\n",
      "Processing Record 5 of Set 10 | sumbawa\n",
      "City not found...Skipping...\n",
      "Processing Record 6 of Set 10 | bandarbeyla\n",
      "Processing Record 7 of Set 10 | lookan\n",
      "Processing Record 8 of Set 10 | haapiti\n",
      "Processing Record 9 of Set 10 | imeni poliny osipenko\n",
      "Processing Record 10 of Set 10 | buchanan\n",
      "Processing Record 11 of Set 10 | zhigansk\n",
      "Processing Record 12 of Set 10 | yokadouma\n",
      "Processing Record 13 of Set 10 | adrar\n",
      "Processing Record 14 of Set 10 | tiznit\n",
      "Processing Record 15 of Set 10 | suntar\n",
      "Processing Record 16 of Set 10 | umm lajj\n",
      "Processing Record 17 of Set 10 | twentynine palms\n",
      "Processing Record 18 of Set 10 | beaufort\n",
      "Processing Record 19 of Set 10 | kudahuvadhoo\n",
      "Processing Record 20 of Set 10 | kamiiso\n",
      "Processing Record 21 of Set 10 | hearst\n",
      "Processing Record 22 of Set 10 | swellendam\n",
      "Processing Record 23 of Set 10 | igdir\n",
      "Processing Record 24 of Set 10 | kem\n",
      "Processing Record 25 of Set 10 | salto\n",
      "Processing Record 26 of Set 10 | lompoc\n",
      "Processing Record 27 of Set 10 | mumford\n",
      "Processing Record 28 of Set 10 | filingue\n",
      "Processing Record 29 of Set 10 | kamo\n",
      "Processing Record 30 of Set 10 | northam\n",
      "Processing Record 31 of Set 10 | valparaiso\n",
      "Processing Record 32 of Set 10 | ouadda\n",
      "Processing Record 33 of Set 10 | sioux lookout\n",
      "Processing Record 34 of Set 10 | benito juarez\n",
      "Processing Record 35 of Set 10 | raudeberg\n",
      "Processing Record 36 of Set 10 | mitsamiouli\n",
      "Processing Record 37 of Set 10 | estacion coahuila\n",
      "Processing Record 38 of Set 10 | aflu\n",
      "City not found...Skipping...\n",
      "Processing Record 39 of Set 10 | huajuapan\n",
      "City not found...Skipping...\n",
      "Processing Record 40 of Set 10 | coihaique\n",
      "Processing Record 41 of Set 10 | yumen\n",
      "Processing Record 42 of Set 10 | tadine\n",
      "Processing Record 43 of Set 10 | baykit\n",
      "Processing Record 44 of Set 10 | rudbar\n",
      "Processing Record 45 of Set 10 | pitimbu\n",
      "Processing Record 46 of Set 10 | okha\n",
      "Processing Record 47 of Set 10 | olinda\n",
      "Processing Record 48 of Set 10 | kristiinankaupunki\n",
      "Processing Record 49 of Set 10 | tevriz\n",
      "Processing Record 50 of Set 10 | slave lake\n",
      "Processing Record 1 of Set 11 | tarancon\n",
      "Processing Record 2 of Set 11 | kolpashevo\n",
      "Processing Record 3 of Set 11 | phangnga\n",
      "Processing Record 4 of Set 11 | goksun\n",
      "Processing Record 5 of Set 11 | saryshagan\n",
      "City not found...Skipping...\n",
      "Processing Record 6 of Set 11 | dubbo\n",
      "Processing Record 7 of Set 11 | nouadhibou\n",
      "Processing Record 8 of Set 11 | pacific grove\n",
      "Processing Record 9 of Set 11 | freeport\n",
      "Processing Record 10 of Set 11 | ostrovnoy\n",
      "Processing Record 11 of Set 11 | barrancas\n",
      "Processing Record 12 of Set 11 | slantsy\n",
      "Processing Record 13 of Set 11 | port blair\n",
      "Processing Record 14 of Set 11 | te anau\n",
      "Processing Record 15 of Set 11 | north platte\n",
      "Processing Record 16 of Set 11 | gat\n",
      "Processing Record 17 of Set 11 | xining\n",
      "Processing Record 18 of Set 11 | huilong\n",
      "Processing Record 19 of Set 11 | mae ramat\n",
      "Processing Record 20 of Set 11 | kamina\n",
      "Processing Record 21 of Set 11 | virginia beach\n",
      "Processing Record 22 of Set 11 | sobolevo\n",
      "Processing Record 23 of Set 11 | linchuan\n",
      "City not found...Skipping...\n",
      "Processing Record 24 of Set 11 | badajoz\n",
      "Processing Record 25 of Set 11 | sao joao da barra\n",
      "Processing Record 26 of Set 11 | asau\n",
      "Processing Record 27 of Set 11 | ixtapa\n",
      "Processing Record 28 of Set 11 | husavik\n",
      "Processing Record 29 of Set 11 | santo antonio do ica\n",
      "Processing Record 30 of Set 11 | beyneu\n",
      "Processing Record 31 of Set 11 | upington\n",
      "Processing Record 32 of Set 11 | tignere\n",
      "Processing Record 33 of Set 11 | korla\n",
      "Processing Record 34 of Set 11 | alice springs\n",
      "Processing Record 35 of Set 11 | ketchikan\n",
      "Processing Record 36 of Set 11 | alugan\n",
      "Processing Record 37 of Set 11 | senno\n",
      "Processing Record 38 of Set 11 | krasnorechenskiy\n",
      "Processing Record 39 of Set 11 | redmond\n",
      "Processing Record 40 of Set 11 | giresun\n",
      "Processing Record 41 of Set 11 | sumbe\n",
      "Processing Record 42 of Set 11 | borger\n",
      "Processing Record 43 of Set 11 | uige\n",
      "Processing Record 44 of Set 11 | atasu\n",
      "Processing Record 45 of Set 11 | haines junction\n",
      "Processing Record 46 of Set 11 | jalalpur\n",
      "Processing Record 47 of Set 11 | tura\n",
      "Processing Record 48 of Set 11 | orbetello\n",
      "Processing Record 49 of Set 11 | anito\n",
      "Processing Record 50 of Set 11 | tabialan\n",
      "City not found...Skipping...\n",
      "Processing Record 1 of Set 12 | iquique\n",
      "Processing Record 2 of Set 12 | ayan\n",
      "Processing Record 3 of Set 12 | solano\n",
      "Processing Record 4 of Set 12 | vanavara\n",
      "Processing Record 5 of Set 12 | keita\n",
      "Processing Record 6 of Set 12 | half moon bay\n",
      "Processing Record 7 of Set 12 | nakhon phanom\n",
      "Processing Record 8 of Set 12 | oriximina\n",
      "Processing Record 9 of Set 12 | sechura\n",
      "Processing Record 10 of Set 12 | pemba\n",
      "Processing Record 11 of Set 12 | morondava\n",
      "Processing Record 12 of Set 12 | longyearbyen\n",
      "Processing Record 13 of Set 12 | ponta delgada\n",
      "Processing Record 14 of Set 12 | woodward\n",
      "Processing Record 15 of Set 12 | sribne\n"
     ]
    },
    {
     "name": "stdout",
     "output_type": "stream",
     "text": [
      "Processing Record 16 of Set 12 | killam\n",
      "Processing Record 17 of Set 12 | shiyan\n",
      "Processing Record 18 of Set 12 | deputatskiy\n",
      "Processing Record 19 of Set 12 | conchas\n",
      "Processing Record 20 of Set 12 | narsaq\n",
      "Processing Record 21 of Set 12 | dunedin\n",
      "Processing Record 22 of Set 12 | huarmey\n",
      "Processing Record 23 of Set 12 | wuwei\n",
      "Processing Record 24 of Set 12 | mehamn\n",
      "Processing Record 25 of Set 12 | nurota\n",
      "Processing Record 26 of Set 12 | agadir\n",
      "Processing Record 27 of Set 12 | boma\n",
      "Processing Record 28 of Set 12 | lavumisa\n",
      "Processing Record 29 of Set 12 | solnechnyy\n",
      "Processing Record 30 of Set 12 | fatikchhari\n",
      "City not found...Skipping...\n",
      "Processing Record 31 of Set 12 | braganca\n",
      "Processing Record 32 of Set 12 | hami\n",
      "Processing Record 33 of Set 12 | port-cartier\n",
      "Processing Record 34 of Set 12 | tokmak\n",
      "Processing Record 35 of Set 12 | mersin\n",
      "Processing Record 36 of Set 12 | esfahan\n",
      "Processing Record 37 of Set 12 | turukhansk\n",
      "Processing Record 38 of Set 12 | the valley\n",
      "Processing Record 39 of Set 12 | ilulissat\n",
      "Processing Record 40 of Set 12 | burgeo\n",
      "Processing Record 41 of Set 12 | nouakchott\n",
      "Processing Record 42 of Set 12 | dingle\n",
      "Processing Record 43 of Set 12 | altay\n",
      "Processing Record 44 of Set 12 | aseri\n",
      "Processing Record 45 of Set 12 | kabinda\n",
      "Processing Record 46 of Set 12 | taoudenni\n",
      "Processing Record 47 of Set 12 | hare bay\n",
      "Processing Record 48 of Set 12 | anloga\n",
      "Processing Record 49 of Set 12 | avanigadda\n",
      "Processing Record 50 of Set 12 | sakaraha\n",
      "Processing Record 1 of Set 13 | uirauna\n",
      "Processing Record 2 of Set 13 | uwayl\n",
      "City not found...Skipping...\n",
      "Processing Record 3 of Set 13 | drayton valley\n",
      "Processing Record 4 of Set 13 | ceres\n",
      "Processing Record 5 of Set 13 | parana\n",
      "Processing Record 6 of Set 13 | port macquarie\n",
      "Processing Record 7 of Set 13 | port hardy\n",
      "Processing Record 8 of Set 13 | borovskoy\n",
      "Processing Record 9 of Set 13 | caramay\n",
      "Processing Record 10 of Set 13 | sosnovo-ozerskoye\n",
      "Processing Record 11 of Set 13 | excelsior springs\n",
      "Processing Record 12 of Set 13 | boende\n"
     ]
    }
   ],
   "source": [
    "units = \"imperial\"\n",
    "set_count = 1\n",
    "record_count = 0\n",
    "for i, city in enumerate(cities):\n",
    "    if i % 50 == 0 and i >= 50:\n",
    "        set_count = set_count +1\n",
    "        record_count = 1\n",
    "    print(f\"Processing Record {record_count} of Set {set_count} | {city}\")\n",
    "    record_count = record_count +1\n",
    "    query_url = f\"{url}appid={weather_api_key}&units{units}&q={city}\"\n",
    "    post_response = requests.get(query_url).json()         \n",
    "    \n",
    "    try:\n",
    "        cityname.append(post_response['name'])\n",
    "        lat.append(post_response['coord']['lat'])\n",
    "        lng.append(post_response['coord']['lon'])\n",
    "        max_temp.append(post_response['main']['temp_max'])\n",
    "        humidity.append(post_response['main']['humidity'])\n",
    "        cloudiness.append(post_response['clouds']['all'])\n",
    "        wind_speed.append(post_response['wind']['speed'])\n",
    "        country.append(post_response['sys']['country'])\n",
    "        date.append(time.ctime(post_response['dt']))\n",
    "    except KeyError:\n",
    "        print(\"City not found...Skipping...\")\n",
    "    "
   ]
  },
  {
   "cell_type": "markdown",
   "metadata": {},
   "source": [
    "### Convert Raw Data to DataFrame\n",
    "* Export the city data into a .csv.\n",
    "* Display the DataFrame"
   ]
  },
  {
   "cell_type": "code",
   "execution_count": 25,
   "metadata": {},
   "outputs": [
    {
     "data": {
      "text/html": [
       "<div>\n",
       "<style scoped>\n",
       "    .dataframe tbody tr th:only-of-type {\n",
       "        vertical-align: middle;\n",
       "    }\n",
       "\n",
       "    .dataframe tbody tr th {\n",
       "        vertical-align: top;\n",
       "    }\n",
       "\n",
       "    .dataframe thead th {\n",
       "        text-align: right;\n",
       "    }\n",
       "</style>\n",
       "<table border=\"1\" class=\"dataframe\">\n",
       "  <thead>\n",
       "    <tr style=\"text-align: right;\">\n",
       "      <th></th>\n",
       "      <th>City</th>\n",
       "      <th>Lat</th>\n",
       "      <th>Lng</th>\n",
       "      <th>Max Temp</th>\n",
       "      <th>Humidity</th>\n",
       "      <th>Cloudiness</th>\n",
       "      <th>Wind Speed</th>\n",
       "      <th>Country</th>\n",
       "      <th>Date</th>\n",
       "    </tr>\n",
       "  </thead>\n",
       "  <tbody>\n",
       "    <tr>\n",
       "      <th>0</th>\n",
       "      <td>Fortuna</td>\n",
       "      <td>40.5982</td>\n",
       "      <td>-124.1573</td>\n",
       "      <td>283.71</td>\n",
       "      <td>100</td>\n",
       "      <td>90</td>\n",
       "      <td>3.09</td>\n",
       "      <td>US</td>\n",
       "      <td>Thu Apr 29 00:01:55 2021</td>\n",
       "    </tr>\n",
       "    <tr>\n",
       "      <th>1</th>\n",
       "      <td>Waddān</td>\n",
       "      <td>29.1614</td>\n",
       "      <td>16.1390</td>\n",
       "      <td>302.19</td>\n",
       "      <td>10</td>\n",
       "      <td>87</td>\n",
       "      <td>3.30</td>\n",
       "      <td>LY</td>\n",
       "      <td>Thu Apr 29 00:01:55 2021</td>\n",
       "    </tr>\n",
       "    <tr>\n",
       "      <th>2</th>\n",
       "      <td>Jamestown</td>\n",
       "      <td>42.0970</td>\n",
       "      <td>-79.2353</td>\n",
       "      <td>290.15</td>\n",
       "      <td>94</td>\n",
       "      <td>75</td>\n",
       "      <td>3.60</td>\n",
       "      <td>US</td>\n",
       "      <td>Wed Apr 28 23:57:44 2021</td>\n",
       "    </tr>\n",
       "    <tr>\n",
       "      <th>3</th>\n",
       "      <td>Atuona</td>\n",
       "      <td>-9.8000</td>\n",
       "      <td>-139.0333</td>\n",
       "      <td>299.67</td>\n",
       "      <td>72</td>\n",
       "      <td>31</td>\n",
       "      <td>5.52</td>\n",
       "      <td>PF</td>\n",
       "      <td>Thu Apr 29 00:01:55 2021</td>\n",
       "    </tr>\n",
       "    <tr>\n",
       "      <th>4</th>\n",
       "      <td>Punta Arenas</td>\n",
       "      <td>-53.1500</td>\n",
       "      <td>-70.9167</td>\n",
       "      <td>277.15</td>\n",
       "      <td>87</td>\n",
       "      <td>75</td>\n",
       "      <td>7.20</td>\n",
       "      <td>CL</td>\n",
       "      <td>Thu Apr 29 00:01:56 2021</td>\n",
       "    </tr>\n",
       "  </tbody>\n",
       "</table>\n",
       "</div>"
      ],
      "text/plain": [
       "           City      Lat       Lng  Max Temp  Humidity  Cloudiness  \\\n",
       "0       Fortuna  40.5982 -124.1573    283.71       100          90   \n",
       "1        Waddān  29.1614   16.1390    302.19        10          87   \n",
       "2     Jamestown  42.0970  -79.2353    290.15        94          75   \n",
       "3        Atuona  -9.8000 -139.0333    299.67        72          31   \n",
       "4  Punta Arenas -53.1500  -70.9167    277.15        87          75   \n",
       "\n",
       "   Wind Speed Country                      Date  \n",
       "0        3.09      US  Thu Apr 29 00:01:55 2021  \n",
       "1        3.30      LY  Thu Apr 29 00:01:55 2021  \n",
       "2        3.60      US  Wed Apr 28 23:57:44 2021  \n",
       "3        5.52      PF  Thu Apr 29 00:01:55 2021  \n",
       "4        7.20      CL  Thu Apr 29 00:01:56 2021  "
      ]
     },
     "execution_count": 25,
     "metadata": {},
     "output_type": "execute_result"
    }
   ],
   "source": [
    "weather_dt ={\"City\":cityname,\"Lat\":lat,\"Lng\":lng,\"Max Temp\":max_temp,\"Humidity\":humidity,\"Cloudiness\":cloudiness,\n",
    "             \"Wind Speed\":wind_speed,\"Country\":country,\"Date\":date}\n",
    "weather_df =pd.DataFrame(weather_dt)\n",
    "weather_df.to_csv('output_data/cities.csv')\n",
    "weather_df.head()"
   ]
  },
  {
   "cell_type": "code",
   "execution_count": 26,
   "metadata": {},
   "outputs": [
    {
     "data": {
      "text/html": [
       "<div>\n",
       "<style scoped>\n",
       "    .dataframe tbody tr th:only-of-type {\n",
       "        vertical-align: middle;\n",
       "    }\n",
       "\n",
       "    .dataframe tbody tr th {\n",
       "        vertical-align: top;\n",
       "    }\n",
       "\n",
       "    .dataframe thead th {\n",
       "        text-align: right;\n",
       "    }\n",
       "</style>\n",
       "<table border=\"1\" class=\"dataframe\">\n",
       "  <thead>\n",
       "    <tr style=\"text-align: right;\">\n",
       "      <th></th>\n",
       "      <th>Lat</th>\n",
       "      <th>Lng</th>\n",
       "      <th>Max Temp</th>\n",
       "      <th>Humidity</th>\n",
       "      <th>Cloudiness</th>\n",
       "      <th>Wind Speed</th>\n",
       "    </tr>\n",
       "  </thead>\n",
       "  <tbody>\n",
       "    <tr>\n",
       "      <th>count</th>\n",
       "      <td>561.000000</td>\n",
       "      <td>561.000000</td>\n",
       "      <td>561.000000</td>\n",
       "      <td>561.000000</td>\n",
       "      <td>561.000000</td>\n",
       "      <td>561.000000</td>\n",
       "    </tr>\n",
       "    <tr>\n",
       "      <th>mean</th>\n",
       "      <td>20.879310</td>\n",
       "      <td>19.965145</td>\n",
       "      <td>289.781640</td>\n",
       "      <td>71.224599</td>\n",
       "      <td>55.787879</td>\n",
       "      <td>3.257594</td>\n",
       "    </tr>\n",
       "    <tr>\n",
       "      <th>std</th>\n",
       "      <td>32.566189</td>\n",
       "      <td>89.017664</td>\n",
       "      <td>10.352197</td>\n",
       "      <td>23.347289</td>\n",
       "      <td>38.039119</td>\n",
       "      <td>2.155156</td>\n",
       "    </tr>\n",
       "    <tr>\n",
       "      <th>min</th>\n",
       "      <td>-54.800000</td>\n",
       "      <td>-175.200000</td>\n",
       "      <td>264.350000</td>\n",
       "      <td>5.000000</td>\n",
       "      <td>0.000000</td>\n",
       "      <td>0.140000</td>\n",
       "    </tr>\n",
       "    <tr>\n",
       "      <th>25%</th>\n",
       "      <td>-5.092500</td>\n",
       "      <td>-56.900000</td>\n",
       "      <td>282.150000</td>\n",
       "      <td>62.000000</td>\n",
       "      <td>17.000000</td>\n",
       "      <td>1.830000</td>\n",
       "    </tr>\n",
       "    <tr>\n",
       "      <th>50%</th>\n",
       "      <td>25.383300</td>\n",
       "      <td>23.950000</td>\n",
       "      <td>291.150000</td>\n",
       "      <td>77.000000</td>\n",
       "      <td>75.000000</td>\n",
       "      <td>2.790000</td>\n",
       "    </tr>\n",
       "    <tr>\n",
       "      <th>75%</th>\n",
       "      <td>47.674000</td>\n",
       "      <td>100.335400</td>\n",
       "      <td>298.150000</td>\n",
       "      <td>88.000000</td>\n",
       "      <td>90.000000</td>\n",
       "      <td>4.120000</td>\n",
       "    </tr>\n",
       "    <tr>\n",
       "      <th>max</th>\n",
       "      <td>78.218600</td>\n",
       "      <td>179.316700</td>\n",
       "      <td>313.430000</td>\n",
       "      <td>100.000000</td>\n",
       "      <td>100.000000</td>\n",
       "      <td>13.890000</td>\n",
       "    </tr>\n",
       "  </tbody>\n",
       "</table>\n",
       "</div>"
      ],
      "text/plain": [
       "              Lat         Lng    Max Temp    Humidity  Cloudiness  Wind Speed\n",
       "count  561.000000  561.000000  561.000000  561.000000  561.000000  561.000000\n",
       "mean    20.879310   19.965145  289.781640   71.224599   55.787879    3.257594\n",
       "std     32.566189   89.017664   10.352197   23.347289   38.039119    2.155156\n",
       "min    -54.800000 -175.200000  264.350000    5.000000    0.000000    0.140000\n",
       "25%     -5.092500  -56.900000  282.150000   62.000000   17.000000    1.830000\n",
       "50%     25.383300   23.950000  291.150000   77.000000   75.000000    2.790000\n",
       "75%     47.674000  100.335400  298.150000   88.000000   90.000000    4.120000\n",
       "max     78.218600  179.316700  313.430000  100.000000  100.000000   13.890000"
      ]
     },
     "execution_count": 26,
     "metadata": {},
     "output_type": "execute_result"
    }
   ],
   "source": [
    "weather_df.describe()"
   ]
  },
  {
   "cell_type": "markdown",
   "metadata": {},
   "source": [
    "## Inspect the data and remove the cities where the humidity > 100%.\n",
    "----\n",
    "Skip this step if there are no cities that have humidity > 100%. "
   ]
  },
  {
   "cell_type": "code",
   "execution_count": 11,
   "metadata": {},
   "outputs": [],
   "source": [
    "#  Get the indices of cities that have humidity over 100%."
   ]
  },
  {
   "cell_type": "code",
   "execution_count": 12,
   "metadata": {},
   "outputs": [],
   "source": [
    "# Make a new DataFrame equal to the city data to drop all humidity outliers by index.\n",
    "# Passing \"inplace=False\" will make a copy of the city_data DataFrame, which we call \"clean_city_data\"."
   ]
  },
  {
   "cell_type": "markdown",
   "metadata": {},
   "source": [
    "## Plotting the Data\n",
    "* Use proper labeling of the plots using plot titles (including date of analysis) and axes labels.\n",
    "* Save the plotted figures as .pngs."
   ]
  },
  {
   "cell_type": "markdown",
   "metadata": {},
   "source": [
    "## Latitude vs. Temperature Plot"
   ]
  },
  {
   "cell_type": "code",
   "execution_count": 27,
   "metadata": {},
   "outputs": [
    {
     "data": {
      "text/html": [
       "<div>\n",
       "<style scoped>\n",
       "    .dataframe tbody tr th:only-of-type {\n",
       "        vertical-align: middle;\n",
       "    }\n",
       "\n",
       "    .dataframe tbody tr th {\n",
       "        vertical-align: top;\n",
       "    }\n",
       "\n",
       "    .dataframe thead th {\n",
       "        text-align: right;\n",
       "    }\n",
       "</style>\n",
       "<table border=\"1\" class=\"dataframe\">\n",
       "  <thead>\n",
       "    <tr style=\"text-align: right;\">\n",
       "      <th></th>\n",
       "      <th>City</th>\n",
       "      <th>Lat</th>\n",
       "      <th>Lng</th>\n",
       "      <th>Max Temp</th>\n",
       "      <th>Humidity</th>\n",
       "      <th>Cloudiness</th>\n",
       "      <th>Wind Speed</th>\n",
       "      <th>Country</th>\n",
       "      <th>Date</th>\n",
       "    </tr>\n",
       "  </thead>\n",
       "  <tbody>\n",
       "    <tr>\n",
       "      <th>0</th>\n",
       "      <td>Fortuna</td>\n",
       "      <td>40.5982</td>\n",
       "      <td>-124.1573</td>\n",
       "      <td>283.71</td>\n",
       "      <td>100</td>\n",
       "      <td>90</td>\n",
       "      <td>3.09</td>\n",
       "      <td>US</td>\n",
       "      <td>Thu Apr 29 00:01:55 2021</td>\n",
       "    </tr>\n",
       "    <tr>\n",
       "      <th>1</th>\n",
       "      <td>Waddān</td>\n",
       "      <td>29.1614</td>\n",
       "      <td>16.1390</td>\n",
       "      <td>302.19</td>\n",
       "      <td>10</td>\n",
       "      <td>87</td>\n",
       "      <td>3.30</td>\n",
       "      <td>LY</td>\n",
       "      <td>Thu Apr 29 00:01:55 2021</td>\n",
       "    </tr>\n",
       "    <tr>\n",
       "      <th>2</th>\n",
       "      <td>Jamestown</td>\n",
       "      <td>42.0970</td>\n",
       "      <td>-79.2353</td>\n",
       "      <td>290.15</td>\n",
       "      <td>94</td>\n",
       "      <td>75</td>\n",
       "      <td>3.60</td>\n",
       "      <td>US</td>\n",
       "      <td>Wed Apr 28 23:57:44 2021</td>\n",
       "    </tr>\n",
       "    <tr>\n",
       "      <th>3</th>\n",
       "      <td>Atuona</td>\n",
       "      <td>-9.8000</td>\n",
       "      <td>-139.0333</td>\n",
       "      <td>299.67</td>\n",
       "      <td>72</td>\n",
       "      <td>31</td>\n",
       "      <td>5.52</td>\n",
       "      <td>PF</td>\n",
       "      <td>Thu Apr 29 00:01:55 2021</td>\n",
       "    </tr>\n",
       "    <tr>\n",
       "      <th>4</th>\n",
       "      <td>Punta Arenas</td>\n",
       "      <td>-53.1500</td>\n",
       "      <td>-70.9167</td>\n",
       "      <td>277.15</td>\n",
       "      <td>87</td>\n",
       "      <td>75</td>\n",
       "      <td>7.20</td>\n",
       "      <td>CL</td>\n",
       "      <td>Thu Apr 29 00:01:56 2021</td>\n",
       "    </tr>\n",
       "  </tbody>\n",
       "</table>\n",
       "</div>"
      ],
      "text/plain": [
       "           City      Lat       Lng  Max Temp  Humidity  Cloudiness  \\\n",
       "0       Fortuna  40.5982 -124.1573    283.71       100          90   \n",
       "1        Waddān  29.1614   16.1390    302.19        10          87   \n",
       "2     Jamestown  42.0970  -79.2353    290.15        94          75   \n",
       "3        Atuona  -9.8000 -139.0333    299.67        72          31   \n",
       "4  Punta Arenas -53.1500  -70.9167    277.15        87          75   \n",
       "\n",
       "   Wind Speed Country                      Date  \n",
       "0        3.09      US  Thu Apr 29 00:01:55 2021  \n",
       "1        3.30      LY  Thu Apr 29 00:01:55 2021  \n",
       "2        3.60      US  Wed Apr 28 23:57:44 2021  \n",
       "3        5.52      PF  Thu Apr 29 00:01:55 2021  \n",
       "4        7.20      CL  Thu Apr 29 00:01:56 2021  "
      ]
     },
     "execution_count": 27,
     "metadata": {},
     "output_type": "execute_result"
    }
   ],
   "source": [
    "weather_df.head()"
   ]
  },
  {
   "cell_type": "code",
   "execution_count": 24,
   "metadata": {},
   "outputs": [
    {
     "data": {
      "image/png": "[encoded data removed]",
      "text/plain": [
       "<Figure size 432x288 with 1 Axes>"
      ]
     },
     "metadata": {
      "needs_background": "light"
     },
     "output_type": "display_data"
    }
   ],
   "source": [
    "plt.scatter(weather_df[\"Lat\"], weather_df[\"Max Temp\"], marker=\"o\")\n",
    "\n",
    "plt.title(\"Max Temperature vs City Latitude\")\n",
    "plt.ylabel(\"Temperature (F)\")\n",
    "plt.xlabel(\"Latitude\")\n",
    "plt.grid(True)\n",
    "\n",
    "plt.savefig(\"MaxTemperaturevsCityLatitude.png\")\n",
    "\n",
    "plt.show()"
   ]
  },
  {
   "cell_type": "markdown",
   "metadata": {},
   "source": [
    "## Latitude vs. Humidity Plot"
   ]
  },
  {
   "cell_type": "code",
   "execution_count": 28,
   "metadata": {},
   "outputs": [
    {
     "data": {
      "image/png": "[encoded data removed]",
      "text/plain": [
       "<Figure size 432x288 with 1 Axes>"
      ]
     },
     "metadata": {
      "needs_background": "light"
     },
     "output_type": "display_data"
    }
   ],
   "source": [
    "plt.scatter(weather_df[\"Lat\"], weather_df[\"Humidity\"], marker=\"o\")\n",
    "\n",
    "plt.title(\"Humidity vs City Latitude\")\n",
    "plt.ylabel(\"Humidity (%)\")\n",
    "plt.xlabel(\"Latitude\")\n",
    "plt.grid(True)\n",
    "\n",
    "plt.savefig(\"HumidityvsCityLatitude.png\")\n",
    "\n",
    "plt.show()"
   ]
  },
  {
   "cell_type": "markdown",
   "metadata": {},
   "source": [
    "## Latitude vs. Cloudiness Plot"
   ]
  },
  {
   "cell_type": "code",
   "execution_count": 29,
   "metadata": {},
   "outputs": [
    {
     "data": {
      "image/png": "[encoded data removed]",
      "text/plain": [
       "<Figure size 432x288 with 1 Axes>"
      ]
     },
     "metadata": {
      "needs_background": "light"
     },
     "output_type": "display_data"
    }
   ],
   "source": [
    "plt.scatter(weather_df[\"Lat\"], weather_df[\"Cloudiness\"], marker=\"o\")\n",
    "\n",
    "plt.title(\"Cloudiness vs City Latitude\")\n",
    "plt.ylabel(\"Cloudiness (%)\")\n",
    "plt.xlabel(\"Latitude\")\n",
    "plt.grid(True)\n",
    "\n",
    "plt.savefig(\"CloudinessvsCityLatitude.png\")\n",
    "\n",
    "plt.show()"
   ]
  },
  {
   "cell_type": "markdown",
   "metadata": {},
   "source": [
    "## Latitude vs. Wind Speed Plot"
   ]
  },
  {
   "cell_type": "code",
   "execution_count": 31,
   "metadata": {},
   "outputs": [
    {
     "data": {
      "image/png": "[encoded data removed]",
      "text/plain": [
       "<Figure size 432x288 with 1 Axes>"
      ]
     },
     "metadata": {
      "needs_background": "light"
     },
     "output_type": "display_data"
    }
   ],
   "source": [
    "plt.scatter(weather_df[\"Lat\"], weather_df[\"Wind Speed\"], marker=\"o\")\n",
    "\n",
    "plt.title(\"Wind Speed vs City Latitude\")\n",
    "plt.ylabel(\"Wind Speed (mph)\")\n",
    "plt.xlabel(\"Latitude\")\n",
    "plt.grid(True)\n",
    "\n",
    "plt.savefig(\"WindSpeedvsCityLatitude.png\")\n",
    "\n",
    "plt.show()"
   ]
  },
  {
   "cell_type": "markdown",
   "metadata": {},
   "source": [
    "## Linear Regression"
   ]
  },
  {
   "cell_type": "code",
   "execution_count": 33,
   "metadata": {},
   "outputs": [],
   "source": [
    "north_weather =weather_df.loc[weather_df[\"Lat\"] >= 0]\n",
    "\n",
    "south_weather =weather_df.loc[weather_df[\"Lat\"] < 0]"
   ]
  },
  {
   "cell_type": "code",
   "execution_count": null,
   "metadata": {},
   "outputs": [],
   "source": [
    "(slope, intercept, rvalue, pvalue, stderr) = stats.linregress(x_values, y_values)\n",
    "\n",
    "# Get regression values\n",
    "regress_values = x_values * slope + intercept\n",
    "line_eq = \"y = \" + str(round(slope,2)) + \"x +\" + str(round(intercept,2))\n"
   ]
  },
  {
   "cell_type": "code",
   "execution_count": 24,
   "metadata": {},
   "outputs": [],
   "source": []
  },
  {
   "cell_type": "markdown",
   "metadata": {},
   "source": [
    "####  Northern Hemisphere - Max Temp vs. Latitude Linear Regression"
   ]
  },
  {
   "cell_type": "code",
   "execution_count": null,
   "metadata": {},
   "outputs": [],
   "source": [
    "plt.scatter(x_values,y_values)\n",
    "plt.plot(x_values,regress_values,\"r-\")\n",
    "\n",
    "plt.xlabel('Latitude')\n",
    "plt.ylabel('Temperature')\n",
    "plt.annotate(line_eq,(20,15),fontsize=15,color=\"red\")\n",
    "\n",
    "print(f\"The r-value is: {rvalue**2}\")\n",
    "\n",
    "plt.savefig(\"WindSpeedvsCityLatitude.png\")\n",
    "\n",
    "plt.show()"
   ]
  },
  {
   "cell_type": "code",
   "execution_count": 25,
   "metadata": {},
   "outputs": [
    {
     "name": "stdout",
     "output_type": "stream",
     "text": [
      "The r-value is: 0.46937863826630627\n"
     ]
    },
    {
     "data": {
      "image/png": "[encoded data removed]",
      "text/plain": [
       "<Figure size 432x288 with 1 Axes>"
      ]
     },
     "metadata": {
      "needs_background": "light"
     },
     "output_type": "display_data"
    }
   ],
   "source": []
  },
  {
   "cell_type": "markdown",
   "metadata": {},
   "source": [
    "####  Southern Hemisphere - Max Temp vs. Latitude Linear Regression"
   ]
  },
  {
   "cell_type": "code",
   "execution_count": 26,
   "metadata": {},
   "outputs": [
    {
     "name": "stdout",
     "output_type": "stream",
     "text": [
      "The r-value is: 0.6082708688906918\n"
     ]
    },
    {
     "data": {
      "image/png": "[encoded data removed]",
      "text/plain": [
       "<Figure size 432x288 with 1 Axes>"
      ]
     },
     "metadata": {
      "needs_background": "light"
     },
     "output_type": "display_data"
    }
   ],
   "source": []
  },
  {
   "cell_type": "markdown",
   "metadata": {},
   "source": [
    "####  Northern Hemisphere - Humidity (%) vs. Latitude Linear Regression"
   ]
  },
  {
   "cell_type": "code",
   "execution_count": 27,
   "metadata": {},
   "outputs": [
    {
     "name": "stdout",
     "output_type": "stream",
     "text": [
      "The r-value is: 0.000543987878808455\n"
     ]
    },
    {
     "data": {
      "image/png": "[encoded data removed]",
      "text/plain": [
       "<Figure size 432x288 with 1 Axes>"
      ]
     },
     "metadata": {
      "needs_background": "light"
     },
     "output_type": "display_data"
    }
   ],
   "source": []
  },
  {
   "cell_type": "markdown",
   "metadata": {},
   "source": [
    "####  Southern Hemisphere - Humidity (%) vs. Latitude Linear Regression"
   ]
  },
  {
   "cell_type": "code",
   "execution_count": 28,
   "metadata": {},
   "outputs": [
    {
     "name": "stdout",
     "output_type": "stream",
     "text": [
      "The r-value is: 0.014985174297345524\n"
     ]
    },
    {
     "data": {
      "image/png": "[encoded data removed]",
      "text/plain": [
       "<Figure size 432x288 with 1 Axes>"
      ]
     },
     "metadata": {
      "needs_background": "light"
     },
     "output_type": "display_data"
    }
   ],
   "source": []
  },
  {
   "cell_type": "markdown",
   "metadata": {},
   "source": [
    "####  Northern Hemisphere - Cloudiness (%) vs. Latitude Linear Regression"
   ]
  },
  {
   "cell_type": "code",
   "execution_count": 29,
   "metadata": {},
   "outputs": [
    {
     "name": "stdout",
     "output_type": "stream",
     "text": [
      "The r-value is: 0.0020898727664228514\n"
     ]
    },
    {
     "data": {
      "image/png": "[encoded data removed]",
      "text/plain": [
       "<Figure size 432x288 with 1 Axes>"
      ]
     },
     "metadata": {
      "needs_background": "light"
     },
     "output_type": "display_data"
    }
   ],
   "source": []
  },
  {
   "cell_type": "markdown",
   "metadata": {},
   "source": [
    "####  Southern Hemisphere - Cloudiness (%) vs. Latitude Linear Regression"
   ]
  },
  {
   "cell_type": "code",
   "execution_count": 30,
   "metadata": {},
   "outputs": [
    {
     "name": "stdout",
     "output_type": "stream",
     "text": [
      "The r-value is: 0.0035263772085582894\n"
     ]
    },
    {
     "data": {
      "image/png": "[encoded data removed]",
      "text/plain": [
       "<Figure size 432x288 with 1 Axes>"
      ]
     },
     "metadata": {
      "needs_background": "light"
     },
     "output_type": "display_data"
    }
   ],
   "source": []
  },
  {
   "cell_type": "markdown",
   "metadata": {},
   "source": [
    "####  Northern Hemisphere - Wind Speed (mph) vs. Latitude Linear Regression"
   ]
  },
  {
   "cell_type": "code",
   "execution_count": 31,
   "metadata": {},
   "outputs": [
    {
     "name": "stdout",
     "output_type": "stream",
     "text": [
      "The r-value is: 0.04019723576144484\n"
     ]
    },
    {
     "data": {
      "image/png": "[encoded data removed]",
      "text/plain": [
       "<Figure size 432x288 with 1 Axes>"
      ]
     },
     "metadata": {
      "needs_background": "light"
     },
     "output_type": "display_data"
    }
   ],
   "source": []
  },
  {
   "cell_type": "markdown",
   "metadata": {},
   "source": [
    "####  Southern Hemisphere - Wind Speed (mph) vs. Latitude Linear Regression"
   ]
  },
  {
   "cell_type": "code",
   "execution_count": 32,
   "metadata": {},
   "outputs": [
    {
     "name": "stdout",
     "output_type": "stream",
     "text": [
      "The r-value is: 0.017128274759839232\n"
     ]
    },
    {
     "data": {
      "image/png": "[encoded data removed]",
      "text/plain": [
       "<Figure size 432x288 with 1 Axes>"
      ]
     },
     "metadata": {
      "needs_background": "light"
     },
     "output_type": "display_data"
    }
   ],
   "source": []
  },
  {
   "cell_type": "code",
   "execution_count": null,
   "metadata": {},
   "outputs": [],
   "source": []
  }
 ],
 "metadata": {
  "anaconda-cloud": {},
  "kernel_info": {
   "name": "python3"
  },
  "kernelspec": {
   "display_name": "PythonData",
   "language": "python",
   "name": "pythondata"
  },
  "language_info": {
   "codemirror_mode": {
    "name": "ipython",
    "version": 3
   },
   "file_extension": ".py",
   "mimetype": "text/x-python",
   "name": "python",
   "nbconvert_exporter": "python",
   "pygments_lexer": "ipython3",
   "version": "3.8.5"
  },
  "latex_envs": {
   "LaTeX_envs_menu_present": true,
   "autoclose": false,
   "autocomplete": true,
   "bibliofile": "biblio.bib",
   "cite_by": "apalike",
   "current_citInitial": 1,
   "eqLabelWithNumbers": true,
   "eqNumInitial": 1,
   "hotkeys": {
    "equation": "Ctrl-E",
    "itemize": "Ctrl-I"
   },
   "labels_anchors": false,
   "latex_user_defs": false,
   "report_style_numbering": false,
   "user_envs_cfg": false
  },
  "nteract": {
   "version": "0.12.3"
  }
 },
 "nbformat": 4,
 "nbformat_minor": 2
}
