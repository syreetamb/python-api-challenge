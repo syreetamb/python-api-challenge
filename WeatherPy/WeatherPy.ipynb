{
 "cells": [
  {
   "cell_type": "markdown",
   "metadata": {},
   "source": [
    "# WeatherPy\n",
    "----\n",
    "\n",
    "#### Note\n",
    "* Instructions have been included for each segment. You do not have to follow them exactly, but they are included to help you think through the steps."
   ]
  },
  {
   "cell_type": "code",
   "execution_count": 1,
   "metadata": {
    "scrolled": true
   },
   "outputs": [],
   "source": [
    "# Dependencies and Setup\n",
    "import matplotlib.pyplot as plt\n",
    "import pandas as pd\n",
    "import numpy as np\n",
    "import requests\n",
    "import time\n",
    "from scipy.stats import linregress\n",
    "from pprint import pprint\n",
    "\n",
    "\n",
    "# Import API key\n",
    "from api_keys import weather_api_key\n",
    "\n",
    "# Incorporated citipy to determine city based on latitude and longitude\n",
    "from citipy import citipy\n",
    "\n",
    "# Output File (CSV)\n",
    "output_data_file = \"output_data/cities.csv\"\n",
    "\n",
    "url = \"http://api.openweathermap.org/data/2.5/weather?\"\n",
    "\n",
    "\n",
    "\n",
    "# Range of latitudes and longitudes\n",
    "lat_range = (-90, 90)\n",
    "lng_range = (-180, 180)"
   ]
  },
  {
   "cell_type": "markdown",
   "metadata": {},
   "source": [
    "## Generate Cities List"
   ]
  },
  {
   "cell_type": "code",
   "execution_count": 2,
   "metadata": {},
   "outputs": [
    {
     "data": {
      "text/plain": [
       "611"
      ]
     },
     "execution_count": 2,
     "metadata": {},
     "output_type": "execute_result"
    }
   ],
   "source": [
    "# List for holding lat_lngs and cities\n",
    "lat_lngs = []\n",
    "cities = []\n",
    "\n",
    "# Create a set of random lat and lng combinations\n",
    "lats = np.random.uniform(lat_range[0], lat_range[1], size=1500)\n",
    "lngs = np.random.uniform(lng_range[0], lng_range[1], size=1500)\n",
    "lat_lngs = zip(lats, lngs)\n",
    "\n",
    "# Identify nearest city for each lat, lng combination\n",
    "for lat_lng in lat_lngs:\n",
    "    city = citipy.nearest_city(lat_lng[0], lat_lng[1]).city_name\n",
    "    \n",
    "    # If the city is unique, then add it to a our cities list\n",
    "    if city not in cities:\n",
    "        cities.append(city)\n",
    "\n",
    "# Print the city count to confirm sufficient count\n",
    "len(cities)"
   ]
  },
  {
   "cell_type": "markdown",
   "metadata": {},
   "source": [
    "### Perform API Calls\n",
    "* Perform a weather check on each city using a series of successive API calls.\n",
    "* Include a print log of each city as it'sbeing processed (with the city number and city name).\n"
   ]
  },
  {
   "cell_type": "code",
   "execution_count": 3,
   "metadata": {},
   "outputs": [],
   "source": [
    "cityname=[]\n",
    "lat=[]\n",
    "lng=[]\n",
    "max_temp=[]\n",
    "humidity=[]\n",
    "cloudiness=[]\n",
    "wind_speed=[]\n",
    "country=[]\n",
    "date=[]"
   ]
  },
  {
   "cell_type": "code",
   "execution_count": 4,
   "metadata": {},
   "outputs": [
    {
     "name": "stdout",
     "output_type": "stream",
     "text": [
      "Processing Record 0 of Set 1 | luganville\n",
      "Processing Record 1 of Set 1 | tual\n",
      "Processing Record 2 of Set 1 | cidreira\n",
      "Processing Record 3 of Set 1 | punta arenas\n",
      "Processing Record 4 of Set 1 | pacific grove\n",
      "Processing Record 5 of Set 1 | san patricio\n",
      "Processing Record 6 of Set 1 | avarua\n",
      "Processing Record 7 of Set 1 | hithadhoo\n",
      "Processing Record 8 of Set 1 | busselton\n",
      "Processing Record 9 of Set 1 | marcona\n",
      "City not found...Skipping...\n",
      "Processing Record 10 of Set 1 | ilulissat\n",
      "Processing Record 11 of Set 1 | mataura\n",
      "Processing Record 12 of Set 1 | presidencia roque saenz pena\n",
      "Processing Record 13 of Set 1 | yellowknife\n",
      "Processing Record 14 of Set 1 | cherdakly\n",
      "Processing Record 15 of Set 1 | micheweni\n",
      "Processing Record 16 of Set 1 | majene\n",
      "Processing Record 17 of Set 1 | hilo\n",
      "Processing Record 18 of Set 1 | sitka\n",
      "Processing Record 19 of Set 1 | bluff\n",
      "Processing Record 20 of Set 1 | veraval\n",
      "Processing Record 21 of Set 1 | ilhabela\n",
      "Processing Record 22 of Set 1 | castro\n",
      "Processing Record 23 of Set 1 | san quintin\n",
      "Processing Record 24 of Set 1 | sobolevo\n",
      "Processing Record 25 of Set 1 | illoqqortoormiut\n",
      "City not found...Skipping...\n",
      "Processing Record 26 of Set 1 | marawi\n",
      "Processing Record 27 of Set 1 | qaanaaq\n",
      "Processing Record 28 of Set 1 | kapaa\n",
      "Processing Record 29 of Set 1 | taolanaro\n",
      "City not found...Skipping...\n",
      "Processing Record 30 of Set 1 | hami\n",
      "Processing Record 31 of Set 1 | iqaluit\n",
      "Processing Record 32 of Set 1 | tasiilaq\n",
      "Processing Record 33 of Set 1 | ribeira grande\n",
      "Processing Record 34 of Set 1 | xining\n",
      "Processing Record 35 of Set 1 | mende\n",
      "Processing Record 36 of Set 1 | zaysan\n",
      "Processing Record 37 of Set 1 | port-cartier\n",
      "Processing Record 38 of Set 1 | tiksi\n",
      "Processing Record 39 of Set 1 | esperance\n",
      "Processing Record 40 of Set 1 | port elizabeth\n",
      "Processing Record 41 of Set 1 | norman wells\n",
      "Processing Record 42 of Set 1 | ushuaia\n",
      "Processing Record 43 of Set 1 | tuktoyaktuk\n",
      "Processing Record 44 of Set 1 | college\n",
      "Processing Record 45 of Set 1 | ostrovnoy\n",
      "Processing Record 46 of Set 1 | sabinas\n",
      "Processing Record 47 of Set 1 | rikitea\n",
      "Processing Record 48 of Set 1 | saleaula\n",
      "City not found...Skipping...\n",
      "Processing Record 49 of Set 1 | saldanha\n",
      "Processing Record 1 of Set 2 | bilibino\n",
      "Processing Record 2 of Set 2 | sorland\n",
      "Processing Record 3 of Set 2 | lebu\n",
      "Processing Record 4 of Set 2 | pudozh\n",
      "Processing Record 5 of Set 2 | bredasdorp\n",
      "Processing Record 6 of Set 2 | panguna\n",
      "Processing Record 7 of Set 2 | salalah\n",
      "Processing Record 8 of Set 2 | asau\n",
      "Processing Record 9 of Set 2 | longyearbyen\n",
      "Processing Record 10 of Set 2 | saint anthony\n",
      "Processing Record 11 of Set 2 | dunedin\n",
      "Processing Record 12 of Set 2 | dikson\n",
      "Processing Record 13 of Set 2 | sanmenxia\n",
      "Processing Record 14 of Set 2 | aklavik\n",
      "Processing Record 15 of Set 2 | qui nhon\n",
      "Processing Record 16 of Set 2 | lengshuijiang\n",
      "Processing Record 17 of Set 2 | margate\n",
      "Processing Record 18 of Set 2 | vaitupu\n",
      "City not found...Skipping...\n",
      "Processing Record 19 of Set 2 | burica\n",
      "City not found...Skipping...\n",
      "Processing Record 20 of Set 2 | viligili\n",
      "City not found...Skipping...\n",
      "Processing Record 21 of Set 2 | sao filipe\n",
      "Processing Record 22 of Set 2 | sinkat\n",
      "City not found...Skipping...\n",
      "Processing Record 23 of Set 2 | pangnirtung\n",
      "Processing Record 24 of Set 2 | nanortalik\n",
      "Processing Record 25 of Set 2 | puerto ayora\n",
      "Processing Record 26 of Set 2 | bambous virieux\n",
      "Processing Record 27 of Set 2 | eureka\n",
      "Processing Record 28 of Set 2 | mar del plata\n",
      "Processing Record 29 of Set 2 | placido de castro\n",
      "Processing Record 30 of Set 2 | hobart\n",
      "Processing Record 31 of Set 2 | mys shmidta\n",
      "City not found...Skipping...\n",
      "Processing Record 32 of Set 2 | coos bay\n",
      "Processing Record 33 of Set 2 | arraial do cabo\n",
      "Processing Record 34 of Set 2 | bengkulu\n",
      "Processing Record 35 of Set 2 | yulara\n",
      "Processing Record 36 of Set 2 | atar\n",
      "Processing Record 37 of Set 2 | mangrol\n",
      "Processing Record 38 of Set 2 | messina\n",
      "Processing Record 39 of Set 2 | sentyabrskiy\n",
      "City not found...Skipping...\n",
      "Processing Record 40 of Set 2 | talara\n",
      "Processing Record 41 of Set 2 | hofn\n",
      "Processing Record 42 of Set 2 | cherskiy\n",
      "Processing Record 43 of Set 2 | sonda\n",
      "Processing Record 44 of Set 2 | jamestown\n",
      "Processing Record 45 of Set 2 | karaul\n",
      "City not found...Skipping...\n",
      "Processing Record 46 of Set 2 | amderma\n",
      "City not found...Skipping...\n",
      "Processing Record 47 of Set 2 | tessalit\n",
      "Processing Record 48 of Set 2 | dolny kubin\n",
      "Processing Record 49 of Set 2 | nikolskoye\n",
      "Processing Record 50 of Set 2 | port blair\n",
      "Processing Record 1 of Set 3 | georgetown\n",
      "Processing Record 2 of Set 3 | oranjemund\n",
      "Processing Record 3 of Set 3 | albany\n",
      "Processing Record 4 of Set 3 | souillac\n",
      "Processing Record 5 of Set 3 | kyra\n",
      "Processing Record 6 of Set 3 | east london\n",
      "Processing Record 7 of Set 3 | komsomolskiy\n",
      "Processing Record 8 of Set 3 | wulanhaote\n",
      "City not found...Skipping...\n",
      "Processing Record 9 of Set 3 | redmond\n",
      "Processing Record 10 of Set 3 | kismayo\n",
      "Processing Record 11 of Set 3 | tabas\n",
      "Processing Record 12 of Set 3 | constitucion\n",
      "Processing Record 13 of Set 3 | mayya\n",
      "Processing Record 14 of Set 3 | saint-philippe\n",
      "Processing Record 15 of Set 3 | chuy\n",
      "Processing Record 16 of Set 3 | tezu\n",
      "Processing Record 17 of Set 3 | port alfred\n",
      "Processing Record 18 of Set 3 | warqla\n",
      "City not found...Skipping...\n",
      "Processing Record 19 of Set 3 | ghanzi\n",
      "Processing Record 20 of Set 3 | maniitsoq\n",
      "Processing Record 21 of Set 3 | pevek\n",
      "Processing Record 22 of Set 3 | grand river south east\n",
      "City not found...Skipping...\n",
      "Processing Record 23 of Set 3 | altamira\n",
      "Processing Record 24 of Set 3 | beian\n",
      "Processing Record 25 of Set 3 | henties bay\n",
      "Processing Record 26 of Set 3 | new norfolk\n",
      "Processing Record 27 of Set 3 | ingham\n",
      "Processing Record 28 of Set 3 | vaini\n",
      "Processing Record 29 of Set 3 | dedougou\n",
      "Processing Record 30 of Set 3 | barrow\n",
      "Processing Record 31 of Set 3 | yarega\n",
      "Processing Record 32 of Set 3 | haines junction\n",
      "Processing Record 33 of Set 3 | severo-kurilsk\n",
      "Processing Record 34 of Set 3 | nizhneyansk\n",
      "City not found...Skipping...\n",
      "Processing Record 35 of Set 3 | sawakin\n",
      "Processing Record 36 of Set 3 | chernyshevskiy\n",
      "Processing Record 37 of Set 3 | belushya guba\n",
      "City not found...Skipping...\n",
      "Processing Record 38 of Set 3 | meulaboh\n",
      "Processing Record 39 of Set 3 | te anau\n",
      "Processing Record 40 of Set 3 | hamilton\n",
      "Processing Record 41 of Set 3 | alta floresta\n",
      "Processing Record 42 of Set 3 | lyngseidet\n",
      "Processing Record 43 of Set 3 | puerto maldonado\n",
      "Processing Record 44 of Set 3 | tungkang\n",
      "City not found...Skipping...\n",
      "Processing Record 45 of Set 3 | saint-pierre\n",
      "Processing Record 46 of Set 3 | safaga\n",
      "Processing Record 47 of Set 3 | selikhino\n",
      "Processing Record 48 of Set 3 | menomonie\n",
      "Processing Record 49 of Set 3 | airai\n",
      "Processing Record 50 of Set 3 | acapulco\n",
      "Processing Record 1 of Set 4 | faya\n",
      "Processing Record 2 of Set 4 | birjand\n",
      "Processing Record 3 of Set 4 | kaitangata\n",
      "Processing Record 4 of Set 4 | mogadishu\n",
      "Processing Record 5 of Set 4 | naze\n",
      "Processing Record 6 of Set 4 | hermanus\n",
      "Processing Record 7 of Set 4 | suntar\n",
      "Processing Record 8 of Set 4 | muridke\n",
      "Processing Record 9 of Set 4 | geraldton\n",
      "Processing Record 10 of Set 4 | rio de janeiro\n",
      "Processing Record 11 of Set 4 | ballina\n",
      "Processing Record 12 of Set 4 | paamiut\n",
      "Processing Record 13 of Set 4 | colares\n",
      "Processing Record 14 of Set 4 | ugoofaaru\n",
      "Processing Record 15 of Set 4 | cabo san lucas\n",
      "Processing Record 16 of Set 4 | mairinque\n",
      "Processing Record 17 of Set 4 | kodiak\n",
      "Processing Record 18 of Set 4 | la antigua\n",
      "Processing Record 19 of Set 4 | oxelosund\n",
      "Processing Record 20 of Set 4 | kuraymah\n",
      "Processing Record 21 of Set 4 | jinchengjiang\n",
      "City not found...Skipping...\n",
      "Processing Record 22 of Set 4 | tonantins\n",
      "Processing Record 23 of Set 4 | lasa\n",
      "Processing Record 24 of Set 4 | kashi\n",
      "Processing Record 25 of Set 4 | gobabis\n",
      "Processing Record 26 of Set 4 | khatanga\n",
      "Processing Record 27 of Set 4 | halalo\n",
      "City not found...Skipping...\n",
      "Processing Record 28 of Set 4 | basoko\n",
      "Processing Record 29 of Set 4 | saint george\n",
      "Processing Record 30 of Set 4 | ahipara\n",
      "Processing Record 31 of Set 4 | lata\n",
      "Processing Record 32 of Set 4 | belmonte\n",
      "Processing Record 33 of Set 4 | pergamino\n",
      "Processing Record 34 of Set 4 | mecca\n",
      "Processing Record 35 of Set 4 | tiznit\n"
     ]
    },
    {
     "name": "stdout",
     "output_type": "stream",
     "text": [
      "Processing Record 36 of Set 4 | dubna\n",
      "Processing Record 37 of Set 4 | chenzhou\n",
      "Processing Record 38 of Set 4 | rio grande\n",
      "Processing Record 39 of Set 4 | puerto colombia\n",
      "Processing Record 40 of Set 4 | victoria\n",
      "Processing Record 41 of Set 4 | samusu\n",
      "City not found...Skipping...\n",
      "Processing Record 42 of Set 4 | chokurdakh\n",
      "Processing Record 43 of Set 4 | cape town\n",
      "Processing Record 44 of Set 4 | raudeberg\n",
      "Processing Record 45 of Set 4 | diplo\n",
      "Processing Record 46 of Set 4 | ichchapuram\n",
      "Processing Record 47 of Set 4 | duz\n",
      "City not found...Skipping...\n",
      "Processing Record 48 of Set 4 | sambava\n",
      "Processing Record 49 of Set 4 | havre-saint-pierre\n",
      "Processing Record 50 of Set 4 | agadez\n",
      "Processing Record 1 of Set 5 | vanimo\n",
      "Processing Record 2 of Set 5 | coquimbo\n",
      "Processing Record 3 of Set 5 | vostok\n",
      "Processing Record 4 of Set 5 | caravelas\n",
      "Processing Record 5 of Set 5 | candolim\n",
      "Processing Record 6 of Set 5 | astoria\n",
      "Processing Record 7 of Set 5 | ternate\n",
      "Processing Record 8 of Set 5 | baruun-urt\n",
      "Processing Record 9 of Set 5 | bulolo\n",
      "Processing Record 10 of Set 5 | gerardmer\n",
      "Processing Record 11 of Set 5 | haimen\n",
      "Processing Record 12 of Set 5 | banjar\n",
      "Processing Record 13 of Set 5 | provideniya\n",
      "Processing Record 14 of Set 5 | temyasovo\n",
      "Processing Record 15 of Set 5 | tucupita\n",
      "Processing Record 16 of Set 5 | deputatskiy\n",
      "Processing Record 17 of Set 5 | mitsamiouli\n",
      "Processing Record 18 of Set 5 | kosh-agach\n",
      "Processing Record 19 of Set 5 | chanika\n",
      "Processing Record 20 of Set 5 | athabasca\n",
      "Processing Record 21 of Set 5 | aloleng\n",
      "Processing Record 22 of Set 5 | west wendover\n",
      "Processing Record 23 of Set 5 | prince rupert\n",
      "Processing Record 24 of Set 5 | hasaki\n",
      "Processing Record 25 of Set 5 | baiyin\n",
      "Processing Record 26 of Set 5 | baran\n",
      "Processing Record 27 of Set 5 | gladstone\n",
      "Processing Record 28 of Set 5 | katsuura\n",
      "Processing Record 29 of Set 5 | butaritari\n",
      "Processing Record 30 of Set 5 | noboribetsu\n",
      "Processing Record 31 of Set 5 | ponta do sol\n",
      "Processing Record 32 of Set 5 | chagda\n",
      "City not found...Skipping...\n",
      "Processing Record 33 of Set 5 | dolores\n",
      "Processing Record 34 of Set 5 | hambantota\n",
      "Processing Record 35 of Set 5 | shache\n",
      "Processing Record 36 of Set 5 | newport\n",
      "Processing Record 37 of Set 5 | sur\n",
      "Processing Record 38 of Set 5 | singapore\n",
      "Processing Record 39 of Set 5 | kavieng\n",
      "Processing Record 40 of Set 5 | hobyo\n",
      "Processing Record 41 of Set 5 | broken hill\n",
      "Processing Record 42 of Set 5 | alofi\n",
      "Processing Record 43 of Set 5 | beloha\n",
      "Processing Record 44 of Set 5 | north bend\n",
      "Processing Record 45 of Set 5 | ulladulla\n",
      "Processing Record 46 of Set 5 | atuona\n",
      "Processing Record 47 of Set 5 | puerto del rosario\n",
      "Processing Record 48 of Set 5 | seybaplaya\n",
      "Processing Record 49 of Set 5 | ancud\n",
      "Processing Record 50 of Set 5 | saskylakh\n",
      "Processing Record 1 of Set 6 | westport\n",
      "Processing Record 2 of Set 6 | volchikha\n",
      "Processing Record 3 of Set 6 | vardo\n",
      "Processing Record 4 of Set 6 | yanam\n",
      "Processing Record 5 of Set 6 | lavrentiya\n",
      "Processing Record 6 of Set 6 | buchanan\n",
      "Processing Record 7 of Set 6 | port lincoln\n",
      "Processing Record 8 of Set 6 | hovd\n",
      "Processing Record 9 of Set 6 | mahebourg\n",
      "Processing Record 10 of Set 6 | kiunga\n",
      "Processing Record 11 of Set 6 | mount isa\n",
      "Processing Record 12 of Set 6 | reconquista\n",
      "Processing Record 13 of Set 6 | krasnaya gorbatka\n",
      "Processing Record 14 of Set 6 | picota\n",
      "Processing Record 15 of Set 6 | montague\n",
      "Processing Record 16 of Set 6 | palabuhanratu\n",
      "City not found...Skipping...\n",
      "Processing Record 17 of Set 6 | the valley\n",
      "Processing Record 18 of Set 6 | ixtapa\n",
      "Processing Record 19 of Set 6 | rawlins\n",
      "Processing Record 20 of Set 6 | puerto escondido\n",
      "Processing Record 21 of Set 6 | thompson\n",
      "Processing Record 22 of Set 6 | warmbad\n",
      "Processing Record 23 of Set 6 | letlhakane\n",
      "Processing Record 24 of Set 6 | lima\n",
      "Processing Record 25 of Set 6 | rafaela\n",
      "Processing Record 26 of Set 6 | sao joao da barra\n",
      "Processing Record 27 of Set 6 | lembeni\n",
      "Processing Record 28 of Set 6 | acari\n",
      "Processing Record 29 of Set 6 | orlik\n",
      "Processing Record 30 of Set 6 | kushima\n",
      "Processing Record 31 of Set 6 | saint-paul\n",
      "Processing Record 32 of Set 6 | sao desiderio\n",
      "Processing Record 33 of Set 6 | sekoma\n",
      "Processing Record 34 of Set 6 | kulhudhuffushi\n",
      "Processing Record 35 of Set 6 | kavaratti\n",
      "Processing Record 36 of Set 6 | wattegama\n",
      "Processing Record 37 of Set 6 | yar-sale\n",
      "Processing Record 38 of Set 6 | santa isabel do rio negro\n",
      "Processing Record 39 of Set 6 | lagoa\n",
      "Processing Record 40 of Set 6 | kruisfontein\n",
      "Processing Record 41 of Set 6 | nampula\n",
      "Processing Record 42 of Set 6 | gberia fotombu\n",
      "Processing Record 43 of Set 6 | torbay\n",
      "Processing Record 44 of Set 6 | honiara\n",
      "Processing Record 45 of Set 6 | smithers\n",
      "Processing Record 46 of Set 6 | kem\n",
      "Processing Record 47 of Set 6 | souris\n",
      "Processing Record 48 of Set 6 | porvoo\n",
      "Processing Record 49 of Set 6 | coromandel\n",
      "Processing Record 50 of Set 6 | truth or consequences\n",
      "Processing Record 1 of Set 7 | barentsburg\n",
      "City not found...Skipping...\n",
      "Processing Record 2 of Set 7 | morgantown\n",
      "Processing Record 3 of Set 7 | buala\n",
      "Processing Record 4 of Set 7 | mocuba\n",
      "Processing Record 5 of Set 7 | bethel\n",
      "Processing Record 6 of Set 7 | upernavik\n",
      "Processing Record 7 of Set 7 | corner brook\n",
      "Processing Record 8 of Set 7 | pisco\n",
      "Processing Record 9 of Set 7 | dingle\n",
      "Processing Record 10 of Set 7 | matara\n",
      "Processing Record 11 of Set 7 | parauna\n",
      "Processing Record 12 of Set 7 | doha\n",
      "Processing Record 13 of Set 7 | alekseyevsk\n",
      "Processing Record 14 of Set 7 | buin\n",
      "Processing Record 15 of Set 7 | dibaya\n",
      "City not found...Skipping...\n",
      "Processing Record 16 of Set 7 | sharan\n",
      "Processing Record 17 of Set 7 | manono\n",
      "Processing Record 18 of Set 7 | tura\n",
      "Processing Record 19 of Set 7 | ushirombo\n",
      "Processing Record 20 of Set 7 | krasnoselkup\n",
      "Processing Record 21 of Set 7 | husavik\n",
      "Processing Record 22 of Set 7 | vila velha\n",
      "Processing Record 23 of Set 7 | poum\n",
      "Processing Record 24 of Set 7 | codrington\n",
      "Processing Record 25 of Set 7 | sabang\n",
      "Processing Record 26 of Set 7 | huarmey\n",
      "Processing Record 27 of Set 7 | saint-felicien\n",
      "Processing Record 28 of Set 7 | uvira\n",
      "Processing Record 29 of Set 7 | amahai\n",
      "Processing Record 30 of Set 7 | mayo\n",
      "Processing Record 31 of Set 7 | asyut\n",
      "Processing Record 32 of Set 7 | mataram\n",
      "Processing Record 33 of Set 7 | disna\n",
      "Processing Record 34 of Set 7 | bridgewater\n",
      "Processing Record 35 of Set 7 | ossora\n",
      "Processing Record 36 of Set 7 | ajaccio\n",
      "Processing Record 37 of Set 7 | ozinki\n",
      "Processing Record 38 of Set 7 | pathein\n",
      "Processing Record 39 of Set 7 | oxford\n",
      "Processing Record 40 of Set 7 | beringovskiy\n",
      "Processing Record 41 of Set 7 | labuhan\n",
      "Processing Record 42 of Set 7 | nanga eboko\n",
      "Processing Record 43 of Set 7 | bell ville\n",
      "Processing Record 44 of Set 7 | wucheng\n",
      "Processing Record 45 of Set 7 | nguiu\n",
      "City not found...Skipping...\n",
      "Processing Record 46 of Set 7 | bay roberts\n",
      "Processing Record 47 of Set 7 | sakakah\n",
      "Processing Record 48 of Set 7 | carnarvon\n",
      "Processing Record 49 of Set 7 | vilyuysk\n",
      "Processing Record 50 of Set 7 | ileza\n",
      "Processing Record 1 of Set 8 | zhangye\n",
      "Processing Record 2 of Set 8 | great falls\n",
      "Processing Record 3 of Set 8 | avera\n",
      "Processing Record 4 of Set 8 | bimbo\n",
      "Processing Record 5 of Set 8 | mossendjo\n",
      "Processing Record 6 of Set 8 | ambilobe\n",
      "Processing Record 7 of Set 8 | bubaque\n",
      "Processing Record 8 of Set 8 | pringsewu\n",
      "Processing Record 9 of Set 8 | omboue\n",
      "Processing Record 10 of Set 8 | auki\n",
      "Processing Record 11 of Set 8 | kodinar\n",
      "Processing Record 12 of Set 8 | los algarrobos\n",
      "Processing Record 13 of Set 8 | karasburg\n",
      "Processing Record 14 of Set 8 | mersing\n",
      "Processing Record 15 of Set 8 | viransehir\n",
      "Processing Record 16 of Set 8 | lolua\n",
      "City not found...Skipping...\n",
      "Processing Record 17 of Set 8 | kloulklubed\n",
      "Processing Record 18 of Set 8 | attawapiskat\n",
      "City not found...Skipping...\n",
      "Processing Record 19 of Set 8 | lovozero\n",
      "Processing Record 20 of Set 8 | awjilah\n",
      "Processing Record 21 of Set 8 | yumen\n",
      "Processing Record 22 of Set 8 | dhidhdhoo\n",
      "Processing Record 23 of Set 8 | fairbanks\n",
      "Processing Record 24 of Set 8 | ayaviri\n",
      "Processing Record 25 of Set 8 | hammerfest\n",
      "Processing Record 26 of Set 8 | buraydah\n",
      "Processing Record 27 of Set 8 | hrodna\n",
      "Processing Record 28 of Set 8 | coahuayana\n",
      "Processing Record 29 of Set 8 | russell\n"
     ]
    },
    {
     "name": "stdout",
     "output_type": "stream",
     "text": [
      "Processing Record 30 of Set 8 | batemans bay\n",
      "Processing Record 31 of Set 8 | portland\n",
      "Processing Record 32 of Set 8 | manaure\n",
      "Processing Record 33 of Set 8 | tuy hoa\n",
      "Processing Record 34 of Set 8 | itoman\n",
      "Processing Record 35 of Set 8 | elat\n",
      "Processing Record 36 of Set 8 | dzhebariki-khaya\n",
      "Processing Record 37 of Set 8 | marang\n",
      "Processing Record 38 of Set 8 | soligalich\n",
      "Processing Record 39 of Set 8 | uwajima\n",
      "Processing Record 40 of Set 8 | shiraz\n",
      "Processing Record 41 of Set 8 | ketchikan\n",
      "Processing Record 42 of Set 8 | fevralsk\n",
      "City not found...Skipping...\n",
      "Processing Record 43 of Set 8 | hochstadt\n",
      "Processing Record 44 of Set 8 | helena\n",
      "Processing Record 45 of Set 8 | kaduna\n",
      "Processing Record 46 of Set 8 | thinadhoo\n",
      "Processing Record 47 of Set 8 | senno\n",
      "Processing Record 48 of Set 8 | ilinskiy\n",
      "Processing Record 49 of Set 8 | lorengau\n",
      "Processing Record 50 of Set 8 | inderborskiy\n",
      "City not found...Skipping...\n",
      "Processing Record 1 of Set 9 | marzuq\n",
      "Processing Record 2 of Set 9 | saint-augustin\n",
      "Processing Record 3 of Set 9 | dzaoudzi\n",
      "Processing Record 4 of Set 9 | yining\n",
      "Processing Record 5 of Set 9 | iquitos\n",
      "Processing Record 6 of Set 9 | aksu\n",
      "Processing Record 7 of Set 9 | merauke\n",
      "Processing Record 8 of Set 9 | cubuk\n",
      "Processing Record 9 of Set 9 | tenosique\n",
      "Processing Record 10 of Set 9 | matagami\n",
      "Processing Record 11 of Set 9 | bull savanna\n",
      "Processing Record 12 of Set 9 | deer lake\n",
      "Processing Record 13 of Set 9 | khonuu\n",
      "City not found...Skipping...\n",
      "Processing Record 14 of Set 9 | arman\n",
      "Processing Record 15 of Set 9 | faanui\n",
      "Processing Record 16 of Set 9 | yatou\n",
      "Processing Record 17 of Set 9 | arawa\n",
      "Processing Record 18 of Set 9 | hervey bay\n",
      "Processing Record 19 of Set 9 | namibe\n",
      "Processing Record 20 of Set 9 | dubbo\n",
      "Processing Record 21 of Set 9 | narsaq\n",
      "Processing Record 22 of Set 9 | levashi\n",
      "Processing Record 23 of Set 9 | inhambane\n",
      "Processing Record 24 of Set 9 | solovetskiy\n",
      "City not found...Skipping...\n",
      "Processing Record 25 of Set 9 | shunyi\n",
      "Processing Record 26 of Set 9 | wawa\n",
      "Processing Record 27 of Set 9 | lively\n",
      "Processing Record 28 of Set 9 | fortuna\n",
      "Processing Record 29 of Set 9 | san vicente\n",
      "Processing Record 30 of Set 9 | nuuk\n",
      "Processing Record 31 of Set 9 | grand gaube\n",
      "Processing Record 32 of Set 9 | yanan\n",
      "City not found...Skipping...\n",
      "Processing Record 33 of Set 9 | marrakesh\n",
      "Processing Record 34 of Set 9 | yialos\n",
      "City not found...Skipping...\n",
      "Processing Record 35 of Set 9 | sala\n",
      "Processing Record 36 of Set 9 | pimentel\n",
      "Processing Record 37 of Set 9 | camacha\n",
      "Processing Record 38 of Set 9 | wasilla\n",
      "Processing Record 39 of Set 9 | flin flon\n",
      "Processing Record 40 of Set 9 | zapolyarnyy\n",
      "Processing Record 41 of Set 9 | isangel\n",
      "Processing Record 42 of Set 9 | laguna\n",
      "Processing Record 43 of Set 9 | terneuzen\n",
      "Processing Record 44 of Set 9 | muli\n",
      "Processing Record 45 of Set 9 | shimoda\n",
      "Processing Record 46 of Set 9 | haibowan\n",
      "City not found...Skipping...\n",
      "Processing Record 47 of Set 9 | christchurch\n",
      "Processing Record 48 of Set 9 | lucapa\n",
      "Processing Record 49 of Set 9 | linqu\n",
      "Processing Record 50 of Set 9 | ostroh\n",
      "Processing Record 1 of Set 10 | akyab\n",
      "Processing Record 2 of Set 10 | arroyo\n",
      "Processing Record 3 of Set 10 | sorvag\n",
      "City not found...Skipping...\n",
      "Processing Record 4 of Set 10 | klyuchi\n",
      "Processing Record 5 of Set 10 | rio gallegos\n",
      "Processing Record 6 of Set 10 | whitehorse\n",
      "Processing Record 7 of Set 10 | lufilufi\n",
      "Processing Record 8 of Set 10 | bereda\n",
      "Processing Record 9 of Set 10 | grindavik\n",
      "Processing Record 10 of Set 10 | aksarka\n",
      "Processing Record 11 of Set 10 | marienburg\n",
      "Processing Record 12 of Set 10 | ayagoz\n",
      "Processing Record 13 of Set 10 | luanda\n",
      "Processing Record 14 of Set 10 | kununurra\n",
      "Processing Record 15 of Set 10 | klaksvik\n",
      "Processing Record 16 of Set 10 | richards bay\n",
      "Processing Record 17 of Set 10 | sisimiut\n",
      "Processing Record 18 of Set 10 | barrhead\n",
      "Processing Record 19 of Set 10 | belaya gora\n",
      "Processing Record 20 of Set 10 | severnyy\n",
      "Processing Record 21 of Set 10 | yucca valley\n",
      "Processing Record 22 of Set 10 | lompoc\n",
      "Processing Record 23 of Set 10 | outjo\n",
      "Processing Record 24 of Set 10 | menongue\n",
      "Processing Record 25 of Set 10 | santa ines\n",
      "Processing Record 26 of Set 10 | wisconsin rapids\n",
      "Processing Record 27 of Set 10 | tanout\n",
      "Processing Record 28 of Set 10 | clyde river\n",
      "Processing Record 29 of Set 10 | caconda\n",
      "Processing Record 30 of Set 10 | salisbury\n",
      "Processing Record 31 of Set 10 | general cepeda\n",
      "Processing Record 32 of Set 10 | nara\n",
      "Processing Record 33 of Set 10 | tautira\n",
      "Processing Record 34 of Set 10 | ust-omchug\n",
      "Processing Record 35 of Set 10 | hasanabad\n",
      "Processing Record 36 of Set 10 | atambua\n",
      "Processing Record 37 of Set 10 | rossland\n",
      "Processing Record 38 of Set 10 | kyren\n",
      "Processing Record 39 of Set 10 | quelimane\n",
      "Processing Record 40 of Set 10 | goderich\n",
      "Processing Record 41 of Set 10 | touros\n",
      "Processing Record 42 of Set 10 | eden prairie\n",
      "Processing Record 43 of Set 10 | huicungo\n",
      "Processing Record 44 of Set 10 | carauari\n",
      "Processing Record 45 of Set 10 | egvekinot\n",
      "Processing Record 46 of Set 10 | esso\n",
      "Processing Record 47 of Set 10 | pinyug\n",
      "Processing Record 48 of Set 10 | kalmunai\n",
      "Processing Record 49 of Set 10 | alexandria\n",
      "Processing Record 50 of Set 10 | hermosillo\n",
      "Processing Record 1 of Set 11 | sosnovo-ozerskoye\n",
      "Processing Record 2 of Set 11 | douentza\n",
      "Processing Record 3 of Set 11 | kuche\n",
      "City not found...Skipping...\n",
      "Processing Record 4 of Set 11 | dinsor\n",
      "City not found...Skipping...\n",
      "Processing Record 5 of Set 11 | yakeshi\n",
      "Processing Record 6 of Set 11 | udachnyy\n",
      "Processing Record 7 of Set 11 | fare\n",
      "Processing Record 8 of Set 11 | creston\n",
      "Processing Record 9 of Set 11 | sikonge\n",
      "Processing Record 10 of Set 11 | cayenne\n",
      "Processing Record 11 of Set 11 | izalco\n",
      "Processing Record 12 of Set 11 | woodmere\n",
      "Processing Record 13 of Set 11 | gondar\n",
      "Processing Record 14 of Set 11 | purpe\n",
      "Processing Record 15 of Set 11 | maceio\n",
      "Processing Record 16 of Set 11 | chizhou\n",
      "Processing Record 17 of Set 11 | grootfontein\n",
      "Processing Record 18 of Set 11 | muisne\n",
      "Processing Record 19 of Set 11 | svarstad\n",
      "Processing Record 20 of Set 11 | mwingi\n",
      "Processing Record 21 of Set 11 | sorong\n",
      "Processing Record 22 of Set 11 | matehuala\n",
      "Processing Record 23 of Set 11 | sao miguel do araguaia\n",
      "Processing Record 24 of Set 11 | satitoa\n",
      "City not found...Skipping...\n",
      "Processing Record 25 of Set 11 | akcaabat\n",
      "Processing Record 26 of Set 11 | khuzhir\n",
      "Processing Record 27 of Set 11 | dalby\n",
      "Processing Record 28 of Set 11 | los llanos de aridane\n",
      "Processing Record 29 of Set 11 | medicine hat\n",
      "Processing Record 30 of Set 11 | wahiawa\n",
      "Processing Record 31 of Set 11 | luderitz\n",
      "Processing Record 32 of Set 11 | palauig\n",
      "Processing Record 33 of Set 11 | junin\n",
      "Processing Record 34 of Set 11 | akhmim\n",
      "Processing Record 35 of Set 11 | kaitong\n",
      "Processing Record 36 of Set 11 | alyangula\n",
      "Processing Record 37 of Set 11 | mehamn\n",
      "Processing Record 38 of Set 11 | tsihombe\n",
      "City not found...Skipping...\n",
      "Processing Record 39 of Set 11 | cuamba\n",
      "Processing Record 40 of Set 11 | samarai\n",
      "Processing Record 41 of Set 11 | kyaikto\n",
      "Processing Record 42 of Set 11 | hualmay\n",
      "Processing Record 43 of Set 11 | mikuni\n",
      "Processing Record 44 of Set 11 | tumannyy\n",
      "City not found...Skipping...\n",
      "Processing Record 45 of Set 11 | sinamar\n",
      "Processing Record 46 of Set 11 | northam\n",
      "Processing Record 47 of Set 11 | akita\n",
      "Processing Record 48 of Set 11 | crab hill\n",
      "City not found...Skipping...\n",
      "Processing Record 49 of Set 11 | buon me thuot\n",
      "City not found...Skipping...\n",
      "Processing Record 50 of Set 11 | ubala\n",
      "Processing Record 1 of Set 12 | korem\n",
      "Processing Record 2 of Set 12 | san isidro\n",
      "Processing Record 3 of Set 12 | oudtshoorn\n",
      "Processing Record 4 of Set 12 | miragoane\n",
      "Processing Record 5 of Set 12 | santa fe\n",
      "Processing Record 6 of Set 12 | riyadh\n",
      "Processing Record 7 of Set 12 | nemuro\n",
      "Processing Record 8 of Set 12 | bossier city\n",
      "Processing Record 9 of Set 12 | yunjinghong\n",
      "City not found...Skipping...\n",
      "Processing Record 10 of Set 12 | vao\n",
      "Processing Record 11 of Set 12 | okha\n",
      "Processing Record 12 of Set 12 | vila do maio\n",
      "Processing Record 13 of Set 12 | eyl\n",
      "Processing Record 14 of Set 12 | vila franca do campo\n",
      "Processing Record 15 of Set 12 | stornoway\n",
      "Processing Record 16 of Set 12 | synya\n",
      "Processing Record 17 of Set 12 | bowen\n"
     ]
    },
    {
     "name": "stdout",
     "output_type": "stream",
     "text": [
      "Processing Record 18 of Set 12 | port macquarie\n",
      "Processing Record 19 of Set 12 | chumikan\n",
      "Processing Record 20 of Set 12 | urubicha\n",
      "Processing Record 21 of Set 12 | nouadhibou\n",
      "Processing Record 22 of Set 12 | humaita\n",
      "Processing Record 23 of Set 12 | pitimbu\n",
      "Processing Record 24 of Set 12 | sumbawa\n",
      "City not found...Skipping...\n",
      "Processing Record 25 of Set 12 | poya\n",
      "Processing Record 26 of Set 12 | inuvik\n",
      "Processing Record 27 of Set 12 | neryungri\n",
      "Processing Record 28 of Set 12 | kalemie\n",
      "Processing Record 29 of Set 12 | razdolnoye\n",
      "Processing Record 30 of Set 12 | karratha\n",
      "Processing Record 31 of Set 12 | tabiauea\n",
      "City not found...Skipping...\n",
      "Processing Record 32 of Set 12 | leningradskiy\n",
      "Processing Record 33 of Set 12 | talnakh\n",
      "Processing Record 34 of Set 12 | angoche\n",
      "Processing Record 35 of Set 12 | kirakira\n",
      "Processing Record 36 of Set 12 | sulangan\n",
      "Processing Record 37 of Set 12 | san jose\n",
      "Processing Record 38 of Set 12 | snezhnogorsk\n",
      "Processing Record 39 of Set 12 | champerico\n",
      "Processing Record 40 of Set 12 | cabedelo\n",
      "Processing Record 41 of Set 12 | carballo\n",
      "Processing Record 42 of Set 12 | banmo\n",
      "City not found...Skipping...\n",
      "Processing Record 43 of Set 12 | coihaique\n",
      "Processing Record 44 of Set 12 | nabire\n",
      "Processing Record 45 of Set 12 | skalistyy\n",
      "City not found...Skipping...\n",
      "Processing Record 46 of Set 12 | turbat\n",
      "Processing Record 47 of Set 12 | tarko-sale\n",
      "Processing Record 48 of Set 12 | bathsheba\n",
      "Processing Record 49 of Set 12 | carndonagh\n",
      "Processing Record 50 of Set 12 | ask\n",
      "Processing Record 1 of Set 13 | taksimo\n",
      "Processing Record 2 of Set 13 | guasdualito\n",
      "Processing Record 3 of Set 13 | titisee-neustadt\n",
      "Processing Record 4 of Set 13 | ribeira brava\n",
      "Processing Record 5 of Set 13 | huancabamba\n",
      "Processing Record 6 of Set 13 | porterville\n",
      "Processing Record 7 of Set 13 | tabory\n",
      "Processing Record 8 of Set 13 | sonoita\n",
      "Processing Record 9 of Set 13 | vangaindrano\n",
      "Processing Record 10 of Set 13 | avallon\n",
      "Processing Record 11 of Set 13 | saint-francois\n"
     ]
    }
   ],
   "source": [
    "units = \"imperial\"\n",
    "set_count = 1\n",
    "record_count = 0\n",
    "for i, city in enumerate(cities):\n",
    "    if i % 50 == 0 and i >= 50:\n",
    "        set_count = set_count +1\n",
    "        record_count = 1\n",
    "    print(f\"Processing Record {record_count} of Set {set_count} | {city}\")\n",
    "    record_count = record_count +1\n",
    "    query_url = f\"{url}appid={weather_api_key}&units{units}&q={city}\"\n",
    "    post_response = requests.get(query_url).json()         \n",
    "    \n",
    "    try:\n",
    "        cityname.append(post_response['name'])\n",
    "        lat.append(post_response['coord']['lat'])\n",
    "        lng.append(post_response['coord']['lon'])\n",
    "        max_temp.append(post_response['main']['temp_max'])\n",
    "        humidity.append(post_response['main']['humidity'])\n",
    "        cloudiness.append(post_response['clouds']['all'])\n",
    "        wind_speed.append(post_response['wind']['speed'])\n",
    "        country.append(post_response['sys']['country'])\n",
    "        date.append(time.ctime(post_response['dt']))\n",
    "    except KeyError:\n",
    "        print(\"City not found...Skipping...\")\n",
    "    "
   ]
  },
  {
   "cell_type": "markdown",
   "metadata": {},
   "source": [
    "### Convert Raw Data to DataFrame\n",
    "* Export the city data into a .csv.\n",
    "* Display the DataFrame"
   ]
  },
  {
   "cell_type": "code",
   "execution_count": 5,
   "metadata": {},
   "outputs": [
    {
     "data": {
      "text/html": [
       "<div>\n",
       "<style scoped>\n",
       "    .dataframe tbody tr th:only-of-type {\n",
       "        vertical-align: middle;\n",
       "    }\n",
       "\n",
       "    .dataframe tbody tr th {\n",
       "        vertical-align: top;\n",
       "    }\n",
       "\n",
       "    .dataframe thead th {\n",
       "        text-align: right;\n",
       "    }\n",
       "</style>\n",
       "<table border=\"1\" class=\"dataframe\">\n",
       "  <thead>\n",
       "    <tr style=\"text-align: right;\">\n",
       "      <th></th>\n",
       "      <th>City</th>\n",
       "      <th>Lat</th>\n",
       "      <th>Lng</th>\n",
       "      <th>Max Temp</th>\n",
       "      <th>Humidity</th>\n",
       "      <th>Cloudiness</th>\n",
       "      <th>Wind Speed</th>\n",
       "      <th>Country</th>\n",
       "      <th>Date</th>\n",
       "    </tr>\n",
       "  </thead>\n",
       "  <tbody>\n",
       "    <tr>\n",
       "      <th>0</th>\n",
       "      <td>Luganville</td>\n",
       "      <td>-15.5333</td>\n",
       "      <td>167.1667</td>\n",
       "      <td>300.86</td>\n",
       "      <td>65</td>\n",
       "      <td>73</td>\n",
       "      <td>5.22</td>\n",
       "      <td>VU</td>\n",
       "      <td>Fri Apr 30 00:04:56 2021</td>\n",
       "    </tr>\n",
       "    <tr>\n",
       "      <th>1</th>\n",
       "      <td>Tual</td>\n",
       "      <td>-5.6667</td>\n",
       "      <td>132.7500</td>\n",
       "      <td>301.47</td>\n",
       "      <td>69</td>\n",
       "      <td>100</td>\n",
       "      <td>2.42</td>\n",
       "      <td>ID</td>\n",
       "      <td>Fri Apr 30 00:04:57 2021</td>\n",
       "    </tr>\n",
       "    <tr>\n",
       "      <th>2</th>\n",
       "      <td>Cidreira</td>\n",
       "      <td>-30.1811</td>\n",
       "      <td>-50.2056</td>\n",
       "      <td>291.27</td>\n",
       "      <td>78</td>\n",
       "      <td>0</td>\n",
       "      <td>3.21</td>\n",
       "      <td>BR</td>\n",
       "      <td>Fri Apr 30 00:04:57 2021</td>\n",
       "    </tr>\n",
       "    <tr>\n",
       "      <th>3</th>\n",
       "      <td>Punta Arenas</td>\n",
       "      <td>-53.1500</td>\n",
       "      <td>-70.9167</td>\n",
       "      <td>279.15</td>\n",
       "      <td>93</td>\n",
       "      <td>90</td>\n",
       "      <td>3.60</td>\n",
       "      <td>CL</td>\n",
       "      <td>Fri Apr 30 00:02:41 2021</td>\n",
       "    </tr>\n",
       "    <tr>\n",
       "      <th>4</th>\n",
       "      <td>Pacific Grove</td>\n",
       "      <td>36.6177</td>\n",
       "      <td>-121.9166</td>\n",
       "      <td>286.15</td>\n",
       "      <td>76</td>\n",
       "      <td>1</td>\n",
       "      <td>2.06</td>\n",
       "      <td>US</td>\n",
       "      <td>Fri Apr 30 00:04:57 2021</td>\n",
       "    </tr>\n",
       "  </tbody>\n",
       "</table>\n",
       "</div>"
      ],
      "text/plain": [
       "            City      Lat       Lng  Max Temp  Humidity  Cloudiness  \\\n",
       "0     Luganville -15.5333  167.1667    300.86        65          73   \n",
       "1           Tual  -5.6667  132.7500    301.47        69         100   \n",
       "2       Cidreira -30.1811  -50.2056    291.27        78           0   \n",
       "3   Punta Arenas -53.1500  -70.9167    279.15        93          90   \n",
       "4  Pacific Grove  36.6177 -121.9166    286.15        76           1   \n",
       "\n",
       "   Wind Speed Country                      Date  \n",
       "0        5.22      VU  Fri Apr 30 00:04:56 2021  \n",
       "1        2.42      ID  Fri Apr 30 00:04:57 2021  \n",
       "2        3.21      BR  Fri Apr 30 00:04:57 2021  \n",
       "3        3.60      CL  Fri Apr 30 00:02:41 2021  \n",
       "4        2.06      US  Fri Apr 30 00:04:57 2021  "
      ]
     },
     "execution_count": 5,
     "metadata": {},
     "output_type": "execute_result"
    }
   ],
   "source": [
    "weather_dt ={\"City\":cityname,\"Lat\":lat,\"Lng\":lng,\"Max Temp\":max_temp,\"Humidity\":humidity,\"Cloudiness\":cloudiness,\n",
    "             \"Wind Speed\":wind_speed,\"Country\":country,\"Date\":date}\n",
    "weather_df =pd.DataFrame(weather_dt)\n",
    "weather_df.to_csv('output_data/cities.csv')\n",
    "weather_df.head()"
   ]
  },
  {
   "cell_type": "code",
   "execution_count": 6,
   "metadata": {},
   "outputs": [
    {
     "data": {
      "text/html": [
       "<div>\n",
       "<style scoped>\n",
       "    .dataframe tbody tr th:only-of-type {\n",
       "        vertical-align: middle;\n",
       "    }\n",
       "\n",
       "    .dataframe tbody tr th {\n",
       "        vertical-align: top;\n",
       "    }\n",
       "\n",
       "    .dataframe thead th {\n",
       "        text-align: right;\n",
       "    }\n",
       "</style>\n",
       "<table border=\"1\" class=\"dataframe\">\n",
       "  <thead>\n",
       "    <tr style=\"text-align: right;\">\n",
       "      <th></th>\n",
       "      <th>Lat</th>\n",
       "      <th>Lng</th>\n",
       "      <th>Max Temp</th>\n",
       "      <th>Humidity</th>\n",
       "      <th>Cloudiness</th>\n",
       "      <th>Wind Speed</th>\n",
       "    </tr>\n",
       "  </thead>\n",
       "  <tbody>\n",
       "    <tr>\n",
       "      <th>count</th>\n",
       "      <td>562.000000</td>\n",
       "      <td>562.000000</td>\n",
       "      <td>562.000000</td>\n",
       "      <td>562.000000</td>\n",
       "      <td>562.000000</td>\n",
       "      <td>562.000000</td>\n",
       "    </tr>\n",
       "    <tr>\n",
       "      <th>mean</th>\n",
       "      <td>19.850265</td>\n",
       "      <td>17.632070</td>\n",
       "      <td>289.615089</td>\n",
       "      <td>69.717082</td>\n",
       "      <td>53.587189</td>\n",
       "      <td>3.158950</td>\n",
       "    </tr>\n",
       "    <tr>\n",
       "      <th>std</th>\n",
       "      <td>33.416285</td>\n",
       "      <td>90.838438</td>\n",
       "      <td>10.469664</td>\n",
       "      <td>22.754131</td>\n",
       "      <td>37.797477</td>\n",
       "      <td>2.445044</td>\n",
       "    </tr>\n",
       "    <tr>\n",
       "      <th>min</th>\n",
       "      <td>-54.800000</td>\n",
       "      <td>-179.166700</td>\n",
       "      <td>262.050000</td>\n",
       "      <td>1.000000</td>\n",
       "      <td>0.000000</td>\n",
       "      <td>0.130000</td>\n",
       "    </tr>\n",
       "    <tr>\n",
       "      <th>25%</th>\n",
       "      <td>-8.721525</td>\n",
       "      <td>-62.884675</td>\n",
       "      <td>281.052500</td>\n",
       "      <td>57.250000</td>\n",
       "      <td>19.000000</td>\n",
       "      <td>1.570000</td>\n",
       "    </tr>\n",
       "    <tr>\n",
       "      <th>50%</th>\n",
       "      <td>22.728800</td>\n",
       "      <td>24.307350</td>\n",
       "      <td>291.190000</td>\n",
       "      <td>74.500000</td>\n",
       "      <td>60.500000</td>\n",
       "      <td>2.600000</td>\n",
       "    </tr>\n",
       "    <tr>\n",
       "      <th>75%</th>\n",
       "      <td>49.145800</td>\n",
       "      <td>96.804200</td>\n",
       "      <td>298.150000</td>\n",
       "      <td>87.750000</td>\n",
       "      <td>90.000000</td>\n",
       "      <td>4.120000</td>\n",
       "    </tr>\n",
       "    <tr>\n",
       "      <th>max</th>\n",
       "      <td>78.218600</td>\n",
       "      <td>179.316700</td>\n",
       "      <td>310.090000</td>\n",
       "      <td>100.000000</td>\n",
       "      <td>100.000000</td>\n",
       "      <td>34.470000</td>\n",
       "    </tr>\n",
       "  </tbody>\n",
       "</table>\n",
       "</div>"
      ],
      "text/plain": [
       "              Lat         Lng    Max Temp    Humidity  Cloudiness  Wind Speed\n",
       "count  562.000000  562.000000  562.000000  562.000000  562.000000  562.000000\n",
       "mean    19.850265   17.632070  289.615089   69.717082   53.587189    3.158950\n",
       "std     33.416285   90.838438   10.469664   22.754131   37.797477    2.445044\n",
       "min    -54.800000 -179.166700  262.050000    1.000000    0.000000    0.130000\n",
       "25%     -8.721525  -62.884675  281.052500   57.250000   19.000000    1.570000\n",
       "50%     22.728800   24.307350  291.190000   74.500000   60.500000    2.600000\n",
       "75%     49.145800   96.804200  298.150000   87.750000   90.000000    4.120000\n",
       "max     78.218600  179.316700  310.090000  100.000000  100.000000   34.470000"
      ]
     },
     "execution_count": 6,
     "metadata": {},
     "output_type": "execute_result"
    }
   ],
   "source": [
    "weather_df.describe()"
   ]
  },
  {
   "cell_type": "markdown",
   "metadata": {},
   "source": [
    "## Inspect the data and remove the cities where the humidity > 100%.\n",
    "----\n",
    "Skip this step if there are no cities that have humidity > 100%. "
   ]
  },
  {
   "cell_type": "code",
   "execution_count": 7,
   "metadata": {},
   "outputs": [],
   "source": [
    "#  Get the indices of cities that have humidity over 100%."
   ]
  },
  {
   "cell_type": "code",
   "execution_count": 8,
   "metadata": {},
   "outputs": [],
   "source": [
    "# Make a new DataFrame equal to the city data to drop all humidity outliers by index.\n",
    "# Passing \"inplace=False\" will make a copy of the city_data DataFrame, which we call \"clean_city_data\"."
   ]
  },
  {
   "cell_type": "markdown",
   "metadata": {},
   "source": [
    "## Plotting the Data\n",
    "* Use proper labeling of the plots using plot titles (including date of analysis) and axes labels.\n",
    "* Save the plotted figures as .pngs."
   ]
  },
  {
   "cell_type": "markdown",
   "metadata": {},
   "source": [
    "## Latitude vs. Temperature Plot"
   ]
  },
  {
   "cell_type": "code",
   "execution_count": 9,
   "metadata": {},
   "outputs": [
    {
     "data": {
      "image/png": "[encoded data removed]",
      "text/plain": [
       "<Figure size 432x288 with 1 Axes>"
      ]
     },
     "metadata": {
      "needs_background": "light"
     },
     "output_type": "display_data"
    }
   ],
   "source": [
    "plt.scatter(weather_df[\"Lat\"], weather_df[\"Max Temp\"], marker=\"o\")\n",
    "\n",
    "plt.title(\"Max Temperature vs City Latitude\")\n",
    "plt.ylabel(\"Temperature (F)\")\n",
    "plt.xlabel(\"Latitude\")\n",
    "plt.grid(True)\n",
    "\n",
    "plt.savefig(\"output_data/MaxTemperaturevsCityLatitude.png\")\n",
    "\n",
    "plt.show()"
   ]
  },
  {
   "cell_type": "markdown",
   "metadata": {},
   "source": [
    "The above graph is showing the cities maxium temperature in relation to the cities latitude."
   ]
  },
  {
   "cell_type": "markdown",
   "metadata": {},
   "source": [
    "## Latitude vs. Humidity Plot"
   ]
  },
  {
   "cell_type": "code",
   "execution_count": 10,
   "metadata": {},
   "outputs": [
    {
     "data": {
      "image/png": "[encoded data removed]",
      "text/plain": [
       "<Figure size 432x288 with 1 Axes>"
      ]
     },
     "metadata": {
      "needs_background": "light"
     },
     "output_type": "display_data"
    }
   ],
   "source": [
    "plt.scatter(weather_df[\"Lat\"], weather_df[\"Humidity\"], marker=\"o\")\n",
    "\n",
    "plt.title(\"Humidity vs City Latitude\")\n",
    "plt.ylabel(\"Humidity (%)\")\n",
    "plt.xlabel(\"Latitude\")\n",
    "plt.grid(True)\n",
    "\n",
    "plt.savefig(\"output_data/HumidityvsCityLatitude.png\")\n",
    "\n",
    "plt.show()"
   ]
  },
  {
   "cell_type": "markdown",
   "metadata": {},
   "source": [
    "The above graph is showing the cities humidity in relation to the cities latitude."
   ]
  },
  {
   "cell_type": "markdown",
   "metadata": {},
   "source": [
    "## Latitude vs. Cloudiness Plot"
   ]
  },
  {
   "cell_type": "code",
   "execution_count": 11,
   "metadata": {},
   "outputs": [
    {
     "data": {
      "image/png": "[encoded data removed]",
      "text/plain": [
       "<Figure size 432x288 with 1 Axes>"
      ]
     },
     "metadata": {
      "needs_background": "light"
     },
     "output_type": "display_data"
    }
   ],
   "source": [
    "plt.scatter(weather_df[\"Lat\"], weather_df[\"Cloudiness\"], marker=\"o\")\n",
    "\n",
    "plt.title(\"Cloudiness vs City Latitude\")\n",
    "plt.ylabel(\"Cloudiness (%)\")\n",
    "plt.xlabel(\"Latitude\")\n",
    "plt.grid(True)\n",
    "\n",
    "plt.savefig(\"output_data/CloudinessvsCityLatitude.png\")\n",
    "\n",
    "plt.show()"
   ]
  },
  {
   "cell_type": "markdown",
   "metadata": {},
   "source": [
    "The above graph is showing the cities cloudiness in relation to the cities latitude."
   ]
  },
  {
   "cell_type": "markdown",
   "metadata": {},
   "source": [
    "## Latitude vs. Wind Speed Plot"
   ]
  },
  {
   "cell_type": "code",
   "execution_count": 12,
   "metadata": {},
   "outputs": [
    {
     "data": {
      "image/png": "[encoded data removed]",
      "text/plain": [
       "<Figure size 432x288 with 1 Axes>"
      ]
     },
     "metadata": {
      "needs_background": "light"
     },
     "output_type": "display_data"
    }
   ],
   "source": [
    "plt.scatter(weather_df[\"Lat\"], weather_df[\"Wind Speed\"], marker=\"o\")\n",
    "\n",
    "plt.title(\"Wind Speed vs City Latitude\")\n",
    "plt.ylabel(\"Wind Speed (mph)\")\n",
    "plt.xlabel(\"Latitude\")\n",
    "plt.grid(True)\n",
    "\n",
    "plt.savefig(\"output_data/WindSpeedvsCityLatitude.png\")\n",
    "\n",
    "plt.show()"
   ]
  },
  {
   "cell_type": "markdown",
   "metadata": {},
   "source": [
    "The above graph is showing the cities wind speed in relation to the cities latitude."
   ]
  },
  {
   "cell_type": "markdown",
   "metadata": {},
   "source": [
    "## Linear Regression"
   ]
  },
  {
   "cell_type": "code",
   "execution_count": 13,
   "metadata": {},
   "outputs": [],
   "source": [
    "north_weather =weather_df.loc[weather_df[\"Lat\"] >= 0]\n",
    "\n",
    "south_weather =weather_df.loc[weather_df[\"Lat\"] < 0]"
   ]
  },
  {
   "cell_type": "markdown",
   "metadata": {},
   "source": [
    "####  Northern Hemisphere - Max Temp vs. Latitude Linear Regression"
   ]
  },
  {
   "cell_type": "code",
   "execution_count": 14,
   "metadata": {},
   "outputs": [
    {
     "data": {
      "text/plain": [
       "'y = -0.51x +307.78'"
      ]
     },
     "execution_count": 14,
     "metadata": {},
     "output_type": "execute_result"
    }
   ],
   "source": [
    "(slope, intercept, rvalue, pvalue, stderr) = linregress(north_weather[\"Lat\"], north_weather[\"Max Temp\"])\n",
    "\n",
    "regress_values = north_weather[\"Lat\"] * slope + intercept\n",
    "line_eq = \"y = \" + str(round(slope,2)) + \"x +\" + str(round(intercept,2))\n",
    "\n",
    "line_eq"
   ]
  },
  {
   "cell_type": "code",
   "execution_count": 15,
   "metadata": {},
   "outputs": [
    {
     "name": "stdout",
     "output_type": "stream",
     "text": [
      "The r-value is: 0.7965381872514208\n"
     ]
    },
    {
     "data": {
      "image/png": "[encoded data removed]",
      "text/plain": [
       "<Figure size 432x288 with 1 Axes>"
      ]
     },
     "metadata": {
      "needs_background": "light"
     },
     "output_type": "display_data"
    }
   ],
   "source": [
    "plt.scatter(north_weather[\"Lat\"],north_weather[\"Max Temp\"])\n",
    "plt.plot(north_weather[\"Lat\"],regress_values,\"r-\")\n",
    "\n",
    "plt.xlabel('Latitude')\n",
    "plt.ylabel('Temperature (F)')\n",
    "plt.annotate(line_eq, (5,5), fontsize=15,color=\"red\")\n",
    "\n",
    "print(f\"The r-value is: {rvalue**2}\")\n",
    "\n",
    "plt.savefig(\"output_data/NMaxTempvsLatitude.png\")\n",
    "\n",
    "plt.show()"
   ]
  },
  {
   "cell_type": "markdown",
   "metadata": {},
   "source": [
    "####  Southern Hemisphere - Max Temp vs. Latitude Linear Regression"
   ]
  },
  {
   "cell_type": "code",
   "execution_count": 16,
   "metadata": {},
   "outputs": [
    {
     "data": {
      "text/plain": [
       "'y = 0.3x +299.93'"
      ]
     },
     "execution_count": 16,
     "metadata": {},
     "output_type": "execute_result"
    }
   ],
   "source": [
    "(slope, intercept, rvalue, pvalue, stderr) = linregress(south_weather[\"Lat\"], south_weather[\"Max Temp\"])\n",
    "\n",
    "regress_values = south_weather[\"Lat\"] * slope + intercept\n",
    "line_eq = \"y = \" + str(round(slope,2)) + \"x +\" + str(round(intercept,2))\n",
    "\n",
    "line_eq"
   ]
  },
  {
   "cell_type": "code",
   "execution_count": 17,
   "metadata": {},
   "outputs": [
    {
     "name": "stdout",
     "output_type": "stream",
     "text": [
      "The r-value is: 0.37664881573447817\n"
     ]
    },
    {
     "data": {
      "image/png": "[encoded data removed]",
      "text/plain": [
       "<Figure size 432x288 with 1 Axes>"
      ]
     },
     "metadata": {
      "needs_background": "light"
     },
     "output_type": "display_data"
    }
   ],
   "source": [
    "plt.scatter(south_weather[\"Lat\"],south_weather[\"Max Temp\"])\n",
    "plt.plot(south_weather[\"Lat\"],regress_values,\"r-\")\n",
    "\n",
    "plt.xlabel('Latitude')\n",
    "plt.ylabel('Temperature (F)')\n",
    "plt.annotate(line_eq, (5,5), fontsize=15,color=\"red\")\n",
    "\n",
    "print(f\"The r-value is: {rvalue**2}\")\n",
    "\n",
    "plt.savefig(\"output_data/SMaxTempvsLatitude.png\")\n",
    "\n",
    "plt.show()"
   ]
  },
  {
   "cell_type": "markdown",
   "metadata": {},
   "source": [
    "####  Northern Hemisphere - Humidity (%) vs. Latitude Linear Regression"
   ]
  },
  {
   "cell_type": "code",
   "execution_count": 18,
   "metadata": {},
   "outputs": [
    {
     "data": {
      "text/plain": [
       "'y = 0.22x +57.14'"
      ]
     },
     "execution_count": 18,
     "metadata": {},
     "output_type": "execute_result"
    }
   ],
   "source": [
    "(slope, intercept, rvalue, pvalue, stderr) = linregress(north_weather[\"Lat\"], north_weather[\"Humidity\"])\n",
    "\n",
    "regress_values = north_weather[\"Lat\"] * slope + intercept\n",
    "line_eq = \"y = \" + str(round(slope,2)) + \"x +\" + str(round(intercept,2))\n",
    "\n",
    "line_eq"
   ]
  },
  {
   "cell_type": "code",
   "execution_count": 19,
   "metadata": {},
   "outputs": [
    {
     "name": "stdout",
     "output_type": "stream",
     "text": [
      "The r-value is: 0.033898782905727724\n"
     ]
    },
    {
     "data": {
      "image/png": "[encoded data removed]",
      "text/plain": [
       "<Figure size 432x288 with 1 Axes>"
      ]
     },
     "metadata": {
      "needs_background": "light"
     },
     "output_type": "display_data"
    }
   ],
   "source": [
    "plt.scatter(north_weather[\"Lat\"],north_weather[\"Humidity\"])\n",
    "plt.plot(north_weather[\"Lat\"],regress_values,\"r-\")\n",
    "\n",
    "plt.xlabel('Latitude')\n",
    "plt.ylabel('Humidity (%)')\n",
    "plt.annotate(line_eq, (5,5), fontsize=15,color=\"red\")\n",
    "\n",
    "print(f\"The r-value is: {rvalue**2}\")\n",
    "\n",
    "plt.savefig(\"output_data/NHumidityvsLatitude.png\")\n",
    "\n",
    "plt.show()"
   ]
  },
  {
   "cell_type": "markdown",
   "metadata": {},
   "source": [
    "####  Southern Hemisphere - Humidity (%) vs. Latitude Linear Regression"
   ]
  },
  {
   "cell_type": "code",
   "execution_count": 20,
   "metadata": {},
   "outputs": [
    {
     "data": {
      "text/plain": [
       "'y = 0.28x +82.3'"
      ]
     },
     "execution_count": 20,
     "metadata": {},
     "output_type": "execute_result"
    }
   ],
   "source": [
    "(slope, intercept, rvalue, pvalue, stderr) = linregress(south_weather[\"Lat\"], south_weather[\"Humidity\"])\n",
    "\n",
    "regress_values = south_weather[\"Lat\"] * slope + intercept\n",
    "line_eq = \"y = \" + str(round(slope,2)) + \"x +\" + str(round(intercept,2))\n",
    "\n",
    "line_eq"
   ]
  },
  {
   "cell_type": "code",
   "execution_count": 21,
   "metadata": {},
   "outputs": [
    {
     "name": "stdout",
     "output_type": "stream",
     "text": [
      "The r-value is: 0.04291517414549897\n"
     ]
    },
    {
     "data": {
      "image/png": "[encoded data removed]",
      "text/plain": [
       "<Figure size 432x288 with 1 Axes>"
      ]
     },
     "metadata": {
      "needs_background": "light"
     },
     "output_type": "display_data"
    }
   ],
   "source": [
    "plt.scatter(south_weather[\"Lat\"],south_weather[\"Humidity\"])\n",
    "plt.plot(south_weather[\"Lat\"],regress_values,\"r-\")\n",
    "\n",
    "plt.xlabel('Latitude')\n",
    "plt.ylabel('Humidity (%)')\n",
    "plt.annotate(line_eq, (5,5), fontsize=15,color=\"red\")\n",
    "\n",
    "print(f\"The r-value is: {rvalue**2}\")\n",
    "\n",
    "plt.savefig(\"output_data/SHumidityvsLatitude.png\")\n",
    "\n",
    "plt.show()"
   ]
  },
  {
   "cell_type": "markdown",
   "metadata": {},
   "source": [
    "####  Northern Hemisphere - Cloudiness (%) vs. Latitude Linear Regression"
   ]
  },
  {
   "cell_type": "code",
   "execution_count": 22,
   "metadata": {},
   "outputs": [
    {
     "data": {
      "text/plain": [
       "'y = 0.32x +41.47'"
      ]
     },
     "execution_count": 22,
     "metadata": {},
     "output_type": "execute_result"
    }
   ],
   "source": [
    "(slope, intercept, rvalue, pvalue, stderr) = linregress(north_weather[\"Lat\"], north_weather[\"Cloudiness\"])\n",
    "\n",
    "regress_values = north_weather[\"Lat\"] * slope + intercept\n",
    "line_eq = \"y = \" + str(round(slope,2)) + \"x +\" + str(round(intercept,2))\n",
    "\n",
    "line_eq"
   ]
  },
  {
   "cell_type": "code",
   "execution_count": 23,
   "metadata": {},
   "outputs": [
    {
     "name": "stdout",
     "output_type": "stream",
     "text": [
      "The r-value is: 0.029327870094679406\n"
     ]
    },
    {
     "data": {
      "image/png": "[encoded data removed]",
      "text/plain": [
       "<Figure size 432x288 with 1 Axes>"
      ]
     },
     "metadata": {
      "needs_background": "light"
     },
     "output_type": "display_data"
    }
   ],
   "source": [
    "plt.scatter(north_weather[\"Lat\"],north_weather[\"Cloudiness\"])\n",
    "plt.plot(north_weather[\"Lat\"],regress_values,\"r-\")\n",
    "\n",
    "plt.xlabel('Latitude')\n",
    "plt.ylabel('Cloudiness (%)')\n",
    "plt.annotate(line_eq, (5,5), fontsize=15,color=\"red\")\n",
    "\n",
    "print(f\"The r-value is: {rvalue**2}\")\n",
    "\n",
    "plt.savefig(\"output_data/NCloudinessvsLatitude.png\")\n",
    "\n",
    "plt.show()"
   ]
  },
  {
   "cell_type": "markdown",
   "metadata": {},
   "source": [
    "####  Southern Hemisphere - Cloudiness (%) vs. Latitude Linear Regression"
   ]
  },
  {
   "cell_type": "code",
   "execution_count": 24,
   "metadata": {},
   "outputs": [
    {
     "data": {
      "text/plain": [
       "'y = 0.88x +69.21'"
      ]
     },
     "execution_count": 24,
     "metadata": {},
     "output_type": "execute_result"
    }
   ],
   "source": [
    "(slope, intercept, rvalue, pvalue, stderr) = linregress(south_weather[\"Lat\"], south_weather[\"Cloudiness\"])\n",
    "\n",
    "regress_values = south_weather[\"Lat\"] * slope + intercept\n",
    "line_eq = \"y = \" + str(round(slope,2)) + \"x +\" + str(round(intercept,2))\n",
    "\n",
    "line_eq"
   ]
  },
  {
   "cell_type": "code",
   "execution_count": 25,
   "metadata": {},
   "outputs": [
    {
     "name": "stdout",
     "output_type": "stream",
     "text": [
      "The r-value is: 0.0888421185481475\n"
     ]
    },
    {
     "data": {
      "image/png": "[encoded data removed]",
      "text/plain": [
       "<Figure size 432x288 with 1 Axes>"
      ]
     },
     "metadata": {
      "needs_background": "light"
     },
     "output_type": "display_data"
    }
   ],
   "source": [
    "plt.scatter(south_weather[\"Lat\"],south_weather[\"Cloudiness\"])\n",
    "plt.plot(south_weather[\"Lat\"],regress_values,\"r-\")\n",
    "\n",
    "plt.xlabel('Latitude')\n",
    "plt.ylabel('Cloudiness (%)')\n",
    "plt.annotate(line_eq, (5,5), fontsize=15,color=\"red\")\n",
    "\n",
    "print(f\"The r-value is: {rvalue**2}\")\n",
    "\n",
    "plt.savefig(\"output_data/SCloudinessvsLatitude.png\")\n",
    "\n",
    "plt.show()"
   ]
  },
  {
   "cell_type": "markdown",
   "metadata": {},
   "source": [
    "####  Northern Hemisphere - Wind Speed (mph) vs. Latitude Linear Regression"
   ]
  },
  {
   "cell_type": "code",
   "execution_count": 26,
   "metadata": {},
   "outputs": [
    {
     "data": {
      "text/plain": [
       "'y = 0.01x +2.74'"
      ]
     },
     "execution_count": 26,
     "metadata": {},
     "output_type": "execute_result"
    }
   ],
   "source": [
    "(slope, intercept, rvalue, pvalue, stderr) = linregress(north_weather[\"Lat\"], north_weather[\"Wind Speed\"])\n",
    "\n",
    "regress_values = north_weather[\"Lat\"] * slope + intercept\n",
    "line_eq = \"y = \" + str(round(slope,2)) + \"x +\" + str(round(intercept,2))\n",
    "\n",
    "line_eq"
   ]
  },
  {
   "cell_type": "code",
   "execution_count": 27,
   "metadata": {},
   "outputs": [
    {
     "name": "stdout",
     "output_type": "stream",
     "text": [
      "The r-value is: 0.011399630286306327\n"
     ]
    },
    {
     "data": {
      "image/png": "[encoded data removed]",
      "text/plain": [
       "<Figure size 432x288 with 1 Axes>"
      ]
     },
     "metadata": {
      "needs_background": "light"
     },
     "output_type": "display_data"
    }
   ],
   "source": [
    "plt.scatter(north_weather[\"Lat\"],north_weather[\"Wind Speed\"])\n",
    "plt.plot(north_weather[\"Lat\"],regress_values,\"r-\")\n",
    "\n",
    "plt.xlabel('Latitude')\n",
    "plt.ylabel('Wind Speed (mph)')\n",
    "plt.annotate(line_eq, (5,5), fontsize=15,color=\"red\")\n",
    "\n",
    "print(f\"The r-value is: {rvalue**2}\")\n",
    "\n",
    "plt.savefig(\"output_data/NWindSpeedvsLatitude.png\")\n",
    "\n",
    "plt.show()"
   ]
  },
  {
   "cell_type": "markdown",
   "metadata": {},
   "source": [
    "####  Southern Hemisphere - Wind Speed (mph) vs. Latitude Linear Regression"
   ]
  },
  {
   "cell_type": "code",
   "execution_count": 28,
   "metadata": {},
   "outputs": [
    {
     "data": {
      "text/plain": [
       "'y = -0.05x +2.19'"
      ]
     },
     "execution_count": 28,
     "metadata": {},
     "output_type": "execute_result"
    }
   ],
   "source": [
    "(slope, intercept, rvalue, pvalue, stderr) = linregress(south_weather[\"Lat\"], south_weather[\"Wind Speed\"])\n",
    "\n",
    "regress_values = south_weather[\"Lat\"] * slope + intercept\n",
    "line_eq = \"y = \" + str(round(slope,2)) + \"x +\" + str(round(intercept,2))\n",
    "\n",
    "line_eq"
   ]
  },
  {
   "cell_type": "code",
   "execution_count": 29,
   "metadata": {},
   "outputs": [
    {
     "name": "stdout",
     "output_type": "stream",
     "text": [
      "The r-value is: 0.03926479569112822\n"
     ]
    },
    {
     "data": {
      "image/png": "[encoded data removed]",
      "text/plain": [
       "<Figure size 432x288 with 1 Axes>"
      ]
     },
     "metadata": {
      "needs_background": "light"
     },
     "output_type": "display_data"
    }
   ],
   "source": [
    "plt.scatter(south_weather[\"Lat\"],south_weather[\"Wind Speed\"])\n",
    "plt.plot(south_weather[\"Lat\"],regress_values,\"r-\")\n",
    "\n",
    "plt.xlabel('Latitude')\n",
    "plt.ylabel('Wind Speed (mph)')\n",
    "plt.annotate(line_eq, (5,5), fontsize=15,color=\"red\")\n",
    "\n",
    "print(f\"The r-value is: {rvalue**2}\")\n",
    "\n",
    "plt.savefig(\"output_data/SWindSpeedvsLatitude.png\")\n",
    "\n",
    "plt.show()"
   ]
  },
  {
   "cell_type": "code",
   "execution_count": null,
   "metadata": {},
   "outputs": [],
   "source": []
  }
 ],
 "metadata": {
  "anaconda-cloud": {},
  "kernel_info": {
   "name": "python3"
  },
  "kernelspec": {
   "display_name": "PythonData",
   "language": "python",
   "name": "pythondata"
  },
  "language_info": {
   "codemirror_mode": {
    "name": "ipython",
    "version": 3
   },
   "file_extension": ".py",
   "mimetype": "text/x-python",
   "name": "python",
   "nbconvert_exporter": "python",
   "pygments_lexer": "ipython3",
   "version": "3.8.5"
  },
  "latex_envs": {
   "LaTeX_envs_menu_present": true,
   "autoclose": false,
   "autocomplete": true,
   "bibliofile": "biblio.bib",
   "cite_by": "apalike",
   "current_citInitial": 1,
   "eqLabelWithNumbers": true,
   "eqNumInitial": 1,
   "hotkeys": {
    "equation": "Ctrl-E",
    "itemize": "Ctrl-I"
   },
   "labels_anchors": false,
   "latex_user_defs": false,
   "report_style_numbering": false,
   "user_envs_cfg": false
  },
  "nteract": {
   "version": "0.12.3"
  }
 },
 "nbformat": 4,
 "nbformat_minor": 2
}
