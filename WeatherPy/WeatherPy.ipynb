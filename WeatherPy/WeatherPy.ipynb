{
 "cells": [
  {
   "cell_type": "markdown",
   "metadata": {},
   "source": [
    "# WeatherPy\n",
    "----\n",
    "\n",
    "#### Note\n",
    "* Instructions have been included for each segment. You do not have to follow them exactly, but they are included to help you think through the steps."
   ]
  },
  {
   "cell_type": "code",
   "execution_count": 1,
   "metadata": {
    "scrolled": true
   },
   "outputs": [],
   "source": [
    "# Dependencies and Setup\n",
    "import matplotlib.pyplot as plt\n",
    "import pandas as pd\n",
    "import numpy as np\n",
    "import requests\n",
    "import time\n",
    "from scipy.stats import linregress\n",
    "from pprint import pprint\n",
    "\n",
    "\n",
    "# Import API key\n",
    "from api_keys import weather_api_key\n",
    "\n",
    "# Incorporated citipy to determine city based on latitude and longitude\n",
    "from citipy import citipy\n",
    "\n",
    "# Output File (CSV)\n",
    "output_data_file = \"output_data/cities.csv\"\n",
    "\n",
    "url = \"http://api.openweathermap.org/data/2.5/weather?\"\n",
    "\n",
    "\n",
    "\n",
    "# Range of latitudes and longitudes\n",
    "lat_range = (-90, 90)\n",
    "lng_range = (-180, 180)"
   ]
  },
  {
   "cell_type": "markdown",
   "metadata": {},
   "source": [
    "## Generate Cities List"
   ]
  },
  {
   "cell_type": "code",
   "execution_count": 2,
   "metadata": {},
   "outputs": [
    {
     "data": {
      "text/plain": [
       "604"
      ]
     },
     "execution_count": 2,
     "metadata": {},
     "output_type": "execute_result"
    }
   ],
   "source": [
    "# List for holding lat_lngs and cities\n",
    "lat_lngs = []\n",
    "cities = []\n",
    "\n",
    "# Create a set of random lat and lng combinations\n",
    "lats = np.random.uniform(lat_range[0], lat_range[1], size=1500)\n",
    "lngs = np.random.uniform(lng_range[0], lng_range[1], size=1500)\n",
    "lat_lngs = zip(lats, lngs)\n",
    "\n",
    "# Identify nearest city for each lat, lng combination\n",
    "for lat_lng in lat_lngs:\n",
    "    city = citipy.nearest_city(lat_lng[0], lat_lng[1]).city_name\n",
    "    \n",
    "    # If the city is unique, then add it to a our cities list\n",
    "    if city not in cities:\n",
    "        cities.append(city)\n",
    "\n",
    "# Print the city count to confirm sufficient count\n",
    "len(cities)"
   ]
  },
  {
   "cell_type": "markdown",
   "metadata": {},
   "source": [
    "### Perform API Calls\n",
    "* Perform a weather check on each city using a series of successive API calls.\n",
    "* Include a print log of each city as it'sbeing processed (with the city number and city name).\n"
   ]
  },
  {
   "cell_type": "code",
   "execution_count": 3,
   "metadata": {},
   "outputs": [],
   "source": [
    "cityname=[]\n",
    "lat=[]\n",
    "lng=[]\n",
    "max_temp=[]\n",
    "humidity=[]\n",
    "cloudiness=[]\n",
    "wind_speed=[]\n",
    "country=[]\n",
    "date=[]"
   ]
  },
  {
   "cell_type": "code",
   "execution_count": 4,
   "metadata": {},
   "outputs": [
    {
     "name": "stdout",
     "output_type": "stream",
     "text": [
      "Processing Record 0 of Set 1 | hobart\n",
      "Processing Record 1 of Set 1 | uruacu\n",
      "Processing Record 2 of Set 1 | mount gambier\n",
      "Processing Record 3 of Set 1 | bongandanga\n",
      "Processing Record 4 of Set 1 | hithadhoo\n",
      "Processing Record 5 of Set 1 | kumano\n",
      "Processing Record 6 of Set 1 | busselton\n",
      "Processing Record 7 of Set 1 | kloulklubed\n",
      "Processing Record 8 of Set 1 | attawapiskat\n",
      "City not found...Skipping...\n",
      "Processing Record 9 of Set 1 | bonfim\n",
      "Processing Record 10 of Set 1 | amderma\n",
      "City not found...Skipping...\n",
      "Processing Record 11 of Set 1 | chuy\n",
      "Processing Record 12 of Set 1 | port macquarie\n",
      "Processing Record 13 of Set 1 | kapaa\n",
      "Processing Record 14 of Set 1 | hays\n",
      "Processing Record 15 of Set 1 | onega\n",
      "Processing Record 16 of Set 1 | ribeira grande\n",
      "Processing Record 17 of Set 1 | port alfred\n",
      "Processing Record 18 of Set 1 | longyearbyen\n",
      "Processing Record 19 of Set 1 | new norfolk\n",
      "Processing Record 20 of Set 1 | ushuaia\n",
      "Processing Record 21 of Set 1 | pisco\n",
      "Processing Record 22 of Set 1 | bluff\n",
      "Processing Record 23 of Set 1 | avarua\n",
      "Processing Record 24 of Set 1 | rikitea\n",
      "Processing Record 25 of Set 1 | mar del plata\n",
      "Processing Record 26 of Set 1 | guerrero negro\n",
      "Processing Record 27 of Set 1 | halalo\n",
      "City not found...Skipping...\n",
      "Processing Record 28 of Set 1 | port hardy\n",
      "Processing Record 29 of Set 1 | hilo\n",
      "Processing Record 30 of Set 1 | praya\n",
      "Processing Record 31 of Set 1 | gazanjyk\n",
      "Processing Record 32 of Set 1 | klaksvik\n",
      "Processing Record 33 of Set 1 | cabo san lucas\n",
      "Processing Record 34 of Set 1 | grand river south east\n",
      "City not found...Skipping...\n",
      "Processing Record 35 of Set 1 | minsk\n",
      "Processing Record 36 of Set 1 | port elizabeth\n",
      "Processing Record 37 of Set 1 | saint-pierre\n",
      "Processing Record 38 of Set 1 | cidreira\n",
      "Processing Record 39 of Set 1 | salalah\n",
      "Processing Record 40 of Set 1 | nago\n",
      "Processing Record 41 of Set 1 | talnakh\n",
      "Processing Record 42 of Set 1 | flinders\n",
      "Processing Record 43 of Set 1 | cherskiy\n",
      "Processing Record 44 of Set 1 | saint-philippe\n",
      "Processing Record 45 of Set 1 | broken hill\n",
      "Processing Record 46 of Set 1 | jamestown\n",
      "Processing Record 47 of Set 1 | marsa matruh\n",
      "Processing Record 48 of Set 1 | sumbawa\n",
      "City not found...Skipping...\n",
      "Processing Record 49 of Set 1 | grindavik\n",
      "Processing Record 1 of Set 2 | alice springs\n",
      "Processing Record 2 of Set 2 | manzanillo\n",
      "Processing Record 3 of Set 2 | llandrindod wells\n",
      "Processing Record 4 of Set 2 | wajima\n",
      "Processing Record 5 of Set 2 | atuona\n",
      "Processing Record 6 of Set 2 | taolanaro\n",
      "City not found...Skipping...\n",
      "Processing Record 7 of Set 2 | iguape\n",
      "Processing Record 8 of Set 2 | shimoda\n",
      "Processing Record 9 of Set 2 | barentsburg\n",
      "City not found...Skipping...\n",
      "Processing Record 10 of Set 2 | faanui\n",
      "Processing Record 11 of Set 2 | kamaishi\n",
      "Processing Record 12 of Set 2 | yar-sale\n",
      "Processing Record 13 of Set 2 | marsh harbour\n",
      "Processing Record 14 of Set 2 | georgetown\n",
      "Processing Record 15 of Set 2 | kodiak\n",
      "Processing Record 16 of Set 2 | louisbourg\n",
      "City not found...Skipping...\n",
      "Processing Record 17 of Set 2 | cururupu\n",
      "Processing Record 18 of Set 2 | victor harbor\n",
      "Processing Record 19 of Set 2 | hounde\n",
      "Processing Record 20 of Set 2 | tabialan\n",
      "City not found...Skipping...\n",
      "Processing Record 21 of Set 2 | dingle\n",
      "Processing Record 22 of Set 2 | ahipara\n",
      "Processing Record 23 of Set 2 | illoqqortoormiut\n",
      "City not found...Skipping...\n",
      "Processing Record 24 of Set 2 | owando\n",
      "Processing Record 25 of Set 2 | punta arenas\n",
      "Processing Record 26 of Set 2 | lebu\n",
      "Processing Record 27 of Set 2 | pagudpud\n",
      "Processing Record 28 of Set 2 | lorengau\n",
      "Processing Record 29 of Set 2 | sentyabrskiy\n",
      "City not found...Skipping...\n",
      "Processing Record 30 of Set 2 | port blair\n",
      "Processing Record 31 of Set 2 | pevek\n",
      "Processing Record 32 of Set 2 | cape town\n",
      "Processing Record 33 of Set 2 | taybad\n",
      "Processing Record 34 of Set 2 | mana\n",
      "Processing Record 35 of Set 2 | rosarito\n",
      "Processing Record 36 of Set 2 | hambantota\n",
      "Processing Record 37 of Set 2 | muros\n",
      "Processing Record 38 of Set 2 | parczew\n",
      "Processing Record 39 of Set 2 | norman wells\n",
      "Processing Record 40 of Set 2 | vaini\n",
      "Processing Record 41 of Set 2 | kavieng\n",
      "Processing Record 42 of Set 2 | presidente venceslau\n",
      "Processing Record 43 of Set 2 | port moresby\n",
      "Processing Record 44 of Set 2 | kruisfontein\n",
      "Processing Record 45 of Set 2 | tuktoyaktuk\n",
      "Processing Record 46 of Set 2 | albany\n",
      "Processing Record 47 of Set 2 | hamilton\n",
      "Processing Record 48 of Set 2 | belmonte\n",
      "Processing Record 49 of Set 2 | haines junction\n",
      "Processing Record 50 of Set 2 | bredasdorp\n",
      "Processing Record 1 of Set 3 | mataura\n",
      "Processing Record 2 of Set 3 | plettenberg bay\n",
      "Processing Record 3 of Set 3 | chokurdakh\n",
      "Processing Record 4 of Set 3 | nikolskoye\n",
      "Processing Record 5 of Set 3 | kieta\n",
      "Processing Record 6 of Set 3 | gerardmer\n",
      "Processing Record 7 of Set 3 | santa rosa\n",
      "Processing Record 8 of Set 3 | qaanaaq\n",
      "Processing Record 9 of Set 3 | okhotsk\n",
      "Processing Record 10 of Set 3 | aasiaat\n",
      "Processing Record 11 of Set 3 | codrington\n",
      "Processing Record 12 of Set 3 | tasiilaq\n",
      "Processing Record 13 of Set 3 | challapata\n",
      "Processing Record 14 of Set 3 | cockburn town\n",
      "Processing Record 15 of Set 3 | narsaq\n",
      "Processing Record 16 of Set 3 | anadyr\n",
      "Processing Record 17 of Set 3 | lagoa\n",
      "Processing Record 18 of Set 3 | romny\n",
      "Processing Record 19 of Set 3 | hasaki\n",
      "Processing Record 20 of Set 3 | yellowknife\n",
      "Processing Record 21 of Set 3 | belushya guba\n",
      "City not found...Skipping...\n",
      "Processing Record 22 of Set 3 | east london\n",
      "Processing Record 23 of Set 3 | lompoc\n",
      "Processing Record 24 of Set 3 | ponta do sol\n",
      "Processing Record 25 of Set 3 | cervo\n",
      "Processing Record 26 of Set 3 | mitu\n",
      "Processing Record 27 of Set 3 | saldanha\n",
      "Processing Record 28 of Set 3 | manakara\n",
      "Processing Record 29 of Set 3 | meulaboh\n",
      "Processing Record 30 of Set 3 | waddan\n",
      "Processing Record 31 of Set 3 | hermanus\n",
      "Processing Record 32 of Set 3 | aksu\n",
      "Processing Record 33 of Set 3 | gollere\n",
      "City not found...Skipping...\n",
      "Processing Record 34 of Set 3 | altay\n",
      "Processing Record 35 of Set 3 | sandpoint\n",
      "Processing Record 36 of Set 3 | olinda\n",
      "Processing Record 37 of Set 3 | baijiantan\n",
      "Processing Record 38 of Set 3 | noyabrsk\n",
      "Processing Record 39 of Set 3 | crotone\n",
      "Processing Record 40 of Set 3 | haysville\n",
      "Processing Record 41 of Set 3 | nioro\n",
      "Processing Record 42 of Set 3 | torbay\n",
      "Processing Record 43 of Set 3 | eureka\n",
      "Processing Record 44 of Set 3 | airai\n",
      "Processing Record 45 of Set 3 | sitka\n",
      "Processing Record 46 of Set 3 | karratha\n",
      "Processing Record 47 of Set 3 | saskylakh\n",
      "Processing Record 48 of Set 3 | dikson\n",
      "Processing Record 49 of Set 3 | kurush\n",
      "Processing Record 50 of Set 3 | lubao\n",
      "Processing Record 1 of Set 4 | lavrentiya\n",
      "Processing Record 2 of Set 4 | ushibuka\n",
      "Processing Record 3 of Set 4 | kabinda\n",
      "Processing Record 4 of Set 4 | leshan\n",
      "Processing Record 5 of Set 4 | batagay-alyta\n",
      "Processing Record 6 of Set 4 | ahuimanu\n",
      "Processing Record 7 of Set 4 | asosa\n",
      "Processing Record 8 of Set 4 | port-de-paix\n",
      "City not found...Skipping...\n",
      "Processing Record 9 of Set 4 | vila franca do campo\n",
      "Processing Record 10 of Set 4 | ostersund\n",
      "Processing Record 11 of Set 4 | hearst\n",
      "Processing Record 12 of Set 4 | yerofey pavlovich\n",
      "Processing Record 13 of Set 4 | svetlogorsk\n",
      "Processing Record 14 of Set 4 | kamenskoye\n",
      "City not found...Skipping...\n",
      "Processing Record 15 of Set 4 | tessalit\n",
      "Processing Record 16 of Set 4 | sangar\n",
      "Processing Record 17 of Set 4 | maragogi\n",
      "Processing Record 18 of Set 4 | tuatapere\n",
      "Processing Record 19 of Set 4 | hualmay\n",
      "Processing Record 20 of Set 4 | pareora\n",
      "Processing Record 21 of Set 4 | anchorage\n",
      "Processing Record 22 of Set 4 | puerto ayora\n",
      "Processing Record 23 of Set 4 | mahebourg\n",
      "Processing Record 24 of Set 4 | mys shmidta\n",
      "City not found...Skipping...\n",
      "Processing Record 25 of Set 4 | kaitangata\n",
      "Processing Record 26 of Set 4 | samalaeulu\n",
      "City not found...Skipping...\n",
      "Processing Record 27 of Set 4 | yenagoa\n",
      "Processing Record 28 of Set 4 | abu dhabi\n",
      "Processing Record 29 of Set 4 | victoria\n",
      "Processing Record 30 of Set 4 | quatre cocos\n",
      "Processing Record 31 of Set 4 | geraldton\n",
      "Processing Record 32 of Set 4 | waipawa\n",
      "Processing Record 33 of Set 4 | wuzhou\n",
      "Processing Record 34 of Set 4 | cabedelo\n",
      "Processing Record 35 of Set 4 | kuryk\n",
      "Processing Record 36 of Set 4 | washington\n",
      "Processing Record 37 of Set 4 | greystones\n"
     ]
    },
    {
     "name": "stdout",
     "output_type": "stream",
     "text": [
      "Processing Record 38 of Set 4 | port shepstone\n",
      "Processing Record 39 of Set 4 | tual\n",
      "Processing Record 40 of Set 4 | upernavik\n",
      "Processing Record 41 of Set 4 | vila velha\n",
      "Processing Record 42 of Set 4 | virginia beach\n",
      "Processing Record 43 of Set 4 | severo-kurilsk\n",
      "Processing Record 44 of Set 4 | garissa\n",
      "Processing Record 45 of Set 4 | putina\n",
      "Processing Record 46 of Set 4 | pimentel\n",
      "Processing Record 47 of Set 4 | bethel\n",
      "Processing Record 48 of Set 4 | kailua\n",
      "Processing Record 49 of Set 4 | touros\n",
      "Processing Record 50 of Set 4 | tiksi\n",
      "Processing Record 1 of Set 5 | san quintin\n",
      "Processing Record 2 of Set 5 | westport\n",
      "Processing Record 3 of Set 5 | provideniya\n",
      "Processing Record 4 of Set 5 | baculin\n",
      "Processing Record 5 of Set 5 | los llanos de aridane\n",
      "Processing Record 6 of Set 5 | seoul\n",
      "Processing Record 7 of Set 5 | sao joao da barra\n",
      "Processing Record 8 of Set 5 | cleburne\n",
      "Processing Record 9 of Set 5 | nishihara\n",
      "Processing Record 10 of Set 5 | talaya\n",
      "Processing Record 11 of Set 5 | nantucket\n",
      "Processing Record 12 of Set 5 | alfonsine\n",
      "Processing Record 13 of Set 5 | nsanje\n",
      "Processing Record 14 of Set 5 | srivardhan\n",
      "Processing Record 15 of Set 5 | carnarvon\n",
      "Processing Record 16 of Set 5 | great falls\n",
      "Processing Record 17 of Set 5 | kontagora\n",
      "Processing Record 18 of Set 5 | poum\n",
      "Processing Record 19 of Set 5 | goderich\n",
      "Processing Record 20 of Set 5 | souillac\n",
      "Processing Record 21 of Set 5 | vila\n",
      "Processing Record 22 of Set 5 | mangrol\n",
      "Processing Record 23 of Set 5 | evensk\n",
      "Processing Record 24 of Set 5 | luderitz\n",
      "Processing Record 25 of Set 5 | severo-yeniseyskiy\n",
      "Processing Record 26 of Set 5 | mogadishu\n",
      "Processing Record 27 of Set 5 | saint-augustin\n",
      "Processing Record 28 of Set 5 | tres arroyos\n",
      "Processing Record 29 of Set 5 | bathurst\n",
      "Processing Record 30 of Set 5 | tumannyy\n",
      "City not found...Skipping...\n",
      "Processing Record 31 of Set 5 | tsihombe\n",
      "City not found...Skipping...\n",
      "Processing Record 32 of Set 5 | bambous virieux\n",
      "Processing Record 33 of Set 5 | gorno-chuyskiy\n",
      "City not found...Skipping...\n",
      "Processing Record 34 of Set 5 | saint anthony\n",
      "Processing Record 35 of Set 5 | george town\n",
      "Processing Record 36 of Set 5 | saint george\n",
      "Processing Record 37 of Set 5 | adrar\n",
      "Processing Record 38 of Set 5 | chililabombwe\n",
      "Processing Record 39 of Set 5 | port lincoln\n",
      "Processing Record 40 of Set 5 | ozgon\n",
      "City not found...Skipping...\n",
      "Processing Record 41 of Set 5 | meyungs\n",
      "City not found...Skipping...\n",
      "Processing Record 42 of Set 5 | sao filipe\n",
      "Processing Record 43 of Set 5 | kainantu\n",
      "Processing Record 44 of Set 5 | pangnirtung\n",
      "Processing Record 45 of Set 5 | pemangkat\n",
      "Processing Record 46 of Set 5 | coahuayana\n",
      "Processing Record 47 of Set 5 | atasu\n",
      "Processing Record 48 of Set 5 | cayenne\n",
      "Processing Record 49 of Set 5 | barrow\n",
      "Processing Record 50 of Set 5 | pittsburg\n",
      "Processing Record 1 of Set 6 | yarada\n",
      "Processing Record 2 of Set 6 | hamburg\n",
      "Processing Record 3 of Set 6 | general roca\n",
      "Processing Record 4 of Set 6 | abilene\n",
      "Processing Record 5 of Set 6 | ritchie\n",
      "Processing Record 6 of Set 6 | gold coast\n",
      "Processing Record 7 of Set 6 | yerbogachen\n",
      "Processing Record 8 of Set 6 | kindu\n",
      "Processing Record 9 of Set 6 | pontianak\n",
      "Processing Record 10 of Set 6 | vaitupu\n",
      "City not found...Skipping...\n",
      "Processing Record 11 of Set 6 | butaritari\n",
      "Processing Record 12 of Set 6 | loja\n",
      "Processing Record 13 of Set 6 | teya\n",
      "Processing Record 14 of Set 6 | ampanihy\n",
      "Processing Record 15 of Set 6 | bama\n",
      "Processing Record 16 of Set 6 | teguldet\n",
      "Processing Record 17 of Set 6 | arica\n",
      "Processing Record 18 of Set 6 | lenger\n",
      "Processing Record 19 of Set 6 | taree\n",
      "Processing Record 20 of Set 6 | thompson\n",
      "Processing Record 21 of Set 6 | portland\n",
      "Processing Record 22 of Set 6 | kiruna\n",
      "Processing Record 23 of Set 6 | zambezi\n",
      "Processing Record 24 of Set 6 | zeya\n",
      "Processing Record 25 of Set 6 | namatanai\n",
      "Processing Record 26 of Set 6 | acurenam\n",
      "Processing Record 27 of Set 6 | sao jose da coroa grande\n",
      "Processing Record 28 of Set 6 | salta\n",
      "Processing Record 29 of Set 6 | biritiba-mirim\n",
      "Processing Record 30 of Set 6 | castro\n",
      "Processing Record 31 of Set 6 | katangi\n",
      "Processing Record 32 of Set 6 | pishin\n",
      "Processing Record 33 of Set 6 | mandalgovi\n",
      "Processing Record 34 of Set 6 | kedrovyy\n",
      "Processing Record 35 of Set 6 | durango\n",
      "Processing Record 36 of Set 6 | george\n",
      "Processing Record 37 of Set 6 | semporna\n",
      "Processing Record 38 of Set 6 | dharchula\n",
      "Processing Record 39 of Set 6 | melk\n",
      "Processing Record 40 of Set 6 | ikom\n",
      "Processing Record 41 of Set 6 | clyde river\n",
      "Processing Record 42 of Set 6 | methoni\n",
      "Processing Record 43 of Set 6 | rabo de peixe\n",
      "Processing Record 44 of Set 6 | zyryanka\n",
      "Processing Record 45 of Set 6 | bandarbeyla\n",
      "Processing Record 46 of Set 6 | salamiyah\n",
      "Processing Record 47 of Set 6 | erzin\n",
      "Processing Record 48 of Set 6 | khatanga\n",
      "Processing Record 49 of Set 6 | kihei\n",
      "Processing Record 50 of Set 6 | mareeba\n",
      "Processing Record 1 of Set 7 | piacabucu\n",
      "Processing Record 2 of Set 7 | wilmington\n",
      "Processing Record 3 of Set 7 | bay city\n",
      "Processing Record 4 of Set 7 | ulladulla\n",
      "Processing Record 5 of Set 7 | nizhneyansk\n",
      "City not found...Skipping...\n",
      "Processing Record 6 of Set 7 | spirit river\n",
      "Processing Record 7 of Set 7 | novyy urengoy\n",
      "Processing Record 8 of Set 7 | navirai\n",
      "Processing Record 9 of Set 7 | kalmunai\n",
      "Processing Record 10 of Set 7 | raudeberg\n",
      "Processing Record 11 of Set 7 | bogale\n",
      "Processing Record 12 of Set 7 | wajir\n",
      "Processing Record 13 of Set 7 | roma\n",
      "Processing Record 14 of Set 7 | bokspits\n",
      "City not found...Skipping...\n",
      "Processing Record 15 of Set 7 | acarau\n",
      "Processing Record 16 of Set 7 | paamiut\n",
      "Processing Record 17 of Set 7 | ola\n",
      "Processing Record 18 of Set 7 | san policarpo\n",
      "Processing Record 19 of Set 7 | bengkulu\n",
      "Processing Record 20 of Set 7 | tolaga bay\n",
      "Processing Record 21 of Set 7 | vostok\n",
      "Processing Record 22 of Set 7 | fomboni\n",
      "Processing Record 23 of Set 7 | nanortalik\n",
      "Processing Record 24 of Set 7 | korla\n",
      "Processing Record 25 of Set 7 | sao felix do xingu\n",
      "Processing Record 26 of Set 7 | bainbridge\n",
      "Processing Record 27 of Set 7 | san patricio\n",
      "Processing Record 28 of Set 7 | bell ville\n",
      "Processing Record 29 of Set 7 | grande-riviere\n",
      "City not found...Skipping...\n",
      "Processing Record 30 of Set 7 | salisbury\n",
      "Processing Record 31 of Set 7 | fort saint john\n",
      "City not found...Skipping...\n",
      "Processing Record 32 of Set 7 | pipraich\n",
      "Processing Record 33 of Set 7 | maceio\n",
      "Processing Record 34 of Set 7 | arraial do cabo\n",
      "Processing Record 35 of Set 7 | hofn\n",
      "Processing Record 36 of Set 7 | srednekolymsk\n",
      "Processing Record 37 of Set 7 | fare\n",
      "Processing Record 38 of Set 7 | urumqi\n",
      "Processing Record 39 of Set 7 | charters towers\n",
      "Processing Record 40 of Set 7 | xuddur\n",
      "Processing Record 41 of Set 7 | kirya\n",
      "Processing Record 42 of Set 7 | havre-saint-pierre\n",
      "Processing Record 43 of Set 7 | caxito\n",
      "Processing Record 44 of Set 7 | sinnamary\n",
      "Processing Record 45 of Set 7 | oktyabrskoye\n",
      "Processing Record 46 of Set 7 | popondetta\n",
      "Processing Record 47 of Set 7 | sioux lookout\n",
      "Processing Record 48 of Set 7 | santa teresa\n",
      "Processing Record 49 of Set 7 | guanaja\n",
      "Processing Record 50 of Set 7 | coquimbo\n",
      "Processing Record 1 of Set 8 | bereda\n",
      "Processing Record 2 of Set 8 | kahului\n",
      "Processing Record 3 of Set 8 | beinamar\n",
      "Processing Record 4 of Set 8 | aporawan\n",
      "City not found...Skipping...\n",
      "Processing Record 5 of Set 8 | constitucion\n",
      "Processing Record 6 of Set 8 | ondjiva\n",
      "Processing Record 7 of Set 8 | barda\n",
      "Processing Record 8 of Set 8 | zhigansk\n",
      "Processing Record 9 of Set 8 | pangkalanbuun\n",
      "Processing Record 10 of Set 8 | ghanzi\n",
      "Processing Record 11 of Set 8 | grand centre\n",
      "City not found...Skipping...\n",
      "Processing Record 12 of Set 8 | tiarei\n",
      "Processing Record 13 of Set 8 | huarmey\n",
      "Processing Record 14 of Set 8 | esperance\n",
      "Processing Record 15 of Set 8 | maniitsoq\n",
      "Processing Record 16 of Set 8 | menongue\n",
      "Processing Record 17 of Set 8 | caruray\n",
      "Processing Record 18 of Set 8 | senador jose porfirio\n",
      "Processing Record 19 of Set 8 | faridpur\n",
      "Processing Record 20 of Set 8 | druzhba\n",
      "Processing Record 21 of Set 8 | ancud\n",
      "Processing Record 22 of Set 8 | ruscova\n",
      "Processing Record 23 of Set 8 | hondo\n",
      "Processing Record 24 of Set 8 | kem\n",
      "Processing Record 25 of Set 8 | gulshat\n",
      "City not found...Skipping...\n",
      "Processing Record 26 of Set 8 | biak\n"
     ]
    },
    {
     "name": "stdout",
     "output_type": "stream",
     "text": [
      "Processing Record 27 of Set 8 | kysyl-syr\n",
      "Processing Record 28 of Set 8 | boyolangu\n",
      "Processing Record 29 of Set 8 | chapais\n",
      "Processing Record 30 of Set 8 | usinsk\n",
      "Processing Record 31 of Set 8 | hirara\n",
      "Processing Record 32 of Set 8 | volga\n",
      "Processing Record 33 of Set 8 | ostrovnoy\n",
      "Processing Record 34 of Set 8 | ekhabi\n",
      "Processing Record 35 of Set 8 | doctor pedro p. pena\n",
      "City not found...Skipping...\n",
      "Processing Record 36 of Set 8 | formoso do araguaia\n",
      "City not found...Skipping...\n",
      "Processing Record 37 of Set 8 | shangrao\n",
      "Processing Record 38 of Set 8 | rozkishne\n",
      "Processing Record 39 of Set 8 | bhawana\n",
      "Processing Record 40 of Set 8 | veraval\n",
      "Processing Record 41 of Set 8 | katsuura\n",
      "Processing Record 42 of Set 8 | phan thiet\n",
      "Processing Record 43 of Set 8 | chimbote\n",
      "Processing Record 44 of Set 8 | mehamn\n",
      "Processing Record 45 of Set 8 | malwan\n",
      "City not found...Skipping...\n",
      "Processing Record 46 of Set 8 | palmer\n",
      "Processing Record 47 of Set 8 | usakos\n",
      "Processing Record 48 of Set 8 | koumac\n",
      "Processing Record 49 of Set 8 | kerchevskiy\n",
      "Processing Record 50 of Set 8 | bairiki\n",
      "Processing Record 1 of Set 9 | fort nelson\n",
      "Processing Record 2 of Set 9 | skjervoy\n",
      "Processing Record 3 of Set 9 | kalengwa\n",
      "Processing Record 4 of Set 9 | kalabo\n",
      "Processing Record 5 of Set 9 | vanimo\n",
      "Processing Record 6 of Set 9 | manta\n",
      "Processing Record 7 of Set 9 | tagusao\n",
      "Processing Record 8 of Set 9 | beringovskiy\n",
      "Processing Record 9 of Set 9 | asau\n",
      "Processing Record 10 of Set 9 | valsad\n",
      "Processing Record 11 of Set 9 | ifanadiana\n",
      "Processing Record 12 of Set 9 | pochutla\n",
      "Processing Record 13 of Set 9 | longyan\n",
      "Processing Record 14 of Set 9 | nome\n",
      "Processing Record 15 of Set 9 | te anau\n",
      "Processing Record 16 of Set 9 | upata\n",
      "Processing Record 17 of Set 9 | santa cruz\n",
      "Processing Record 18 of Set 9 | acapulco\n",
      "Processing Record 19 of Set 9 | warmbad\n",
      "Processing Record 20 of Set 9 | leningradskiy\n",
      "Processing Record 21 of Set 9 | la mana\n",
      "Processing Record 22 of Set 9 | monte carmelo\n",
      "Processing Record 23 of Set 9 | changji\n",
      "Processing Record 24 of Set 9 | fortuna\n",
      "Processing Record 25 of Set 9 | nagar karnul\n",
      "Processing Record 26 of Set 9 | khon buri\n",
      "Processing Record 27 of Set 9 | pundaguitan\n",
      "Processing Record 28 of Set 9 | somerset\n",
      "Processing Record 29 of Set 9 | panalingaan\n",
      "Processing Record 30 of Set 9 | lodja\n",
      "Processing Record 31 of Set 9 | umzimvubu\n",
      "City not found...Skipping...\n",
      "Processing Record 32 of Set 9 | birin\n",
      "Processing Record 33 of Set 9 | fayaoue\n",
      "Processing Record 34 of Set 9 | bulalacao\n",
      "Processing Record 35 of Set 9 | kirakira\n",
      "Processing Record 36 of Set 9 | sibiti\n",
      "Processing Record 37 of Set 9 | tilichiki\n",
      "Processing Record 38 of Set 9 | frontera\n",
      "Processing Record 39 of Set 9 | smithers\n",
      "Processing Record 40 of Set 9 | ballina\n",
      "Processing Record 41 of Set 9 | banda aceh\n",
      "Processing Record 42 of Set 9 | dzhusaly\n",
      "City not found...Skipping...\n",
      "Processing Record 43 of Set 9 | nabire\n",
      "Processing Record 44 of Set 9 | sulangan\n",
      "Processing Record 45 of Set 9 | wanning\n",
      "Processing Record 46 of Set 9 | port keats\n",
      "Processing Record 47 of Set 9 | kabo\n",
      "Processing Record 48 of Set 9 | grand gaube\n",
      "Processing Record 49 of Set 9 | necochea\n",
      "Processing Record 50 of Set 9 | do gonbadan\n",
      "Processing Record 1 of Set 10 | kuche\n",
      "City not found...Skipping...\n",
      "Processing Record 2 of Set 10 | sept-iles\n",
      "Processing Record 3 of Set 10 | dargaville\n",
      "Processing Record 4 of Set 10 | ranau\n",
      "Processing Record 5 of Set 10 | atkarsk\n",
      "Processing Record 6 of Set 10 | chenghai\n",
      "Processing Record 7 of Set 10 | northam\n",
      "Processing Record 8 of Set 10 | fairbanks\n",
      "Processing Record 9 of Set 10 | sur\n",
      "Processing Record 10 of Set 10 | chanika\n",
      "Processing Record 11 of Set 10 | malm\n",
      "Processing Record 12 of Set 10 | birjand\n",
      "Processing Record 13 of Set 10 | guararapes\n",
      "Processing Record 14 of Set 10 | chlorakas\n",
      "Processing Record 15 of Set 10 | mount darwin\n",
      "Processing Record 16 of Set 10 | dobrovice\n",
      "Processing Record 17 of Set 10 | zhuhai\n",
      "Processing Record 18 of Set 10 | arteaga\n",
      "Processing Record 19 of Set 10 | mosquera\n",
      "Processing Record 20 of Set 10 | ust-maya\n",
      "Processing Record 21 of Set 10 | doctor phillips\n",
      "Processing Record 22 of Set 10 | ojinaga\n",
      "Processing Record 23 of Set 10 | auki\n",
      "Processing Record 24 of Set 10 | gambela\n",
      "Processing Record 25 of Set 10 | san andres\n",
      "Processing Record 26 of Set 10 | marakkanam\n",
      "Processing Record 27 of Set 10 | korfez\n",
      "Processing Record 28 of Set 10 | mizdah\n",
      "Processing Record 29 of Set 10 | marcona\n",
      "City not found...Skipping...\n",
      "Processing Record 30 of Set 10 | mahibadhoo\n",
      "Processing Record 31 of Set 10 | valdemarpils\n",
      "Processing Record 32 of Set 10 | langfang\n",
      "Processing Record 33 of Set 10 | nuristan\n",
      "Processing Record 34 of Set 10 | puerto baquerizo moreno\n",
      "Processing Record 35 of Set 10 | vanavara\n",
      "Processing Record 36 of Set 10 | bambanglipuro\n",
      "Processing Record 37 of Set 10 | lagos\n",
      "Processing Record 38 of Set 10 | vallenar\n",
      "Processing Record 39 of Set 10 | gerede\n",
      "Processing Record 40 of Set 10 | dno\n",
      "Processing Record 41 of Set 10 | turukhansk\n",
      "Processing Record 42 of Set 10 | atar\n",
      "Processing Record 43 of Set 10 | ndende\n",
      "Processing Record 44 of Set 10 | prince rupert\n",
      "Processing Record 45 of Set 10 | dudinka\n",
      "Processing Record 46 of Set 10 | jurmala\n",
      "Processing Record 47 of Set 10 | ponta delgada\n",
      "Processing Record 48 of Set 10 | pontal do parana\n",
      "Processing Record 49 of Set 10 | ilam\n",
      "Processing Record 50 of Set 10 | saleaula\n",
      "City not found...Skipping...\n",
      "Processing Record 1 of Set 11 | gayny\n",
      "Processing Record 2 of Set 11 | deputatskiy\n",
      "Processing Record 3 of Set 11 | siva\n",
      "Processing Record 4 of Set 11 | america dourada\n",
      "Processing Record 5 of Set 11 | nizhniy tsasuchey\n",
      "Processing Record 6 of Set 11 | nchelenge\n",
      "Processing Record 7 of Set 11 | ati\n",
      "Processing Record 8 of Set 11 | hobyo\n",
      "Processing Record 9 of Set 11 | kazalinsk\n",
      "City not found...Skipping...\n",
      "Processing Record 10 of Set 11 | mirnyy\n",
      "Processing Record 11 of Set 11 | samarai\n",
      "Processing Record 12 of Set 11 | karlstad\n",
      "Processing Record 13 of Set 11 | lapeer\n",
      "Processing Record 14 of Set 11 | avera\n",
      "Processing Record 15 of Set 11 | miyang\n",
      "Processing Record 16 of Set 11 | tabiauea\n",
      "City not found...Skipping...\n",
      "Processing Record 17 of Set 11 | colares\n",
      "Processing Record 18 of Set 11 | cap malheureux\n",
      "Processing Record 19 of Set 11 | buta\n",
      "Processing Record 20 of Set 11 | urdzhar\n",
      "City not found...Skipping...\n",
      "Processing Record 21 of Set 11 | tiassale\n",
      "Processing Record 22 of Set 11 | beyneu\n",
      "Processing Record 23 of Set 11 | khanpur\n",
      "Processing Record 24 of Set 11 | thinadhoo\n",
      "Processing Record 25 of Set 11 | williamsport\n",
      "Processing Record 26 of Set 11 | huai yot\n",
      "Processing Record 27 of Set 11 | saint-honore\n",
      "Processing Record 28 of Set 11 | surabaya\n",
      "Processing Record 29 of Set 11 | cosala\n",
      "Processing Record 30 of Set 11 | mlalo\n",
      "Processing Record 31 of Set 11 | sucua\n",
      "Processing Record 32 of Set 11 | daru\n",
      "Processing Record 33 of Set 11 | mindelo\n",
      "Processing Record 34 of Set 11 | kijang\n",
      "Processing Record 35 of Set 11 | shambu\n",
      "Processing Record 36 of Set 11 | jacareacanga\n",
      "Processing Record 37 of Set 11 | verkhniy baskunchak\n",
      "Processing Record 38 of Set 11 | ciudad bolivar\n",
      "Processing Record 39 of Set 11 | river falls\n",
      "Processing Record 40 of Set 11 | kushima\n",
      "Processing Record 41 of Set 11 | sorland\n",
      "Processing Record 42 of Set 11 | chicama\n",
      "Processing Record 43 of Set 11 | amboasary\n",
      "Processing Record 44 of Set 11 | matara\n",
      "Processing Record 45 of Set 11 | faya\n",
      "Processing Record 46 of Set 11 | wulanhaote\n",
      "City not found...Skipping...\n",
      "Processing Record 47 of Set 11 | laviana\n",
      "Processing Record 48 of Set 11 | delmas\n",
      "Processing Record 49 of Set 11 | hailar\n",
      "Processing Record 50 of Set 11 | marawi\n",
      "Processing Record 1 of Set 12 | kramat\n",
      "Processing Record 2 of Set 12 | fukue\n",
      "Processing Record 3 of Set 12 | jardim\n",
      "Processing Record 4 of Set 12 | chingirlau\n",
      "Processing Record 5 of Set 12 | turkistan\n",
      "Processing Record 6 of Set 12 | morant bay\n",
      "Processing Record 7 of Set 12 | oranjemund\n",
      "Processing Record 8 of Set 12 | rio cuarto\n",
      "Processing Record 9 of Set 12 | fatezh\n",
      "Processing Record 10 of Set 12 | brae\n",
      "Processing Record 11 of Set 12 | nyrob\n",
      "Processing Record 12 of Set 12 | pangody\n",
      "Processing Record 13 of Set 12 | utiroa\n",
      "City not found...Skipping...\n",
      "Processing Record 14 of Set 12 | aden\n",
      "Processing Record 15 of Set 12 | belaya gora\n"
     ]
    },
    {
     "name": "stdout",
     "output_type": "stream",
     "text": [
      "Processing Record 16 of Set 12 | chabahar\n",
      "Processing Record 17 of Set 12 | alofi\n",
      "Processing Record 18 of Set 12 | ruteng\n",
      "Processing Record 19 of Set 12 | renfrew\n",
      "Processing Record 20 of Set 12 | hibbing\n",
      "Processing Record 21 of Set 12 | roebourne\n",
      "Processing Record 22 of Set 12 | kamenka\n",
      "Processing Record 23 of Set 12 | palana\n",
      "Processing Record 24 of Set 12 | nelson bay\n",
      "Processing Record 25 of Set 12 | amarante do maranhao\n",
      "Processing Record 26 of Set 12 | mogocha\n",
      "Processing Record 27 of Set 12 | wattegama\n",
      "Processing Record 28 of Set 12 | husavik\n",
      "Processing Record 29 of Set 12 | kamyshevatskaya\n",
      "Processing Record 30 of Set 12 | tambopata\n",
      "Processing Record 31 of Set 12 | santa cruz del sur\n",
      "Processing Record 32 of Set 12 | gat\n",
      "Processing Record 33 of Set 12 | vestmannaeyjar\n",
      "Processing Record 34 of Set 12 | ganzhou\n",
      "Processing Record 35 of Set 12 | chalchihuites\n",
      "Processing Record 36 of Set 12 | camacha\n",
      "Processing Record 37 of Set 12 | galle\n",
      "Processing Record 38 of Set 12 | jaunjelgava\n",
      "Processing Record 39 of Set 12 | afsin\n",
      "Processing Record 40 of Set 12 | san cristobal\n",
      "Processing Record 41 of Set 12 | koumra\n",
      "Processing Record 42 of Set 12 | mao\n",
      "Processing Record 43 of Set 12 | tabas\n",
      "Processing Record 44 of Set 12 | tongren\n",
      "Processing Record 45 of Set 12 | laurel\n",
      "Processing Record 46 of Set 12 | yulara\n",
      "Processing Record 47 of Set 12 | antalaha\n",
      "Processing Record 48 of Set 12 | uruzgan\n",
      "Processing Record 49 of Set 12 | bolungarvik\n",
      "City not found...Skipping...\n",
      "Processing Record 50 of Set 12 | empalme\n",
      "Processing Record 1 of Set 13 | saint-francois\n",
      "Processing Record 2 of Set 13 | kathu\n",
      "Processing Record 3 of Set 13 | amahai\n",
      "Processing Record 4 of Set 13 | sokoni\n"
     ]
    }
   ],
   "source": [
    "units = \"imperial\"\n",
    "set_count = 1\n",
    "record_count = 0\n",
    "for i, city in enumerate(cities):\n",
    "    if i % 50 == 0 and i >= 50:\n",
    "        set_count = set_count +1\n",
    "        record_count = 1\n",
    "    print(f\"Processing Record {record_count} of Set {set_count} | {city}\")\n",
    "    record_count = record_count +1\n",
    "    query_url = f\"{url}appid={weather_api_key}&units{units}&q={city}\"\n",
    "    post_response = requests.get(query_url).json()         \n",
    "    \n",
    "    try:\n",
    "        cityname.append(post_response['name'])\n",
    "        lat.append(post_response['coord']['lat'])\n",
    "        lng.append(post_response['coord']['lon'])\n",
    "        max_temp.append(post_response['main']['temp_max'])\n",
    "        humidity.append(post_response['main']['humidity'])\n",
    "        cloudiness.append(post_response['clouds']['all'])\n",
    "        wind_speed.append(post_response['wind']['speed'])\n",
    "        country.append(post_response['sys']['country'])\n",
    "        date.append(time.ctime(post_response['dt']))\n",
    "    except KeyError:\n",
    "        print(\"City not found...Skipping...\")\n",
    "    "
   ]
  },
  {
   "cell_type": "markdown",
   "metadata": {},
   "source": [
    "### Convert Raw Data to DataFrame\n",
    "* Export the city data into a .csv.\n",
    "* Display the DataFrame"
   ]
  },
  {
   "cell_type": "code",
   "execution_count": 5,
   "metadata": {},
   "outputs": [
    {
     "data": {
      "text/html": [
       "<div>\n",
       "<style scoped>\n",
       "    .dataframe tbody tr th:only-of-type {\n",
       "        vertical-align: middle;\n",
       "    }\n",
       "\n",
       "    .dataframe tbody tr th {\n",
       "        vertical-align: top;\n",
       "    }\n",
       "\n",
       "    .dataframe thead th {\n",
       "        text-align: right;\n",
       "    }\n",
       "</style>\n",
       "<table border=\"1\" class=\"dataframe\">\n",
       "  <thead>\n",
       "    <tr style=\"text-align: right;\">\n",
       "      <th></th>\n",
       "      <th>City</th>\n",
       "      <th>Lat</th>\n",
       "      <th>Lng</th>\n",
       "      <th>Max Temp</th>\n",
       "      <th>Humidity</th>\n",
       "      <th>Cloudiness</th>\n",
       "      <th>Wind Speed</th>\n",
       "      <th>Country</th>\n",
       "      <th>Date</th>\n",
       "    </tr>\n",
       "  </thead>\n",
       "  <tbody>\n",
       "    <tr>\n",
       "      <th>0</th>\n",
       "      <td>Hobart</td>\n",
       "      <td>-42.8794</td>\n",
       "      <td>147.3294</td>\n",
       "      <td>285.93</td>\n",
       "      <td>87</td>\n",
       "      <td>75</td>\n",
       "      <td>8.23</td>\n",
       "      <td>AU</td>\n",
       "      <td>Sun May  2 22:28:33 2021</td>\n",
       "    </tr>\n",
       "    <tr>\n",
       "      <th>1</th>\n",
       "      <td>Uruaçu</td>\n",
       "      <td>-14.5247</td>\n",
       "      <td>-49.1408</td>\n",
       "      <td>293.85</td>\n",
       "      <td>70</td>\n",
       "      <td>3</td>\n",
       "      <td>1.51</td>\n",
       "      <td>BR</td>\n",
       "      <td>Sun May  2 22:28:34 2021</td>\n",
       "    </tr>\n",
       "    <tr>\n",
       "      <th>2</th>\n",
       "      <td>Mount Gambier</td>\n",
       "      <td>-37.8333</td>\n",
       "      <td>140.7667</td>\n",
       "      <td>288.15</td>\n",
       "      <td>82</td>\n",
       "      <td>75</td>\n",
       "      <td>8.23</td>\n",
       "      <td>AU</td>\n",
       "      <td>Sun May  2 22:28:35 2021</td>\n",
       "    </tr>\n",
       "    <tr>\n",
       "      <th>3</th>\n",
       "      <td>Bongandanga</td>\n",
       "      <td>1.5000</td>\n",
       "      <td>21.0500</td>\n",
       "      <td>294.58</td>\n",
       "      <td>89</td>\n",
       "      <td>100</td>\n",
       "      <td>1.03</td>\n",
       "      <td>CD</td>\n",
       "      <td>Sun May  2 22:28:37 2021</td>\n",
       "    </tr>\n",
       "    <tr>\n",
       "      <th>4</th>\n",
       "      <td>Hithadhoo</td>\n",
       "      <td>-0.6000</td>\n",
       "      <td>73.0833</td>\n",
       "      <td>301.77</td>\n",
       "      <td>71</td>\n",
       "      <td>98</td>\n",
       "      <td>5.47</td>\n",
       "      <td>MV</td>\n",
       "      <td>Sun May  2 22:28:38 2021</td>\n",
       "    </tr>\n",
       "  </tbody>\n",
       "</table>\n",
       "</div>"
      ],
      "text/plain": [
       "            City      Lat       Lng  Max Temp  Humidity  Cloudiness  \\\n",
       "0         Hobart -42.8794  147.3294    285.93        87          75   \n",
       "1         Uruaçu -14.5247  -49.1408    293.85        70           3   \n",
       "2  Mount Gambier -37.8333  140.7667    288.15        82          75   \n",
       "3    Bongandanga   1.5000   21.0500    294.58        89         100   \n",
       "4      Hithadhoo  -0.6000   73.0833    301.77        71          98   \n",
       "\n",
       "   Wind Speed Country                      Date  \n",
       "0        8.23      AU  Sun May  2 22:28:33 2021  \n",
       "1        1.51      BR  Sun May  2 22:28:34 2021  \n",
       "2        8.23      AU  Sun May  2 22:28:35 2021  \n",
       "3        1.03      CD  Sun May  2 22:28:37 2021  \n",
       "4        5.47      MV  Sun May  2 22:28:38 2021  "
      ]
     },
     "execution_count": 5,
     "metadata": {},
     "output_type": "execute_result"
    }
   ],
   "source": [
    "weather_dt ={\"City\":cityname,\"Lat\":lat,\"Lng\":lng,\"Max Temp\":max_temp,\"Humidity\":humidity,\"Cloudiness\":cloudiness,\n",
    "             \"Wind Speed\":wind_speed,\"Country\":country,\"Date\":date}\n",
    "weather_df =pd.DataFrame(weather_dt)\n",
    "weather_df.to_csv('output_data/cities.csv')\n",
    "weather_df.head()"
   ]
  },
  {
   "cell_type": "code",
   "execution_count": 6,
   "metadata": {},
   "outputs": [
    {
     "data": {
      "text/html": [
       "<div>\n",
       "<style scoped>\n",
       "    .dataframe tbody tr th:only-of-type {\n",
       "        vertical-align: middle;\n",
       "    }\n",
       "\n",
       "    .dataframe tbody tr th {\n",
       "        vertical-align: top;\n",
       "    }\n",
       "\n",
       "    .dataframe thead th {\n",
       "        text-align: right;\n",
       "    }\n",
       "</style>\n",
       "<table border=\"1\" class=\"dataframe\">\n",
       "  <thead>\n",
       "    <tr style=\"text-align: right;\">\n",
       "      <th></th>\n",
       "      <th>Lat</th>\n",
       "      <th>Lng</th>\n",
       "      <th>Max Temp</th>\n",
       "      <th>Humidity</th>\n",
       "      <th>Cloudiness</th>\n",
       "      <th>Wind Speed</th>\n",
       "    </tr>\n",
       "  </thead>\n",
       "  <tbody>\n",
       "    <tr>\n",
       "      <th>count</th>\n",
       "      <td>560.000000</td>\n",
       "      <td>560.000000</td>\n",
       "      <td>560.000000</td>\n",
       "      <td>560.000000</td>\n",
       "      <td>560.000000</td>\n",
       "      <td>560.000000</td>\n",
       "    </tr>\n",
       "    <tr>\n",
       "      <th>mean</th>\n",
       "      <td>18.530095</td>\n",
       "      <td>23.703347</td>\n",
       "      <td>290.309214</td>\n",
       "      <td>70.457143</td>\n",
       "      <td>54.782143</td>\n",
       "      <td>3.472161</td>\n",
       "    </tr>\n",
       "    <tr>\n",
       "      <th>std</th>\n",
       "      <td>32.803677</td>\n",
       "      <td>90.760259</td>\n",
       "      <td>10.060604</td>\n",
       "      <td>20.312979</td>\n",
       "      <td>38.805635</td>\n",
       "      <td>2.402512</td>\n",
       "    </tr>\n",
       "    <tr>\n",
       "      <th>min</th>\n",
       "      <td>-54.800000</td>\n",
       "      <td>-175.200000</td>\n",
       "      <td>264.150000</td>\n",
       "      <td>10.000000</td>\n",
       "      <td>0.000000</td>\n",
       "      <td>0.050000</td>\n",
       "    </tr>\n",
       "    <tr>\n",
       "      <th>25%</th>\n",
       "      <td>-8.242950</td>\n",
       "      <td>-56.142300</td>\n",
       "      <td>284.202500</td>\n",
       "      <td>58.000000</td>\n",
       "      <td>15.000000</td>\n",
       "      <td>1.777500</td>\n",
       "    </tr>\n",
       "    <tr>\n",
       "      <th>50%</th>\n",
       "      <td>20.674000</td>\n",
       "      <td>27.694800</td>\n",
       "      <td>292.150000</td>\n",
       "      <td>74.000000</td>\n",
       "      <td>68.000000</td>\n",
       "      <td>2.980000</td>\n",
       "    </tr>\n",
       "    <tr>\n",
       "      <th>75%</th>\n",
       "      <td>46.419875</td>\n",
       "      <td>108.033100</td>\n",
       "      <td>298.150000</td>\n",
       "      <td>87.000000</td>\n",
       "      <td>94.000000</td>\n",
       "      <td>4.630000</td>\n",
       "    </tr>\n",
       "    <tr>\n",
       "      <th>max</th>\n",
       "      <td>78.218600</td>\n",
       "      <td>179.316700</td>\n",
       "      <td>306.150000</td>\n",
       "      <td>100.000000</td>\n",
       "      <td>100.000000</td>\n",
       "      <td>22.120000</td>\n",
       "    </tr>\n",
       "  </tbody>\n",
       "</table>\n",
       "</div>"
      ],
      "text/plain": [
       "              Lat         Lng    Max Temp    Humidity  Cloudiness  Wind Speed\n",
       "count  560.000000  560.000000  560.000000  560.000000  560.000000  560.000000\n",
       "mean    18.530095   23.703347  290.309214   70.457143   54.782143    3.472161\n",
       "std     32.803677   90.760259   10.060604   20.312979   38.805635    2.402512\n",
       "min    -54.800000 -175.200000  264.150000   10.000000    0.000000    0.050000\n",
       "25%     -8.242950  -56.142300  284.202500   58.000000   15.000000    1.777500\n",
       "50%     20.674000   27.694800  292.150000   74.000000   68.000000    2.980000\n",
       "75%     46.419875  108.033100  298.150000   87.000000   94.000000    4.630000\n",
       "max     78.218600  179.316700  306.150000  100.000000  100.000000   22.120000"
      ]
     },
     "execution_count": 6,
     "metadata": {},
     "output_type": "execute_result"
    }
   ],
   "source": [
    "weather_df.describe()"
   ]
  },
  {
   "cell_type": "markdown",
   "metadata": {},
   "source": [
    "## Inspect the data and remove the cities where the humidity > 100%.\n",
    "----\n",
    "Skip this step if there are no cities that have humidity > 100%. "
   ]
  },
  {
   "cell_type": "code",
   "execution_count": 7,
   "metadata": {},
   "outputs": [],
   "source": [
    "#  Get the indices of cities that have humidity over 100%."
   ]
  },
  {
   "cell_type": "code",
   "execution_count": 8,
   "metadata": {},
   "outputs": [],
   "source": [
    "# Make a new DataFrame equal to the city data to drop all humidity outliers by index.\n",
    "# Passing \"inplace=False\" will make a copy of the city_data DataFrame, which we call \"clean_city_data\"."
   ]
  },
  {
   "cell_type": "markdown",
   "metadata": {},
   "source": [
    "## Plotting the Data\n",
    "* Use proper labeling of the plots using plot titles (including date of analysis) and axes labels.\n",
    "* Save the plotted figures as .pngs."
   ]
  },
  {
   "cell_type": "markdown",
   "metadata": {},
   "source": [
    "## Latitude vs. Temperature Plot"
   ]
  },
  {
   "cell_type": "code",
   "execution_count": 9,
   "metadata": {},
   "outputs": [
    {
     "data": {
      "image/png": "[encoded data removed]",
      "text/plain": [
       "<Figure size 432x288 with 1 Axes>"
      ]
     },
     "metadata": {
      "needs_background": "light"
     },
     "output_type": "display_data"
    }
   ],
   "source": [
    "plt.scatter(weather_df[\"Lat\"], weather_df[\"Max Temp\"], marker=\"o\")\n",
    "\n",
    "plt.title(\"Max Temperature vs City Latitude\")\n",
    "plt.ylabel(\"Temperature (F)\")\n",
    "plt.xlabel(\"Latitude\")\n",
    "plt.grid(True)\n",
    "\n",
    "plt.savefig(\"output_data/MaxTemperaturevsCityLatitude.png\")\n",
    "\n",
    "plt.show()"
   ]
  },
  {
   "cell_type": "markdown",
   "metadata": {},
   "source": [
    "The above graph is showing the cities maxium temperature in relation to the cities latitude."
   ]
  },
  {
   "cell_type": "markdown",
   "metadata": {},
   "source": [
    "## Latitude vs. Humidity Plot"
   ]
  },
  {
   "cell_type": "code",
   "execution_count": 10,
   "metadata": {},
   "outputs": [
    {
     "data": {
      "image/png": "[encoded data removed]",
      "text/plain": [
       "<Figure size 432x288 with 1 Axes>"
      ]
     },
     "metadata": {
      "needs_background": "light"
     },
     "output_type": "display_data"
    }
   ],
   "source": [
    "plt.scatter(weather_df[\"Lat\"], weather_df[\"Humidity\"], marker=\"o\")\n",
    "\n",
    "plt.title(\"Humidity vs City Latitude\")\n",
    "plt.ylabel(\"Humidity (%)\")\n",
    "plt.xlabel(\"Latitude\")\n",
    "plt.grid(True)\n",
    "\n",
    "plt.savefig(\"output_data/HumidityvsCityLatitude.png\")\n",
    "\n",
    "plt.show()"
   ]
  },
  {
   "cell_type": "markdown",
   "metadata": {},
   "source": [
    "The above graph is showing the cities humidity in relation to the cities latitude."
   ]
  },
  {
   "cell_type": "markdown",
   "metadata": {},
   "source": [
    "## Latitude vs. Cloudiness Plot"
   ]
  },
  {
   "cell_type": "code",
   "execution_count": 11,
   "metadata": {},
   "outputs": [
    {
     "data": {
      "image/png": "[encoded data removed]",
      "text/plain": [
       "<Figure size 432x288 with 1 Axes>"
      ]
     },
     "metadata": {
      "needs_background": "light"
     },
     "output_type": "display_data"
    }
   ],
   "source": [
    "plt.scatter(weather_df[\"Lat\"], weather_df[\"Cloudiness\"], marker=\"o\")\n",
    "\n",
    "plt.title(\"Cloudiness vs City Latitude\")\n",
    "plt.ylabel(\"Cloudiness (%)\")\n",
    "plt.xlabel(\"Latitude\")\n",
    "plt.grid(True)\n",
    "\n",
    "plt.savefig(\"output_data/CloudinessvsCityLatitude.png\")\n",
    "\n",
    "plt.show()"
   ]
  },
  {
   "cell_type": "markdown",
   "metadata": {},
   "source": [
    "The above graph is showing the cities cloudiness in relation to the cities latitude."
   ]
  },
  {
   "cell_type": "markdown",
   "metadata": {},
   "source": [
    "## Latitude vs. Wind Speed Plot"
   ]
  },
  {
   "cell_type": "code",
   "execution_count": 12,
   "metadata": {},
   "outputs": [
    {
     "data": {
      "image/png": "[encoded data removed]",
      "text/plain": [
       "<Figure size 432x288 with 1 Axes>"
      ]
     },
     "metadata": {
      "needs_background": "light"
     },
     "output_type": "display_data"
    }
   ],
   "source": [
    "plt.scatter(weather_df[\"Lat\"], weather_df[\"Wind Speed\"], marker=\"o\")\n",
    "\n",
    "plt.title(\"Wind Speed vs City Latitude\")\n",
    "plt.ylabel(\"Wind Speed (mph)\")\n",
    "plt.xlabel(\"Latitude\")\n",
    "plt.grid(True)\n",
    "\n",
    "plt.savefig(\"output_data/WindSpeedvsCityLatitude.png\")\n",
    "\n",
    "plt.show()"
   ]
  },
  {
   "cell_type": "markdown",
   "metadata": {},
   "source": [
    "The above graph is showing the cities wind speed in relation to the cities latitude."
   ]
  },
  {
   "cell_type": "markdown",
   "metadata": {},
   "source": [
    "## Linear Regression"
   ]
  },
  {
   "cell_type": "code",
   "execution_count": 13,
   "metadata": {},
   "outputs": [],
   "source": [
    "north_weather =weather_df.loc[weather_df[\"Lat\"] >= 0]\n",
    "\n",
    "south_weather =weather_df.loc[weather_df[\"Lat\"] < 0]"
   ]
  },
  {
   "cell_type": "markdown",
   "metadata": {},
   "source": [
    "####  Northern Hemisphere - Max Temp vs. Latitude Linear Regression"
   ]
  },
  {
   "cell_type": "code",
   "execution_count": 14,
   "metadata": {},
   "outputs": [
    {
     "data": {
      "text/plain": [
       "'y = -0.48x +306.6'"
      ]
     },
     "execution_count": 14,
     "metadata": {},
     "output_type": "execute_result"
    }
   ],
   "source": [
    "(slope, intercept, rvalue, pvalue, stderr) = linregress(north_weather[\"Lat\"], north_weather[\"Max Temp\"])\n",
    "\n",
    "regress_values = north_weather[\"Lat\"] * slope + intercept\n",
    "line_eq = \"y = \" + str(round(slope,2)) + \"x +\" + str(round(intercept,2))\n",
    "\n",
    "line_eq"
   ]
  },
  {
   "cell_type": "code",
   "execution_count": 15,
   "metadata": {},
   "outputs": [
    {
     "name": "stdout",
     "output_type": "stream",
     "text": [
      "The r-value is: 0.8045250427925518\n"
     ]
    },
    {
     "data": {
      "image/png": "[encoded data removed]",
      "text/plain": [
       "<Figure size 432x288 with 1 Axes>"
      ]
     },
     "metadata": {
      "needs_background": "light"
     },
     "output_type": "display_data"
    }
   ],
   "source": [
    "plt.scatter(north_weather[\"Lat\"],north_weather[\"Max Temp\"])\n",
    "plt.plot(north_weather[\"Lat\"],regress_values,\"r-\")\n",
    "\n",
    "plt.xlabel('Latitude')\n",
    "plt.ylabel('Temperature (F)')\n",
    "plt.annotate(line_eq, (5,5), fontsize=15,color=\"red\")\n",
    "\n",
    "print(f\"The r-value is: {rvalue**2}\")\n",
    "\n",
    "plt.savefig(\"output_data/NMaxTempvsLatitude.png\")\n",
    "\n",
    "plt.show()"
   ]
  },
  {
   "cell_type": "markdown",
   "metadata": {},
   "source": [
    "####  Southern Hemisphere - Max Temp vs. Latitude Linear Regression"
   ]
  },
  {
   "cell_type": "code",
   "execution_count": 16,
   "metadata": {},
   "outputs": [
    {
     "data": {
      "text/plain": [
       "'y = 0.26x +299.18'"
      ]
     },
     "execution_count": 16,
     "metadata": {},
     "output_type": "execute_result"
    }
   ],
   "source": [
    "(slope, intercept, rvalue, pvalue, stderr) = linregress(south_weather[\"Lat\"], south_weather[\"Max Temp\"])\n",
    "\n",
    "regress_values = south_weather[\"Lat\"] * slope + intercept\n",
    "line_eq = \"y = \" + str(round(slope,2)) + \"x +\" + str(round(intercept,2))\n",
    "\n",
    "line_eq"
   ]
  },
  {
   "cell_type": "code",
   "execution_count": 17,
   "metadata": {},
   "outputs": [
    {
     "name": "stdout",
     "output_type": "stream",
     "text": [
      "The r-value is: 0.32544992378966947\n"
     ]
    },
    {
     "data": {
      "image/png": "[encoded data removed]",
      "text/plain": [
       "<Figure size 432x288 with 1 Axes>"
      ]
     },
     "metadata": {
      "needs_background": "light"
     },
     "output_type": "display_data"
    }
   ],
   "source": [
    "plt.scatter(south_weather[\"Lat\"],south_weather[\"Max Temp\"])\n",
    "plt.plot(south_weather[\"Lat\"],regress_values,\"r-\")\n",
    "\n",
    "plt.xlabel('Latitude')\n",
    "plt.ylabel('Temperature (F)')\n",
    "plt.annotate(line_eq, (5,5), fontsize=15,color=\"red\")\n",
    "\n",
    "print(f\"The r-value is: {rvalue**2}\")\n",
    "\n",
    "plt.savefig(\"output_data/SMaxTempvsLatitude.png\")\n",
    "\n",
    "plt.show()"
   ]
  },
  {
   "cell_type": "markdown",
   "metadata": {},
   "source": [
    "####  Northern Hemisphere - Humidity (%) vs. Latitude Linear Regression"
   ]
  },
  {
   "cell_type": "code",
   "execution_count": 18,
   "metadata": {},
   "outputs": [
    {
     "data": {
      "text/plain": [
       "'y = 0.05x +66.4'"
      ]
     },
     "execution_count": 18,
     "metadata": {},
     "output_type": "execute_result"
    }
   ],
   "source": [
    "(slope, intercept, rvalue, pvalue, stderr) = linregress(north_weather[\"Lat\"], north_weather[\"Humidity\"])\n",
    "\n",
    "regress_values = north_weather[\"Lat\"] * slope + intercept\n",
    "line_eq = \"y = \" + str(round(slope,2)) + \"x +\" + str(round(intercept,2))\n",
    "\n",
    "line_eq"
   ]
  },
  {
   "cell_type": "code",
   "execution_count": 19,
   "metadata": {},
   "outputs": [
    {
     "name": "stdout",
     "output_type": "stream",
     "text": [
      "The r-value is: 0.0021913191109068017\n"
     ]
    },
    {
     "data": {
      "image/png": "[encoded data removed]",
      "text/plain": [
       "<Figure size 432x288 with 1 Axes>"
      ]
     },
     "metadata": {
      "needs_background": "light"
     },
     "output_type": "display_data"
    }
   ],
   "source": [
    "plt.scatter(north_weather[\"Lat\"],north_weather[\"Humidity\"])\n",
    "plt.plot(north_weather[\"Lat\"],regress_values,\"r-\")\n",
    "\n",
    "plt.xlabel('Latitude')\n",
    "plt.ylabel('Humidity (%)')\n",
    "plt.annotate(line_eq, (5,5), fontsize=15,color=\"red\")\n",
    "\n",
    "print(f\"The r-value is: {rvalue**2}\")\n",
    "\n",
    "plt.savefig(\"output_data/NHumidityvsLatitude.png\")\n",
    "\n",
    "plt.show()"
   ]
  },
  {
   "cell_type": "markdown",
   "metadata": {},
   "source": [
    "####  Southern Hemisphere - Humidity (%) vs. Latitude Linear Regression"
   ]
  },
  {
   "cell_type": "code",
   "execution_count": 20,
   "metadata": {},
   "outputs": [
    {
     "data": {
      "text/plain": [
       "'y = 0.35x +81.97'"
      ]
     },
     "execution_count": 20,
     "metadata": {},
     "output_type": "execute_result"
    }
   ],
   "source": [
    "(slope, intercept, rvalue, pvalue, stderr) = linregress(south_weather[\"Lat\"], south_weather[\"Humidity\"])\n",
    "\n",
    "regress_values = south_weather[\"Lat\"] * slope + intercept\n",
    "line_eq = \"y = \" + str(round(slope,2)) + \"x +\" + str(round(intercept,2))\n",
    "\n",
    "line_eq"
   ]
  },
  {
   "cell_type": "code",
   "execution_count": 21,
   "metadata": {},
   "outputs": [
    {
     "name": "stdout",
     "output_type": "stream",
     "text": [
      "The r-value is: 0.0690075361124046\n"
     ]
    },
    {
     "data": {
      "image/png": "[encoded data removed]",
      "text/plain": [
       "<Figure size 432x288 with 1 Axes>"
      ]
     },
     "metadata": {
      "needs_background": "light"
     },
     "output_type": "display_data"
    }
   ],
   "source": [
    "plt.scatter(south_weather[\"Lat\"],south_weather[\"Humidity\"])\n",
    "plt.plot(south_weather[\"Lat\"],regress_values,\"r-\")\n",
    "\n",
    "plt.xlabel('Latitude')\n",
    "plt.ylabel('Humidity (%)')\n",
    "plt.annotate(line_eq, (5,5), fontsize=15,color=\"red\")\n",
    "\n",
    "print(f\"The r-value is: {rvalue**2}\")\n",
    "\n",
    "plt.savefig(\"output_data/SHumidityvsLatitude.png\")\n",
    "\n",
    "plt.show()"
   ]
  },
  {
   "cell_type": "markdown",
   "metadata": {},
   "source": [
    "####  Northern Hemisphere - Cloudiness (%) vs. Latitude Linear Regression"
   ]
  },
  {
   "cell_type": "code",
   "execution_count": 22,
   "metadata": {},
   "outputs": [
    {
     "data": {
      "text/plain": [
       "'y = 0.0x +56.32'"
      ]
     },
     "execution_count": 22,
     "metadata": {},
     "output_type": "execute_result"
    }
   ],
   "source": [
    "(slope, intercept, rvalue, pvalue, stderr) = linregress(north_weather[\"Lat\"], north_weather[\"Cloudiness\"])\n",
    "\n",
    "regress_values = north_weather[\"Lat\"] * slope + intercept\n",
    "line_eq = \"y = \" + str(round(slope,2)) + \"x +\" + str(round(intercept,2))\n",
    "\n",
    "line_eq"
   ]
  },
  {
   "cell_type": "code",
   "execution_count": 23,
   "metadata": {},
   "outputs": [
    {
     "name": "stdout",
     "output_type": "stream",
     "text": [
      "The r-value is: 6.243900326374924e-06\n"
     ]
    },
    {
     "data": {
      "image/png": "[encoded data removed]",
      "text/plain": [
       "<Figure size 432x288 with 1 Axes>"
      ]
     },
     "metadata": {
      "needs_background": "light"
     },
     "output_type": "display_data"
    }
   ],
   "source": [
    "plt.scatter(north_weather[\"Lat\"],north_weather[\"Cloudiness\"])\n",
    "plt.plot(north_weather[\"Lat\"],regress_values,\"r-\")\n",
    "\n",
    "plt.xlabel('Latitude')\n",
    "plt.ylabel('Cloudiness (%)')\n",
    "plt.annotate(line_eq, (5,5), fontsize=15,color=\"red\")\n",
    "\n",
    "print(f\"The r-value is: {rvalue**2}\")\n",
    "\n",
    "plt.savefig(\"output_data/NCloudinessvsLatitude.png\")\n",
    "\n",
    "plt.show()"
   ]
  },
  {
   "cell_type": "markdown",
   "metadata": {},
   "source": [
    "####  Southern Hemisphere - Cloudiness (%) vs. Latitude Linear Regression"
   ]
  },
  {
   "cell_type": "code",
   "execution_count": 24,
   "metadata": {},
   "outputs": [
    {
     "data": {
      "text/plain": [
       "'y = 0.71x +65.44'"
      ]
     },
     "execution_count": 24,
     "metadata": {},
     "output_type": "execute_result"
    }
   ],
   "source": [
    "(slope, intercept, rvalue, pvalue, stderr) = linregress(south_weather[\"Lat\"], south_weather[\"Cloudiness\"])\n",
    "\n",
    "regress_values = south_weather[\"Lat\"] * slope + intercept\n",
    "line_eq = \"y = \" + str(round(slope,2)) + \"x +\" + str(round(intercept,2))\n",
    "\n",
    "line_eq"
   ]
  },
  {
   "cell_type": "code",
   "execution_count": 25,
   "metadata": {},
   "outputs": [
    {
     "name": "stdout",
     "output_type": "stream",
     "text": [
      "The r-value is: 0.05820906674695822\n"
     ]
    },
    {
     "data": {
      "image/png": "[encoded data removed]",
      "text/plain": [
       "<Figure size 432x288 with 1 Axes>"
      ]
     },
     "metadata": {
      "needs_background": "light"
     },
     "output_type": "display_data"
    }
   ],
   "source": [
    "plt.scatter(south_weather[\"Lat\"],south_weather[\"Cloudiness\"])\n",
    "plt.plot(south_weather[\"Lat\"],regress_values,\"r-\")\n",
    "\n",
    "plt.xlabel('Latitude')\n",
    "plt.ylabel('Cloudiness (%)')\n",
    "plt.annotate(line_eq, (5,5), fontsize=15,color=\"red\")\n",
    "\n",
    "print(f\"The r-value is: {rvalue**2}\")\n",
    "\n",
    "plt.savefig(\"output_data/SCloudinessvsLatitude.png\")\n",
    "\n",
    "plt.show()"
   ]
  },
  {
   "cell_type": "markdown",
   "metadata": {},
   "source": [
    "####  Northern Hemisphere - Wind Speed (mph) vs. Latitude Linear Regression"
   ]
  },
  {
   "cell_type": "code",
   "execution_count": 26,
   "metadata": {},
   "outputs": [
    {
     "data": {
      "text/plain": [
       "'y = 0.02x +3.13'"
      ]
     },
     "execution_count": 26,
     "metadata": {},
     "output_type": "execute_result"
    }
   ],
   "source": [
    "(slope, intercept, rvalue, pvalue, stderr) = linregress(north_weather[\"Lat\"], north_weather[\"Wind Speed\"])\n",
    "\n",
    "regress_values = north_weather[\"Lat\"] * slope + intercept\n",
    "line_eq = \"y = \" + str(round(slope,2)) + \"x +\" + str(round(intercept,2))\n",
    "\n",
    "line_eq"
   ]
  },
  {
   "cell_type": "code",
   "execution_count": 27,
   "metadata": {},
   "outputs": [
    {
     "name": "stdout",
     "output_type": "stream",
     "text": [
      "The r-value is: 0.016507762605614224\n"
     ]
    },
    {
     "data": {
      "image/png": "[encoded data removed]",
      "text/plain": [
       "<Figure size 432x288 with 1 Axes>"
      ]
     },
     "metadata": {
      "needs_background": "light"
     },
     "output_type": "display_data"
    }
   ],
   "source": [
    "plt.scatter(north_weather[\"Lat\"],north_weather[\"Wind Speed\"])\n",
    "plt.plot(north_weather[\"Lat\"],regress_values,\"r-\")\n",
    "\n",
    "plt.xlabel('Latitude')\n",
    "plt.ylabel('Wind Speed (mph)')\n",
    "plt.annotate(line_eq, (5,5), fontsize=15,color=\"red\")\n",
    "\n",
    "print(f\"The r-value is: {rvalue**2}\")\n",
    "\n",
    "plt.savefig(\"output_data/NWindSpeedvsLatitude.png\")\n",
    "\n",
    "plt.show()"
   ]
  },
  {
   "cell_type": "markdown",
   "metadata": {},
   "source": [
    "####  Southern Hemisphere - Wind Speed (mph) vs. Latitude Linear Regression"
   ]
  },
  {
   "cell_type": "code",
   "execution_count": 28,
   "metadata": {},
   "outputs": [
    {
     "data": {
      "text/plain": [
       "'y = -0.02x +2.65'"
      ]
     },
     "execution_count": 28,
     "metadata": {},
     "output_type": "execute_result"
    }
   ],
   "source": [
    "(slope, intercept, rvalue, pvalue, stderr) = linregress(south_weather[\"Lat\"], south_weather[\"Wind Speed\"])\n",
    "\n",
    "regress_values = south_weather[\"Lat\"] * slope + intercept\n",
    "line_eq = \"y = \" + str(round(slope,2)) + \"x +\" + str(round(intercept,2))\n",
    "\n",
    "line_eq"
   ]
  },
  {
   "cell_type": "code",
   "execution_count": 29,
   "metadata": {},
   "outputs": [
    {
     "name": "stdout",
     "output_type": "stream",
     "text": [
      "The r-value is: 0.01084671138357673\n"
     ]
    },
    {
     "data": {
      "image/png": "[encoded data removed]",
      "text/plain": [
       "<Figure size 432x288 with 1 Axes>"
      ]
     },
     "metadata": {
      "needs_background": "light"
     },
     "output_type": "display_data"
    }
   ],
   "source": [
    "plt.scatter(south_weather[\"Lat\"],south_weather[\"Wind Speed\"])\n",
    "plt.plot(south_weather[\"Lat\"],regress_values,\"r-\")\n",
    "\n",
    "plt.xlabel('Latitude')\n",
    "plt.ylabel('Wind Speed (mph)')\n",
    "plt.annotate(line_eq, (5,5), fontsize=15,color=\"red\")\n",
    "\n",
    "print(f\"The r-value is: {rvalue**2}\")\n",
    "\n",
    "plt.savefig(\"output_data/SWindSpeedvsLatitude.png\")\n",
    "\n",
    "plt.show()"
   ]
  },
  {
   "cell_type": "code",
   "execution_count": null,
   "metadata": {},
   "outputs": [],
   "source": []
  }
 ],
 "metadata": {
  "anaconda-cloud": {},
  "kernel_info": {
   "name": "python3"
  },
  "kernelspec": {
   "display_name": "PythonData",
   "language": "python",
   "name": "pythondata"
  },
  "language_info": {
   "codemirror_mode": {
    "name": "ipython",
    "version": 3
   },
   "file_extension": ".py",
   "mimetype": "text/x-python",
   "name": "python",
   "nbconvert_exporter": "python",
   "pygments_lexer": "ipython3",
   "version": "3.8.5"
  },
  "latex_envs": {
   "LaTeX_envs_menu_present": true,
   "autoclose": false,
   "autocomplete": true,
   "bibliofile": "biblio.bib",
   "cite_by": "apalike",
   "current_citInitial": 1,
   "eqLabelWithNumbers": true,
   "eqNumInitial": 1,
   "hotkeys": {
    "equation": "Ctrl-E",
    "itemize": "Ctrl-I"
   },
   "labels_anchors": false,
   "latex_user_defs": false,
   "report_style_numbering": false,
   "user_envs_cfg": false
  },
  "nteract": {
   "version": "0.12.3"
  }
 },
 "nbformat": 4,
 "nbformat_minor": 2
}
